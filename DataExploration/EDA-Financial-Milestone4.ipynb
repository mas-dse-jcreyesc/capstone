{
 "cells": [
  {
   "cell_type": "code",
   "execution_count": 6,
   "metadata": {},
   "outputs": [],
   "source": [
    "import pandas as pd\n",
    "import numpy as np\n",
    "from sklearn.cluster import KMeans\n",
    "from sklearn import metrics\n",
    "from scipy.spatial.distance import cdist\n",
    "from sklearn import preprocessing\n",
    "import seaborn as sns\n",
    "from sklearn.decomposition import PCA \n",
    "\n",
    "import matplotlib.pyplot as plt"
   ]
  },
  {
   "cell_type": "markdown",
   "metadata": {},
   "source": [
    "## EDA for Milestone 4"
   ]
  },
  {
   "cell_type": "code",
   "execution_count": 145,
   "metadata": {
    "collapsed": true
   },
   "outputs": [
    {
     "name": "stderr",
     "output_type": "stream",
     "text": [
      "/usr/local/lib/python3.6/dist-packages/IPython/core/interactiveshell.py:3044: DtypeWarning: Columns (6,9,12,22) have mixed types. Specify dtype option on import or set low_memory=False.\n",
      "  interactivity=interactivity, compiler=compiler, result=result)\n"
     ]
    }
   ],
   "source": [
    "df_original = pd.read_csv('../sample_data_2017_M4.csv')"
   ]
  },
  {
   "cell_type": "code",
   "execution_count": 146,
   "metadata": {},
   "outputs": [
    {
     "name": "stdout",
     "output_type": "stream",
     "text": [
      "<class 'pandas.core.frame.DataFrame'>\n",
      "Int64Index: 15377 entries, 49152 to 64528\n",
      "Data columns (total 33 columns):\n",
      "ActivityOrMissionDesc                    15375 non-null object\n",
      "BooksInCareOfDetail/USAddress/ZIPCode    15343 non-null float64\n",
      "CYSalariesCompEmpBnftPaidAmt             15377 non-null float64\n",
      "CYTotalExpensesAmt                       15377 non-null float64\n",
      "CYTotalProfFndrsngExpnsAmt               15377 non-null float64\n",
      "CYTotalRevenueAmt                        15377 non-null float64\n",
      "Desc                                     15328 non-null object\n",
      "EIN                                      15377 non-null int64\n",
      "EmployeeCnt                              15377 non-null float64\n",
      "FormType                                 15377 non-null object\n",
      "GovernmentGrantsAmt                      3692 non-null float64\n",
      "GrossReceiptsAmt                         15377 non-null float64\n",
      "MissionDesc                              15358 non-null object\n",
      "NetAssetsOrFundBalancesEOYAmt            15377 non-null float64\n",
      "OrganizationName                         15377 non-null object\n",
      "OtherSalariesAndWagesGrp/TotalAmt        10983 non-null float64\n",
      "PYSalariesCompEmpBnftPaidAmt             12793 non-null float64\n",
      "PYTotalExpensesAmt                       14944 non-null float64\n",
      "PYTotalProfFndrsngExpnsAmt               8068 non-null float64\n",
      "PYTotalRevenueAmt                        14971 non-null float64\n",
      "RelatedOrganizationsAmt                  1082 non-null float64\n",
      "RevenueAmt                               7883 non-null float64\n",
      "TaxExemptBondsInd                        7002 non-null object\n",
      "TaxPeriod                                15377 non-null int64\n",
      "TotalAssetsGrp/EOYAmt                    15377 non-null int64\n",
      "TotalContributionsAmt                    12976 non-null float64\n",
      "TotalEmployeeCnt                         15377 non-null float64\n",
      "TotalLiabilitiesGrp/EOYAmt               15377 non-null float64\n",
      "TotalNetAssetsFundBalanceGrp/EOYAmt      15377 non-null int64\n",
      "TotalVolunteersCnt                       11864 non-null float64\n",
      "URL                                      15377 non-null object\n",
      "WebsiteAddressTxt                        10627 non-null object\n",
      "_id                                      15377 non-null object\n",
      "dtypes: float64(20), int64(4), object(9)\n",
      "memory usage: 4.0+ MB\n"
     ]
    }
   ],
   "source": [
    "df_990 = df_original[df_original['FormType'] == '990']\n",
    "df_990EZ = df_original[df_original['FormType'] == '990EZ']\n",
    "df_990.info()"
   ]
  },
  {
   "cell_type": "code",
   "execution_count": 147,
   "metadata": {},
   "outputs": [
    {
     "name": "stdout",
     "output_type": "stream",
     "text": [
      "<class 'pandas.core.frame.DataFrame'>\n",
      "Int64Index: 43143 entries, 64529 to 107671\n",
      "Data columns (total 33 columns):\n",
      "ActivityOrMissionDesc                    43134 non-null object\n",
      "BooksInCareOfDetail/USAddress/ZIPCode    43100 non-null float64\n",
      "CYSalariesCompEmpBnftPaidAmt             0 non-null float64\n",
      "CYTotalExpensesAmt                       0 non-null float64\n",
      "CYTotalProfFndrsngExpnsAmt               0 non-null float64\n",
      "CYTotalRevenueAmt                        0 non-null float64\n",
      "Desc                                     0 non-null object\n",
      "EIN                                      43143 non-null int64\n",
      "EmployeeCnt                              0 non-null float64\n",
      "FormType                                 43143 non-null object\n",
      "GovernmentGrantsAmt                      0 non-null float64\n",
      "GrossReceiptsAmt                         42486 non-null float64\n",
      "MissionDesc                              0 non-null object\n",
      "NetAssetsOrFundBalancesEOYAmt            42399 non-null float64\n",
      "OrganizationName                         43143 non-null object\n",
      "OtherSalariesAndWagesGrp/TotalAmt        0 non-null float64\n",
      "PYSalariesCompEmpBnftPaidAmt             0 non-null float64\n",
      "PYTotalExpensesAmt                       0 non-null float64\n",
      "PYTotalProfFndrsngExpnsAmt               0 non-null float64\n",
      "PYTotalRevenueAmt                        0 non-null float64\n",
      "RelatedOrganizationsAmt                  0 non-null float64\n",
      "RevenueAmt                               42633 non-null float64\n",
      "TaxExemptBondsInd                        0 non-null object\n",
      "TaxPeriod                                43143 non-null int64\n",
      "TotalAssetsGrp/EOYAmt                    43143 non-null int64\n",
      "TotalContributionsAmt                    0 non-null float64\n",
      "TotalEmployeeCnt                         0 non-null float64\n",
      "TotalLiabilitiesGrp/EOYAmt               0 non-null float64\n",
      "TotalNetAssetsFundBalanceGrp/EOYAmt      43143 non-null int64\n",
      "TotalVolunteersCnt                       0 non-null float64\n",
      "URL                                      43143 non-null object\n",
      "WebsiteAddressTxt                        20015 non-null object\n",
      "_id                                      43143 non-null object\n",
      "dtypes: float64(20), int64(4), object(9)\n",
      "memory usage: 11.2+ MB\n"
     ]
    }
   ],
   "source": [
    "df_990EZ.info()"
   ]
  },
  {
   "cell_type": "code",
   "execution_count": 148,
   "metadata": {},
   "outputs": [],
   "source": [
    "df_original = df_original.drop(['ActivityOrMissionDesc'\n",
    "              , 'BooksInCareOfDetail/USAddress/ZIPCode'\n",
    "              , 'Desc'\n",
    "              , 'MissionDesc'\n",
    "              , 'OrganizationName'\n",
    "              , 'URL'\n",
    "              , 'WebsiteAddressTxt'\n",
    "              , '_id'\n",
    "              , 'FormType'\n",
    "              , 'TaxExemptBondsInd'\n",
    "              , 'TaxPeriod'\n",
    "             ], axis =1)"
   ]
  },
  {
   "cell_type": "code",
   "execution_count": 106,
   "metadata": {},
   "outputs": [],
   "source": [
    "def standardize(df):\n",
    "    df = df.fillna(0)\n",
    "    cols = df.loc[:, df.columns != 'EIN'].columns\n",
    "    df = pd.DataFrame(preprocessing.scale(df.loc[:, df.columns != 'EIN']))\n",
    "    df.columns = cols\n",
    "    df['EIN'] = df_original['EIN']\n",
    "    return df"
   ]
  },
  {
   "cell_type": "code",
   "execution_count": 5,
   "metadata": {},
   "outputs": [
    {
     "data": {
      "text/plain": [
       "<matplotlib.axes._subplots.AxesSubplot at 0x7fc006660b38>"
      ]
     },
     "execution_count": 5,
     "metadata": {},
     "output_type": "execute_result"
    },
    {
     "data": {
      "image/png": "[encoded data removed]",
      "text/plain": [
       "<Figure size 432x288 with 2 Axes>"
      ]
     },
     "metadata": {
      "needs_background": "light"
     },
     "output_type": "display_data"
    }
   ],
   "source": [
    "## correlation matrix\n",
    "## unsurprisingly, revenue-related fields are correlated, as are salary fields, net assets, etc.\n",
    "corr = df.corr()\n",
    "sns.heatmap(corr, \n",
    "            xticklabels=corr.columns.values,\n",
    "            yticklabels=corr.columns.values)"
   ]
  },
  {
   "cell_type": "markdown",
   "metadata": {},
   "source": [
    "### Decide how we want to handle missing data. Zero-fill probably not the best."
   ]
  },
  {
   "cell_type": "code",
   "execution_count": 112,
   "metadata": {},
   "outputs": [],
   "source": [
    "def PCA_components(df):\n",
    "    pca = PCA()\n",
    "    pca.fit(df.loc[:, df.columns != 'EIN'])\n",
    "    df_pca = pca.transform(df.loc[:, df.columns != 'EIN'])\n",
    "    var = pca.explained_variance_ratio_\n",
    "    var_cumsum = np.cumsum(var)\n",
    "    comp = range(1, len(var)+1)\n",
    "\n",
    "    %matplotlib inline\n",
    "    plt.plot(comp,var_cumsum)\n",
    "    plt.xlabel('Components')\n",
    "    plt.ylabel('% Variance')\n",
    "    plt.title('Variance explained by each component')\n",
    "    print(var_cumsum)"
   ]
  },
  {
   "cell_type": "code",
   "execution_count": 121,
   "metadata": {},
   "outputs": [],
   "source": [
    "def fit_pca(df, n):\n",
    "    pca = PCA(n_components = n)\n",
    "    pca.fit(df.loc[:, df.columns != 'EIN'])\n",
    "    df_pca = pca.transform(df.loc[:, df.columns != 'EIN'])\n",
    "    df_pca = pd.DataFrame(df_pca)\n",
    "    df_pca['EIN'] = df['EIN']\n",
    "    return df_pca"
   ]
  },
  {
   "cell_type": "code",
   "execution_count": 126,
   "metadata": {},
   "outputs": [],
   "source": [
    "def plot_elbow(df, k_max=50):\n",
    "    distortions = []\n",
    "    K = range(1, k_max)\n",
    "    for k in K:\n",
    "        kmeanModel = KMeans(n_clusters=k, init = 'k-means++', random_state = 0).fit(df.loc[:, df.columns != 'EIN'])\n",
    "        distortions.append(sum(np.min(cdist(df.loc[:, df.columns != 'EIN'], kmeanModel.cluster_centers_, 'euclidean'), axis=1)) / df.loc[:, df.columns != 'EIN'].shape[0])\n",
    "\n",
    "    # Plot the elbow\n",
    "    plt.plot(K, distortions, 'x')\n",
    "    plt.xlabel('k')\n",
    "    plt.ylabel('Distortion')\n",
    "    plt.show()"
   ]
  },
  {
   "cell_type": "code",
   "execution_count": 130,
   "metadata": {},
   "outputs": [],
   "source": [
    "def fit_kmeans(df, n):\n",
    "    model = KMeans(n_clusters = n, init = 'k-means++', random_state = 0).fit(df.loc[:, df.columns != 'EIN'])\n",
    "    return model"
   ]
  },
  {
   "cell_type": "code",
   "execution_count": 61,
   "metadata": {},
   "outputs": [
    {
     "data": {
      "text/html": [
       "<div>\n",
       "<style scoped>\n",
       "    .dataframe tbody tr th:only-of-type {\n",
       "        vertical-align: middle;\n",
       "    }\n",
       "\n",
       "    .dataframe tbody tr th {\n",
       "        vertical-align: top;\n",
       "    }\n",
       "\n",
       "    .dataframe thead th {\n",
       "        text-align: right;\n",
       "    }\n",
       "</style>\n",
       "<table border=\"1\" class=\"dataframe\">\n",
       "  <thead>\n",
       "    <tr style=\"text-align: right;\">\n",
       "      <th></th>\n",
       "      <th>0</th>\n",
       "      <th>1</th>\n",
       "      <th>2</th>\n",
       "      <th>3</th>\n",
       "      <th>4</th>\n",
       "      <th>5</th>\n",
       "      <th>6</th>\n",
       "      <th>7</th>\n",
       "      <th>EIN</th>\n",
       "    </tr>\n",
       "    <tr>\n",
       "      <th>k20_labels</th>\n",
       "      <th></th>\n",
       "      <th></th>\n",
       "      <th></th>\n",
       "      <th></th>\n",
       "      <th></th>\n",
       "      <th></th>\n",
       "      <th></th>\n",
       "      <th></th>\n",
       "      <th></th>\n",
       "    </tr>\n",
       "  </thead>\n",
       "  <tbody>\n",
       "    <tr>\n",
       "      <th>0</th>\n",
       "      <td>106757</td>\n",
       "      <td>106757</td>\n",
       "      <td>106757</td>\n",
       "      <td>106757</td>\n",
       "      <td>106757</td>\n",
       "      <td>106757</td>\n",
       "      <td>106757</td>\n",
       "      <td>106757</td>\n",
       "      <td>106757</td>\n",
       "    </tr>\n",
       "    <tr>\n",
       "      <th>1</th>\n",
       "      <td>1</td>\n",
       "      <td>1</td>\n",
       "      <td>1</td>\n",
       "      <td>1</td>\n",
       "      <td>1</td>\n",
       "      <td>1</td>\n",
       "      <td>1</td>\n",
       "      <td>1</td>\n",
       "      <td>1</td>\n",
       "    </tr>\n",
       "    <tr>\n",
       "      <th>2</th>\n",
       "      <td>1</td>\n",
       "      <td>1</td>\n",
       "      <td>1</td>\n",
       "      <td>1</td>\n",
       "      <td>1</td>\n",
       "      <td>1</td>\n",
       "      <td>1</td>\n",
       "      <td>1</td>\n",
       "      <td>1</td>\n",
       "    </tr>\n",
       "    <tr>\n",
       "      <th>3</th>\n",
       "      <td>1</td>\n",
       "      <td>1</td>\n",
       "      <td>1</td>\n",
       "      <td>1</td>\n",
       "      <td>1</td>\n",
       "      <td>1</td>\n",
       "      <td>1</td>\n",
       "      <td>1</td>\n",
       "      <td>1</td>\n",
       "    </tr>\n",
       "    <tr>\n",
       "      <th>4</th>\n",
       "      <td>1</td>\n",
       "      <td>1</td>\n",
       "      <td>1</td>\n",
       "      <td>1</td>\n",
       "      <td>1</td>\n",
       "      <td>1</td>\n",
       "      <td>1</td>\n",
       "      <td>1</td>\n",
       "      <td>1</td>\n",
       "    </tr>\n",
       "    <tr>\n",
       "      <th>5</th>\n",
       "      <td>13</td>\n",
       "      <td>13</td>\n",
       "      <td>13</td>\n",
       "      <td>13</td>\n",
       "      <td>13</td>\n",
       "      <td>13</td>\n",
       "      <td>13</td>\n",
       "      <td>13</td>\n",
       "      <td>13</td>\n",
       "    </tr>\n",
       "    <tr>\n",
       "      <th>6</th>\n",
       "      <td>30</td>\n",
       "      <td>30</td>\n",
       "      <td>30</td>\n",
       "      <td>30</td>\n",
       "      <td>30</td>\n",
       "      <td>30</td>\n",
       "      <td>30</td>\n",
       "      <td>30</td>\n",
       "      <td>30</td>\n",
       "    </tr>\n",
       "    <tr>\n",
       "      <th>7</th>\n",
       "      <td>1</td>\n",
       "      <td>1</td>\n",
       "      <td>1</td>\n",
       "      <td>1</td>\n",
       "      <td>1</td>\n",
       "      <td>1</td>\n",
       "      <td>1</td>\n",
       "      <td>1</td>\n",
       "      <td>1</td>\n",
       "    </tr>\n",
       "    <tr>\n",
       "      <th>8</th>\n",
       "      <td>9</td>\n",
       "      <td>9</td>\n",
       "      <td>9</td>\n",
       "      <td>9</td>\n",
       "      <td>9</td>\n",
       "      <td>9</td>\n",
       "      <td>9</td>\n",
       "      <td>9</td>\n",
       "      <td>9</td>\n",
       "    </tr>\n",
       "    <tr>\n",
       "      <th>9</th>\n",
       "      <td>6</td>\n",
       "      <td>6</td>\n",
       "      <td>6</td>\n",
       "      <td>6</td>\n",
       "      <td>6</td>\n",
       "      <td>6</td>\n",
       "      <td>6</td>\n",
       "      <td>6</td>\n",
       "      <td>6</td>\n",
       "    </tr>\n",
       "    <tr>\n",
       "      <th>10</th>\n",
       "      <td>1</td>\n",
       "      <td>1</td>\n",
       "      <td>1</td>\n",
       "      <td>1</td>\n",
       "      <td>1</td>\n",
       "      <td>1</td>\n",
       "      <td>1</td>\n",
       "      <td>1</td>\n",
       "      <td>1</td>\n",
       "    </tr>\n",
       "    <tr>\n",
       "      <th>11</th>\n",
       "      <td>333</td>\n",
       "      <td>333</td>\n",
       "      <td>333</td>\n",
       "      <td>333</td>\n",
       "      <td>333</td>\n",
       "      <td>333</td>\n",
       "      <td>333</td>\n",
       "      <td>333</td>\n",
       "      <td>333</td>\n",
       "    </tr>\n",
       "    <tr>\n",
       "      <th>12</th>\n",
       "      <td>23</td>\n",
       "      <td>23</td>\n",
       "      <td>23</td>\n",
       "      <td>23</td>\n",
       "      <td>23</td>\n",
       "      <td>23</td>\n",
       "      <td>23</td>\n",
       "      <td>23</td>\n",
       "      <td>23</td>\n",
       "    </tr>\n",
       "    <tr>\n",
       "      <th>13</th>\n",
       "      <td>10</td>\n",
       "      <td>10</td>\n",
       "      <td>10</td>\n",
       "      <td>10</td>\n",
       "      <td>10</td>\n",
       "      <td>10</td>\n",
       "      <td>10</td>\n",
       "      <td>10</td>\n",
       "      <td>10</td>\n",
       "    </tr>\n",
       "    <tr>\n",
       "      <th>14</th>\n",
       "      <td>24</td>\n",
       "      <td>24</td>\n",
       "      <td>24</td>\n",
       "      <td>24</td>\n",
       "      <td>24</td>\n",
       "      <td>24</td>\n",
       "      <td>24</td>\n",
       "      <td>24</td>\n",
       "      <td>24</td>\n",
       "    </tr>\n",
       "    <tr>\n",
       "      <th>15</th>\n",
       "      <td>133</td>\n",
       "      <td>133</td>\n",
       "      <td>133</td>\n",
       "      <td>133</td>\n",
       "      <td>133</td>\n",
       "      <td>133</td>\n",
       "      <td>133</td>\n",
       "      <td>133</td>\n",
       "      <td>133</td>\n",
       "    </tr>\n",
       "    <tr>\n",
       "      <th>16</th>\n",
       "      <td>1</td>\n",
       "      <td>1</td>\n",
       "      <td>1</td>\n",
       "      <td>1</td>\n",
       "      <td>1</td>\n",
       "      <td>1</td>\n",
       "      <td>1</td>\n",
       "      <td>1</td>\n",
       "      <td>1</td>\n",
       "    </tr>\n",
       "    <tr>\n",
       "      <th>17</th>\n",
       "      <td>84</td>\n",
       "      <td>84</td>\n",
       "      <td>84</td>\n",
       "      <td>84</td>\n",
       "      <td>84</td>\n",
       "      <td>84</td>\n",
       "      <td>84</td>\n",
       "      <td>84</td>\n",
       "      <td>84</td>\n",
       "    </tr>\n",
       "    <tr>\n",
       "      <th>18</th>\n",
       "      <td>165</td>\n",
       "      <td>165</td>\n",
       "      <td>165</td>\n",
       "      <td>165</td>\n",
       "      <td>165</td>\n",
       "      <td>165</td>\n",
       "      <td>165</td>\n",
       "      <td>165</td>\n",
       "      <td>165</td>\n",
       "    </tr>\n",
       "    <tr>\n",
       "      <th>19</th>\n",
       "      <td>78</td>\n",
       "      <td>78</td>\n",
       "      <td>78</td>\n",
       "      <td>78</td>\n",
       "      <td>78</td>\n",
       "      <td>78</td>\n",
       "      <td>78</td>\n",
       "      <td>78</td>\n",
       "      <td>78</td>\n",
       "    </tr>\n",
       "  </tbody>\n",
       "</table>\n",
       "</div>"
      ],
      "text/plain": [
       "                 0       1       2       3       4       5       6       7  \\\n",
       "k20_labels                                                                   \n",
       "0           106757  106757  106757  106757  106757  106757  106757  106757   \n",
       "1                1       1       1       1       1       1       1       1   \n",
       "2                1       1       1       1       1       1       1       1   \n",
       "3                1       1       1       1       1       1       1       1   \n",
       "4                1       1       1       1       1       1       1       1   \n",
       "5               13      13      13      13      13      13      13      13   \n",
       "6               30      30      30      30      30      30      30      30   \n",
       "7                1       1       1       1       1       1       1       1   \n",
       "8                9       9       9       9       9       9       9       9   \n",
       "9                6       6       6       6       6       6       6       6   \n",
       "10               1       1       1       1       1       1       1       1   \n",
       "11             333     333     333     333     333     333     333     333   \n",
       "12              23      23      23      23      23      23      23      23   \n",
       "13              10      10      10      10      10      10      10      10   \n",
       "14              24      24      24      24      24      24      24      24   \n",
       "15             133     133     133     133     133     133     133     133   \n",
       "16               1       1       1       1       1       1       1       1   \n",
       "17              84      84      84      84      84      84      84      84   \n",
       "18             165     165     165     165     165     165     165     165   \n",
       "19              78      78      78      78      78      78      78      78   \n",
       "\n",
       "               EIN  \n",
       "k20_labels          \n",
       "0           106757  \n",
       "1                1  \n",
       "2                1  \n",
       "3                1  \n",
       "4                1  \n",
       "5               13  \n",
       "6               30  \n",
       "7                1  \n",
       "8                9  \n",
       "9                6  \n",
       "10               1  \n",
       "11             333  \n",
       "12              23  \n",
       "13              10  \n",
       "14              24  \n",
       "15             133  \n",
       "16               1  \n",
       "17              84  \n",
       "18             165  \n",
       "19              78  "
      ]
     },
     "execution_count": 61,
     "metadata": {},
     "output_type": "execute_result"
    }
   ],
   "source": [
    "df_pca['k20_labels'] = k20.labels_\n",
    "df_pca.groupby('k20_labels').count()"
   ]
  },
  {
   "cell_type": "markdown",
   "metadata": {},
   "source": [
    "### Split data into groups based on EmployeeCnt and model separately"
   ]
  },
  {
   "cell_type": "code",
   "execution_count": 92,
   "metadata": {},
   "outputs": [
    {
     "name": "stdout",
     "output_type": "stream",
     "text": [
      "0.25%: 4.0\n",
      "0.5%: 12.0\n",
      "0.75%: 43.0\n",
      "0.9%: 166.0\n"
     ]
    }
   ],
   "source": [
    "for p in [0.25, 0.5, 0.75, 0.9]:\n",
    "    print(str(p) + '%: ' + str(df_original[df_original['EmployeeCnt'] != 0]['EmployeeCnt'].quantile(p)))"
   ]
  },
  {
   "cell_type": "code",
   "execution_count": 113,
   "metadata": {},
   "outputs": [],
   "source": [
    "df0 = df_original[df_original['EmployeeCnt'].isna()].append(df_original[df_original['EmployeeCnt'] == 0])\n",
    "df1 = df_original[df_original['EmployeeCnt'] > 0]\n",
    "df1 = df1[df1['EmployeeCnt'] < 50]\n",
    "df2 = df_original[df_original['EmployeeCnt'] >= 50]"
   ]
  },
  {
   "cell_type": "code",
   "execution_count": 114,
   "metadata": {},
   "outputs": [
    {
     "name": "stdout",
     "output_type": "stream",
     "text": [
      "True\n",
      "68954 29964 8754\n"
     ]
    }
   ],
   "source": [
    "print(len(df_original) == len(df0) + len(df1) + len(df2))\n",
    "print(len(df0), len(df1), len(df2))"
   ]
  },
  {
   "cell_type": "code",
   "execution_count": 115,
   "metadata": {
    "collapsed": true
   },
   "outputs": [
    {
     "name": "stderr",
     "output_type": "stream",
     "text": [
      "/usr/local/lib/python3.6/dist-packages/ipykernel_launcher.py:4: DataConversionWarning: Data with input dtype int64, float64 were all converted to float64 by the scale function.\n",
      "  after removing the cwd from sys.path.\n",
      "/usr/local/lib/python3.6/dist-packages/ipykernel_launcher.py:4: DataConversionWarning: Data with input dtype int64, float64 were all converted to float64 by the scale function.\n",
      "  after removing the cwd from sys.path.\n",
      "/usr/local/lib/python3.6/dist-packages/ipykernel_launcher.py:4: DataConversionWarning: Data with input dtype int64, float64 were all converted to float64 by the scale function.\n",
      "  after removing the cwd from sys.path.\n",
      "/usr/local/lib/python3.6/dist-packages/sklearn/preprocessing/data.py:176: UserWarning: Numerical issues were encountered when centering the data and might not be solved. Dataset may contain too large values. You may need to prescale your features.\n",
      "  warnings.warn(\"Numerical issues were encountered \"\n"
     ]
    }
   ],
   "source": [
    "df0 = standardize(df0)\n",
    "df1 = standardize(df1)\n",
    "df2 = standardize(df2)"
   ]
  },
  {
   "cell_type": "code",
   "execution_count": 119,
   "metadata": {},
   "outputs": [
    {
     "name": "stdout",
     "output_type": "stream",
     "text": [
      "[0.37467735 0.49505902 0.60857626 0.70396073 0.78715009 0.84773429\n",
      " 0.90455839 0.94214539 0.96522328 0.98047395 0.99450389 0.99848268\n",
      " 0.99961373 0.99982395 0.99990429 0.99994913 0.99998735 1.\n",
      " 1.         1.         1.        ]\n"
     ]
    },
    {
     "data": {
      "image/png": "[encoded data removed]",
      "text/plain": [
       "<Figure size 432x288 with 1 Axes>"
      ]
     },
     "metadata": {
      "needs_background": "light"
     },
     "output_type": "display_data"
    }
   ],
   "source": [
    "# PCA_components(df0) # 9 components\n",
    "# PCA_components(df1) # 11 components\n",
    "PCA_components(df2) # 9 components"
   ]
  },
  {
   "cell_type": "code",
   "execution_count": 122,
   "metadata": {},
   "outputs": [],
   "source": [
    "df00 = fit_pca(df0, 9)\n",
    "df11 = fit_pca(df1, 11)\n",
    "df22 = fit_pca(df2, 9)"
   ]
  },
  {
   "cell_type": "code",
   "execution_count": 127,
   "metadata": {},
   "outputs": [
    {
     "data": {
      "image/png": "[encoded data removed]",
      "text/plain": [
       "<Figure size 432x288 with 1 Axes>"
      ]
     },
     "metadata": {
      "needs_background": "light"
     },
     "output_type": "display_data"
    }
   ],
   "source": [
    "plot_elbow(df00)"
   ]
  },
  {
   "cell_type": "code",
   "execution_count": 128,
   "metadata": {},
   "outputs": [
    {
     "data": {
      "image/png": "[encoded data removed]",
      "text/plain": [
       "<Figure size 432x288 with 1 Axes>"
      ]
     },
     "metadata": {
      "needs_background": "light"
     },
     "output_type": "display_data"
    }
   ],
   "source": [
    "plot_elbow(df11)"
   ]
  },
  {
   "cell_type": "code",
   "execution_count": 129,
   "metadata": {},
   "outputs": [
    {
     "data": {
      "image/png": "[encoded data removed]",
      "text/plain": [
       "<Figure size 432x288 with 1 Axes>"
      ]
     },
     "metadata": {
      "needs_background": "light"
     },
     "output_type": "display_data"
    }
   ],
   "source": [
    "plot_elbow(df22)"
   ]
  },
  {
   "cell_type": "code",
   "execution_count": 144,
   "metadata": {},
   "outputs": [
    {
     "data": {
      "text/plain": [
       "labels\n",
       "0     67553\n",
       "1       891\n",
       "2         1\n",
       "3         2\n",
       "4         1\n",
       "5         1\n",
       "6         1\n",
       "7        17\n",
       "8         1\n",
       "9         6\n",
       "10        1\n",
       "11        1\n",
       "12        3\n",
       "13        4\n",
       "14       16\n",
       "15       13\n",
       "16       24\n",
       "17        5\n",
       "18      188\n",
       "19       55\n",
       "20        1\n",
       "21       11\n",
       "22       20\n",
       "23        1\n",
       "24       20\n",
       "25      107\n",
       "26        1\n",
       "27        1\n",
       "28        5\n",
       "29        3\n",
       "Name: EIN, dtype: int64"
      ]
     },
     "execution_count": 144,
     "metadata": {},
     "output_type": "execute_result"
    }
   ],
   "source": [
    "model = fit_kmeans(df00, 30)\n",
    "df00['labels'] = model.labels_\n",
    "df00.groupby('labels').count()['EIN']"
   ]
  },
  {
   "cell_type": "code",
   "execution_count": 138,
   "metadata": {},
   "outputs": [
    {
     "data": {
      "text/plain": [
       "labels\n",
       "0      1491\n",
       "1     13220\n",
       "2      3249\n",
       "3      7355\n",
       "4         2\n",
       "5      1949\n",
       "6      2185\n",
       "7         3\n",
       "8         1\n",
       "9        17\n",
       "10        1\n",
       "11       12\n",
       "12       64\n",
       "13       56\n",
       "14      305\n",
       "15        2\n",
       "16        3\n",
       "17        3\n",
       "18        7\n",
       "19       39\n",
       "Name: EIN, dtype: int64"
      ]
     },
     "execution_count": 138,
     "metadata": {},
     "output_type": "execute_result"
    }
   ],
   "source": [
    "model = fit_kmeans(df11, 20)\n",
    "df11['labels'] = model.labels_\n",
    "df11.groupby('labels').count()['EIN']"
   ]
  },
  {
   "cell_type": "code",
   "execution_count": 139,
   "metadata": {
    "scrolled": false
   },
   "outputs": [
    {
     "data": {
      "text/plain": [
       "labels\n",
       "0     7397\n",
       "1      417\n",
       "2        1\n",
       "3       40\n",
       "4        1\n",
       "5      394\n",
       "6        1\n",
       "7        4\n",
       "8        1\n",
       "9        1\n",
       "10       5\n",
       "11       4\n",
       "12       7\n",
       "13       1\n",
       "14     132\n",
       "15      33\n",
       "16      79\n",
       "17       3\n",
       "18       1\n",
       "19      54\n",
       "20      95\n",
       "21       6\n",
       "22      25\n",
       "23       1\n",
       "24       1\n",
       "25      11\n",
       "26       1\n",
       "27       8\n",
       "28       6\n",
       "29      24\n",
       "Name: EIN, dtype: int64"
      ]
     },
     "execution_count": 139,
     "metadata": {},
     "output_type": "execute_result"
    }
   ],
   "source": [
    "model = fit_kmeans(df22, 30)\n",
    "df22['labels'] = model.labels_\n",
    "df22.groupby('labels').count()['EIN']"
   ]
  },
  {
   "cell_type": "markdown",
   "metadata": {},
   "source": [
    "### Split data based on TotalAssetsGrp/EOYAmt"
   ]
  },
  {
   "cell_type": "code",
   "execution_count": 149,
   "metadata": {},
   "outputs": [
    {
     "name": "stdout",
     "output_type": "stream",
     "text": [
      "0.25%: 48984.75\n",
      "0.5%: 213382.0\n",
      "0.75%: 1185674.0\n",
      "0.9%: 6419648.0\n"
     ]
    }
   ],
   "source": [
    "for p in [0.25, 0.5, 0.75, 0.9]:\n",
    "    print(str(p) + '%: ' + str(df_original[df_original['TotalAssetsGrp/EOYAmt'] != 0]['TotalAssetsGrp/EOYAmt'].quantile(p)))"
   ]
  },
  {
   "cell_type": "code",
   "execution_count": 163,
   "metadata": {},
   "outputs": [
    {
     "data": {
      "text/plain": [
       "(array([1.07657e+05, 1.10000e+01, 2.00000e+00, 0.00000e+00, 0.00000e+00,\n",
       "        0.00000e+00, 0.00000e+00, 1.00000e+00, 0.00000e+00, 1.00000e+00]),\n",
       " array([-1.98639130e+07,  7.99319123e+09,  1.60062464e+10,  2.40193015e+10,\n",
       "         3.20323566e+10,  4.00454118e+10,  4.80584669e+10,  5.60715221e+10,\n",
       "         6.40845772e+10,  7.20976323e+10,  8.01106875e+10]),\n",
       " <a list of 10 Patch objects>)"
      ]
     },
     "execution_count": 163,
     "metadata": {},
     "output_type": "execute_result"
    },
    {
     "data": {
      "image/png": "[encoded data removed]",
      "text/plain": [
       "<Figure size 432x288 with 1 Axes>"
      ]
     },
     "metadata": {
      "needs_background": "light"
     },
     "output_type": "display_data"
    }
   ],
   "source": [
    "plt.hist(df_original['TotalAssetsGrp/EOYAmt'])"
   ]
  },
  {
   "cell_type": "code",
   "execution_count": 169,
   "metadata": {},
   "outputs": [],
   "source": [
    "df0 = df_original[df_original['TotalAssetsGrp/EOYAmt'] < 50000]\n",
    "df1 = df_original[df_original['TotalAssetsGrp/EOYAmt'] >= 50000]\n",
    "df1 = df1[df1['TotalAssetsGrp/EOYAmt'] < 1000000]\n",
    "df2 = df_original[df_original['TotalAssetsGrp/EOYAmt'] >= 1000000]"
   ]
  },
  {
   "cell_type": "code",
   "execution_count": 170,
   "metadata": {},
   "outputs": [
    {
     "name": "stdout",
     "output_type": "stream",
     "text": [
      "True\n",
      "28873 50198 28601\n"
     ]
    }
   ],
   "source": [
    "print(len(df_original) == len(df0) + len(df1) + len(df2))\n",
    "print(len(df0), len(df1), len(df2))"
   ]
  },
  {
   "cell_type": "code",
   "execution_count": 171,
   "metadata": {
    "collapsed": true
   },
   "outputs": [
    {
     "name": "stderr",
     "output_type": "stream",
     "text": [
      "/usr/local/lib/python3.6/dist-packages/ipykernel_launcher.py:4: DataConversionWarning: Data with input dtype int64, float64 were all converted to float64 by the scale function.\n",
      "  after removing the cwd from sys.path.\n",
      "/usr/local/lib/python3.6/dist-packages/ipykernel_launcher.py:4: DataConversionWarning: Data with input dtype int64, float64 were all converted to float64 by the scale function.\n",
      "  after removing the cwd from sys.path.\n",
      "/usr/local/lib/python3.6/dist-packages/ipykernel_launcher.py:4: DataConversionWarning: Data with input dtype int64, float64 were all converted to float64 by the scale function.\n",
      "  after removing the cwd from sys.path.\n"
     ]
    }
   ],
   "source": [
    "df0 = standardize(df0)\n",
    "df1 = standardize(df1)\n",
    "df2 = standardize(df2)"
   ]
  },
  {
   "cell_type": "code",
   "execution_count": 174,
   "metadata": {},
   "outputs": [
    {
     "name": "stdout",
     "output_type": "stream",
     "text": [
      "[0.42117397 0.54591463 0.66238029 0.75741731 0.82548974 0.88715386\n",
      " 0.92809236 0.95461694 0.97009446 0.98447884 0.99419154 0.9982434\n",
      " 0.99955996 0.99977344 0.99987758 0.9999306  0.99997927 0.99999839\n",
      " 1.         1.         1.        ]\n"
     ]
    },
    {
     "data": {
      "image/png": "[encoded data removed]",
      "text/plain": [
       "<Figure size 432x288 with 1 Axes>"
      ]
     },
     "metadata": {
      "needs_background": "light"
     },
     "output_type": "display_data"
    }
   ],
   "source": [
    "# PCA_components(df0) # 10 components\n",
    "# PCA_components(df1) # 11 components\n",
    "PCA_components(df2) # 8 components"
   ]
  },
  {
   "cell_type": "code",
   "execution_count": 175,
   "metadata": {},
   "outputs": [],
   "source": [
    "df00 = fit_pca(df0, 10)\n",
    "df11 = fit_pca(df1, 11)\n",
    "df22 = fit_pca(df2, 8)"
   ]
  },
  {
   "cell_type": "code",
   "execution_count": 176,
   "metadata": {},
   "outputs": [
    {
     "data": {
      "image/png": "[encoded data removed]",
      "text/plain": [
       "<Figure size 432x288 with 1 Axes>"
      ]
     },
     "metadata": {
      "needs_background": "light"
     },
     "output_type": "display_data"
    }
   ],
   "source": [
    "plot_elbow(df00)"
   ]
  },
  {
   "cell_type": "code",
   "execution_count": 177,
   "metadata": {},
   "outputs": [
    {
     "data": {
      "image/png": "[encoded data removed]",
      "text/plain": [
       "<Figure size 432x288 with 1 Axes>"
      ]
     },
     "metadata": {
      "needs_background": "light"
     },
     "output_type": "display_data"
    }
   ],
   "source": [
    "plot_elbow(df11)"
   ]
  },
  {
   "cell_type": "code",
   "execution_count": 178,
   "metadata": {},
   "outputs": [
    {
     "data": {
      "image/png": "[encoded data removed]",
      "text/plain": [
       "<Figure size 432x288 with 1 Axes>"
      ]
     },
     "metadata": {
      "needs_background": "light"
     },
     "output_type": "display_data"
    }
   ],
   "source": [
    "plot_elbow(df22)"
   ]
  },
  {
   "cell_type": "code",
   "execution_count": 182,
   "metadata": {},
   "outputs": [
    {
     "data": {
      "text/plain": [
       "labels\n",
       "0     12610\n",
       "1     15957\n",
       "2         5\n",
       "3       279\n",
       "4         1\n",
       "5         6\n",
       "6         3\n",
       "7         1\n",
       "8         8\n",
       "9         1\n",
       "10        1\n",
       "11        1\n",
       "Name: EIN, dtype: int64"
      ]
     },
     "execution_count": 182,
     "metadata": {},
     "output_type": "execute_result"
    }
   ],
   "source": [
    "model = fit_kmeans(df00, 12)\n",
    "df00['labels'] = model.labels_\n",
    "df00.groupby('labels').count()['EIN']"
   ]
  },
  {
   "cell_type": "code",
   "execution_count": 184,
   "metadata": {},
   "outputs": [
    {
     "data": {
      "text/plain": [
       "labels\n",
       "0     10389\n",
       "1     22902\n",
       "2       326\n",
       "3         1\n",
       "4         2\n",
       "5      6265\n",
       "6         1\n",
       "7         5\n",
       "8         1\n",
       "9         1\n",
       "10     3702\n",
       "11        1\n",
       "12        2\n",
       "13     1105\n",
       "14        2\n",
       "15        1\n",
       "16       13\n",
       "17      871\n",
       "18     4583\n",
       "19       25\n",
       "Name: EIN, dtype: int64"
      ]
     },
     "execution_count": 184,
     "metadata": {},
     "output_type": "execute_result"
    }
   ],
   "source": [
    "model = fit_kmeans(df11, 20)\n",
    "df11['labels'] = model.labels_\n",
    "df11.groupby('labels').count()['EIN']"
   ]
  },
  {
   "cell_type": "code",
   "execution_count": 186,
   "metadata": {},
   "outputs": [
    {
     "data": {
      "text/plain": [
       "labels\n",
       "0     26964\n",
       "1      1209\n",
       "2         1\n",
       "3         3\n",
       "4         1\n",
       "5         1\n",
       "6        56\n",
       "7         1\n",
       "8         4\n",
       "9         6\n",
       "10        1\n",
       "11        1\n",
       "12        8\n",
       "13       11\n",
       "14       17\n",
       "15      245\n",
       "16        5\n",
       "17       10\n",
       "18       40\n",
       "19       17\n",
       "Name: EIN, dtype: int64"
      ]
     },
     "execution_count": 186,
     "metadata": {},
     "output_type": "execute_result"
    }
   ],
   "source": [
    "model = fit_kmeans(df22, 20)\n",
    "df22['labels'] = model.labels_\n",
    "df22.groupby('labels').count()['EIN']"
   ]
  },
  {
   "cell_type": "code",
   "execution_count": null,
   "metadata": {},
   "outputs": [],
   "source": []
  }
 ],
 "metadata": {
  "kernelspec": {
   "display_name": "Python 3",
   "language": "python",
   "name": "python3"
  },
  "language_info": {
   "codemirror_mode": {
    "name": "ipython",
    "version": 3
   },
   "file_extension": ".py",
   "mimetype": "text/x-python",
   "name": "python",
   "nbconvert_exporter": "python",
   "pygments_lexer": "ipython3",
   "version": "3.6.7"
  }
 },
 "nbformat": 4,
 "nbformat_minor": 2
}
