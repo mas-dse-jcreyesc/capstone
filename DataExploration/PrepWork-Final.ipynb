{
 "cells": [
  {
   "cell_type": "markdown",
   "metadata": {},
   "source": [
    "## Get the Metadata for the 990 IRS files"
   ]
  },
  {
   "cell_type": "code",
   "execution_count": 13,
   "metadata": {
    "ExecuteTime": {
     "end_time": "2019-01-25T01:21:50.091442Z",
     "start_time": "2019-01-25T01:21:50.057130Z"
    }
   },
   "outputs": [],
   "source": [
    "from pymongo import MongoClient\n",
    "#import our own libs\n",
    "# METHOD 1\n",
    "#import import_ipynb\n",
    "#import IRS990libs\n",
    "# METHOD 2 - This will reload without restarting notebook (debugging)\n",
    "#%run IRS990libs.ipynb"
   ]
  },
  {
   "cell_type": "code",
   "execution_count": 2,
   "metadata": {},
   "outputs": [],
   "source": [
    "year = 2017"
   ]
  },
  {
   "cell_type": "code",
   "execution_count": 3,
   "metadata": {
    "ExecuteTime": {
     "end_time": "2019-01-25T01:22:00.303951Z",
     "start_time": "2019-01-25T01:22:00.177494Z"
    }
   },
   "outputs": [
    {
     "name": "stdout",
     "output_type": "stream",
     "text": [
      "List of databases in MongoDB:\n",
      "['admin', 'config', 'irs990', 'local']\n"
     ]
    }
   ],
   "source": [
    "# SET TO TRUE IF YOU WANT TO CLEAN DATABASE\n",
    "DUMP_DB = True\n",
    "\n",
    "uri = \"mongodb://mongo/tweets\"\n",
    "client = MongoClient(uri)\n",
    "\n",
    "print( 'List of databases in MongoDB:' )\n",
    "print(client.list_database_names())\n",
    "\n",
    "# database\n",
    "db = client['irs990']\n",
    "\n",
    "# collection\n",
    "dbYear = db['%s' % year]\n",
    "\n",
    "# if we already have documents then drop them and start\n",
    "# clean on this collection\n",
    "if DUMP_DB and dbYear.count_documents({}) > 0:\n",
    "    print( 'Drop database and start over with archive')\n",
    "    dbYear.drop()"
   ]
  },
  {
   "cell_type": "code",
   "execution_count": 35,
   "metadata": {
    "ExecuteTime": {
     "end_time": "2019-01-25T01:21:50.774551Z",
     "start_time": "2019-01-25T01:21:50.761553Z"
    },
    "scrolled": true
   },
   "outputs": [
    {
     "data": {
      "text/plain": [
       "IRS 990 form for year [2017]: 489013 documents"
      ]
     },
     "execution_count": 35,
     "metadata": {},
     "output_type": "execute_result"
    }
   ],
   "source": [
    "%run IRS990libs.ipynb\n",
    "\n",
    "documents = classy990forms(config='validElements.conf', debug=False)\n",
    "documents.year( year )\n",
    "documents"
   ]
  },
  {
   "cell_type": "code",
   "execution_count": null,
   "metadata": {
    "ExecuteTime": {
     "end_time": "2019-01-25T01:21:57.390107Z",
     "start_time": "2019-01-25T01:21:57.363934Z"
    },
    "scrolled": false
   },
   "outputs": [
    {
     "name": "stdout",
     "output_type": "stream",
     "text": [
      "Download EIN:352207586_2017\r"
     ]
    }
   ],
   "source": [
    "for x in documents:\n",
    "    \n",
    "    index = \"%s_%s\" % ( x['EIN'], year)\n",
    "        \n",
    "    sys.stdout.write('Download EIN:%s\\r' % index)\n",
    "    sys.stdout.flush() \n",
    "    \n",
    "    \n",
    "    dbYear.update_one( {\"_id\" : index}, {\"$set\":x.active}, upsert=True )\n"
   ]
  }
 ],
 "metadata": {
  "kernelspec": {
   "display_name": "Python 3",
   "language": "python",
   "name": "python3"
  },
  "language_info": {
   "codemirror_mode": {
    "name": "ipython",
    "version": 3
   },
   "file_extension": ".py",
   "mimetype": "text/x-python",
   "name": "python",
   "nbconvert_exporter": "python",
   "pygments_lexer": "ipython3",
   "version": "3.5.2"
  }
 },
 "nbformat": 4,
 "nbformat_minor": 2
}
