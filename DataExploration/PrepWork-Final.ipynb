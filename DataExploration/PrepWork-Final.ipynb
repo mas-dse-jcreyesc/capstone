{
 "cells": [
  {
   "cell_type": "markdown",
   "metadata": {},
   "source": [
    "## Get the Metadata for the 990 IRS files"
   ]
  },
  {
   "cell_type": "code",
   "execution_count": 25,
   "metadata": {
    "ExecuteTime": {
     "end_time": "2019-01-25T01:21:50.091442Z",
     "start_time": "2019-01-25T01:21:50.057130Z"
    }
   },
   "outputs": [],
   "source": [
    "# METHOD 1 - Running outside of Jupyter Notebook should do this.\n",
    "#try:\n",
    "#    import import_ipynb\n",
    "#except:\n",
    "#    pass\n",
    "#import IRS990libs\n",
    "\n",
    "# METHOD 2 - This will reaload without restarting notebook (debugging)\n",
    "%run IRS990libs.ipynb"
   ]
  },
  {
   "cell_type": "code",
   "execution_count": 26,
   "metadata": {},
   "outputs": [],
   "source": [
    "# Set the YEAR of IRS 990 data that we want to download\n",
    "\n",
    "year = 2017"
   ]
  },
  {
   "cell_type": "code",
   "execution_count": 27,
   "metadata": {
    "ExecuteTime": {
     "end_time": "2019-01-25T01:21:50.774551Z",
     "start_time": "2019-01-25T01:21:50.761553Z"
    },
    "scrolled": true
   },
   "outputs": [
    {
     "name": "stdout",
     "output_type": "stream",
     "text": [
      "Init MongoDB inside classy990forms object [mongodb://mongo/irs990] [2017]\n",
      "Connect to: [mongodb://mongo/irs990]\n",
      "List of databases in MongoDB: ['admin', 'config', 'irs990', 'local']\n",
      "Open db: [irs990]\n",
      "Collection: [2017]\n",
      "493 documents present\n"
     ]
    },
    {
     "data": {
      "text/plain": [
       "IRS 990 form for year [2017]: 489013 documents"
      ]
     },
     "execution_count": 27,
     "metadata": {},
     "output_type": "execute_result"
    }
   ],
   "source": [
    "# Load the object that parses the IRS 990 index and will provide\n",
    "# each individual form to us\n",
    "\n",
    "documents = classy990forms(config='validElements.conf', mongo='mongodb://mongo/irs990', debug=False)\n",
    "documents.year( year )\n",
    "documents"
   ]
  },
  {
   "cell_type": "code",
   "execution_count": null,
   "metadata": {
    "ExecuteTime": {
     "end_time": "2019-01-25T01:21:57.390107Z",
     "start_time": "2019-01-25T01:21:57.363934Z"
    },
    "scrolled": false
   },
   "outputs": [
    {
     "name": "stdout",
     "output_type": "stream",
     "text": [
      "Dowload EIN:621480583_201512\r"
     ]
    }
   ],
   "source": [
    "# Loop over all forms and upload to the database.\n",
    "\n",
    "for x in documents:\n",
    "    \n",
    "    sys.stdout.write('Dowload EIN:%s\\r' % x.index)\n",
    "    sys.stdout.flush() \n",
    "    \n",
    "    x.to_mongo()\n"
   ]
  }
 ],
 "metadata": {
  "kernelspec": {
   "display_name": "Python 3",
   "language": "python",
   "name": "python3"
  },
  "language_info": {
   "codemirror_mode": {
    "name": "ipython",
    "version": 3
   },
   "file_extension": ".py",
   "mimetype": "text/x-python",
   "name": "python",
   "nbconvert_exporter": "python",
   "pygments_lexer": "ipython3",
   "version": "3.6.7"
  }
 },
 "nbformat": 4,
 "nbformat_minor": 2
}
