{
 "cells": [
  {
   "cell_type": "markdown",
   "metadata": {},
   "source": [
    "## Get the Metadata for the 990 IRS files"
   ]
  },
  {
   "cell_type": "code",
   "execution_count": 7,
   "metadata": {
    "ExecuteTime": {
     "end_time": "2019-01-25T01:21:50.091442Z",
     "start_time": "2019-01-25T01:21:50.057130Z"
    }
   },
   "outputs": [],
   "source": [
    "import os, sys\n",
    "\n",
    "# METHOD 1\n",
    "#import import_ipynb\n",
    "#from api.classy990downloads import *\n",
    "\n",
    "# METHOD 2 - This will reload without restarting notebook (debugging)\n",
    "%run ../api/classy990downloads.ipynb"
   ]
  },
  {
   "cell_type": "code",
   "execution_count": 8,
   "metadata": {},
   "outputs": [],
   "source": [
    "#Set the YEAR of IRS 990 data that we want to download\n",
    "\n",
    "year = 2016"
   ]
  },
  {
   "cell_type": "code",
   "execution_count": 9,
   "metadata": {
    "ExecuteTime": {
     "end_time": "2019-01-25T01:21:50.774551Z",
     "start_time": "2019-01-25T01:21:50.761553Z"
    },
    "scrolled": false
   },
   "outputs": [
    {
     "name": "stdout",
     "output_type": "stream",
     "text": [
      "Working on year: 2016\n",
      "index URL: 2016\n",
      "Prepare INDEX on year: 2016\n",
      "Found local copy: /home/notebooks/IRSX_CACHE//IRS990_2016.pkl\n",
      "Init MongoDB inside classy990forms object [mongodb://mongo/irs990] [2016]\n",
      "Connect to: [mongodb://mongo/irs990]\n",
      "List of databases in MongoDB: ['admin', 'config', 'irs990', 'local']\n",
      "Open db: [irs990]\n",
      "Collection: [2016]\n",
      "64 documents present\n"
     ]
    },
    {
     "data": {
      "text/plain": [
       "IRS 990 form for year [2016]: 378420 documents in index"
      ]
     },
     "execution_count": 9,
     "metadata": {},
     "output_type": "execute_result"
    }
   ],
   "source": [
    "# Load the object that parses the IRS 990 index and will provide\n",
    "# each individual form to us\n",
    "\n",
    "#documents = classy990forms(config='validElements.conf', mongo='mongodb://mongo/irs990', debug=False)\n",
    "documents = classy990forms(mongo='mongodb://mongo/irs990', dumpmongo=False, debug=True)\n",
    "documents.year( year )\n",
    "documents"
   ]
  },
  {
   "cell_type": "code",
   "execution_count": null,
   "metadata": {
    "scrolled": false
   },
   "outputs": [],
   "source": [
    "#%run ../api/classy990downloads.ipynb\n",
    "#documents = classy990forms(mongo='mongodb://mongo/irs990', debug=True)\n",
    "#documents.year( year )\n",
    "#documents.get(\"201612449349300786\")"
   ]
  },
  {
   "cell_type": "code",
   "execution_count": null,
   "metadata": {},
   "outputs": [],
   "source": [
    "#%run ../api/classy990downloads.ipynb\n",
    "#from irsx.xmlrunner import XMLRunner\n",
    "#xml_runner = XMLRunner()\n",
    "#activeRaw = xml_runner.run_filing( \"201612449349300786\", verbose=True )"
   ]
  },
  {
   "cell_type": "code",
   "execution_count": null,
   "metadata": {
    "scrolled": false
   },
   "outputs": [],
   "source": [
    "#x\n",
    "#activeRaw.get_parsed_sked('IRS990ScheduleO')\n",
    "#activeRaw.get_result()"
   ]
  },
  {
   "cell_type": "code",
   "execution_count": null,
   "metadata": {
    "ExecuteTime": {
     "end_time": "2019-01-25T01:21:57.390107Z",
     "start_time": "2019-01-25T01:21:57.363934Z"
    },
    "scrolled": true
   },
   "outputs": [
    {
     "name": "stdout",
     "output_type": "stream",
     "text": [
      "Filing version 2012v3.0 isn't supported for this operation\n",
      "ERROR: Problem on creating new Filing object\n",
      "       Skipping this instance and continue with next\n",
      "       'NoneType' object is not iterable\n",
      "Dowload EIN:043596357_201412\r"
     ]
    }
   ],
   "source": [
    "# Loop over all forms and upload to the database.\n",
    "\n",
    "for x in documents:\n",
    "    \n",
    "    try:\n",
    "        sys.stdout.write('Dowload EIN:%s\\r' % x.index)\n",
    "        sys.stdout.flush() \n",
    "    \n",
    "        x.to_mongo()\n",
    "    except:\n",
    "        continue"
   ]
  }
 ],
 "metadata": {
  "kernelspec": {
   "display_name": "Python 3",
   "language": "python",
   "name": "python3"
  },
  "language_info": {
   "codemirror_mode": {
    "name": "ipython",
    "version": 3
   },
   "file_extension": ".py",
   "mimetype": "text/x-python",
   "name": "python",
   "nbconvert_exporter": "python",
   "pygments_lexer": "ipython3",
   "version": "3.5.2"
  }
 },
 "nbformat": 4,
 "nbformat_minor": 2
}
