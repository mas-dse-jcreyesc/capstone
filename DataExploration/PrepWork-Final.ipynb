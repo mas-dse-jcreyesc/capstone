{
 "cells": [
  {
   "cell_type": "markdown",
   "metadata": {},
   "source": [
    "## Get the Metadata for the 990 IRS files"
   ]
  },
  {
   "cell_type": "code",
   "execution_count": null,
   "metadata": {
    "ExecuteTime": {
     "end_time": "2019-01-25T01:21:50.091442Z",
     "start_time": "2019-01-25T01:21:50.057130Z"
    }
   },
   "outputs": [],
   "source": [
    "import os, sys\n",
    "\n",
    "# METHOD 1\n",
    "#import import_ipynb\n",
    "#from api.classy990downloads import *\n",
    "\n",
    "# METHOD 2 - This will reload without restarting notebook (debugging)\n",
    "%run ../api/classy990downloads.ipynb"
   ]
  },
  {
   "cell_type": "code",
   "execution_count": null,
   "metadata": {},
   "outputs": [],
   "source": [
    "# Set the YEAR of IRS 990 data that we want to download\n",
    "\n",
    "year = 2017"
   ]
  },
  {
   "cell_type": "code",
   "execution_count": null,
   "metadata": {
    "ExecuteTime": {
     "end_time": "2019-01-25T01:21:50.774551Z",
     "start_time": "2019-01-25T01:21:50.761553Z"
    },
    "scrolled": false
   },
   "outputs": [],
   "source": [
    "# Load the object that parses the IRS 990 index and will provide\n",
    "# each individual form to us\n",
    "\n",
    "#documents = classy990forms(config='validElements.conf', mongo='mongodb://mongo/irs990', debug=False)\n",
    "documents = classy990forms(mongo='mongodb://mongo/irs990', dumpmongo=False, debug=True)\n",
    "documents.year( year )\n",
    "documents"
   ]
  },
  {
   "cell_type": "code",
   "execution_count": null,
   "metadata": {
    "scrolled": false
   },
   "outputs": [],
   "source": [
    "#%run ../api/classy990downloads.ipynb\n",
    "#documents = classy990forms(mongo='mongodb://mongo/irs990', debug=True)\n",
    "#documents.year( year )\n",
    "#documents.get(\"201612449349300786\")"
   ]
  },
  {
   "cell_type": "code",
   "execution_count": null,
   "metadata": {},
   "outputs": [],
   "source": [
    "#%run ../api/classy990downloads.ipynb\n",
    "#from irsx.xmlrunner import XMLRunner\n",
    "#xml_runner = XMLRunner()\n",
    "#activeRaw = xml_runner.run_filing( \"201612449349300786\", verbose=True )"
   ]
  },
  {
   "cell_type": "code",
   "execution_count": null,
   "metadata": {
    "scrolled": false
   },
   "outputs": [],
   "source": [
    "#x\n",
    "#activeRaw.get_parsed_sked('IRS990ScheduleO')\n",
    "#activeRaw.get_result()"
   ]
  },
  {
   "cell_type": "code",
   "execution_count": null,
   "metadata": {
    "ExecuteTime": {
     "end_time": "2019-01-25T01:21:57.390107Z",
     "start_time": "2019-01-25T01:21:57.363934Z"
    },
    "scrolled": true
   },
   "outputs": [],
   "source": [
    "# Loop over all forms and upload to the database.\n",
    "\n",
    "for x in documents:\n",
    "    \n",
    "    sys.stdout.write('Dowload EIN:%s\\r' % x.index)\n",
    "    sys.stdout.flush() \n",
    "    \n",
    "    x.to_mongo()\n"
   ]
  }
 ],
 "metadata": {
  "kernelspec": {
   "display_name": "Python 3",
   "language": "python",
   "name": "python3"
  },
  "language_info": {
   "codemirror_mode": {
    "name": "ipython",
    "version": 3
   },
   "file_extension": ".py",
   "mimetype": "text/x-python",
   "name": "python",
   "nbconvert_exporter": "python",
   "pygments_lexer": "ipython3",
   "version": "3.6.7"
  }
 },
 "nbformat": 4,
 "nbformat_minor": 2
}
