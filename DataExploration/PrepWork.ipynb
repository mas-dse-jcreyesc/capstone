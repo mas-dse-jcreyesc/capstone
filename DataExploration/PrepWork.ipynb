{
 "cells": [
  {
   "cell_type": "markdown",
   "metadata": {},
   "source": [
    "## Get the Metadata for the 990 IRS files"
   ]
  },
  {
   "cell_type": "code",
   "execution_count": null,
   "metadata": {
    "ExecuteTime": {
     "end_time": "2019-01-25T01:21:50.091442Z",
     "start_time": "2019-01-25T01:21:50.057130Z"
    }
   },
   "outputs": [],
   "source": [
    "import os, sys\n",
    "#import requests\n",
    "#import untangle\n",
    "import xmltodict\n",
    "import urllib.request\n",
    "import pandas as pd\n",
    "from pymongo import MongoClient\n",
    "from datetime import datetime, timedelta\n",
    "from IPython.display import display, HTML\n",
    "import xml.etree.cElementTree as et"
   ]
  },
  {
   "cell_type": "code",
   "execution_count": null,
   "metadata": {
    "ExecuteTime": {
     "end_time": "2019-01-25T01:21:50.774551Z",
     "start_time": "2019-01-25T01:21:50.761553Z"
    },
    "scrolled": true
   },
   "outputs": [],
   "source": [
    "year = 2017\n",
    "\n",
    "sourceURL = 'https://s3.amazonaws.com/irs-form-990/index_%d.json' % year\n",
    "pkl_name = \"./IRS990_%d.pkl\" % year\n",
    "\n",
    "print( 'Working on year: %d' % year)"
   ]
  },
  {
   "cell_type": "code",
   "execution_count": null,
   "metadata": {
    "ExecuteTime": {
     "end_time": "2019-01-25T01:21:57.346068Z",
     "start_time": "2019-01-25T01:21:51.526694Z"
    },
    "scrolled": true
   },
   "outputs": [],
   "source": [
    "# Verify if we already have the file\n",
    "if os.path.isfile( pkl_name ):\n",
    "    # Read from disk\n",
    "    df = pd.read_pickle( pkl_name )\n",
    "else:\n",
    "    # Download from URL\n",
    "    df = pd.read_json( sourceURL )\n",
    "    df = df[df.keys()[0]].apply(lambda x:pd.Series(x))\n",
    "    # Save version to disk\n",
    "    df.to_pickle( pkl_name )\n",
    "    \n",
    "df"
   ]
  },
  {
   "cell_type": "code",
   "execution_count": null,
   "metadata": {
    "ExecuteTime": {
     "end_time": "2019-01-25T01:21:57.390107Z",
     "start_time": "2019-01-25T01:21:57.363934Z"
    }
   },
   "outputs": [],
   "source": [
    "# example\n",
    "df.iloc[0]"
   ]
  },
  {
   "cell_type": "markdown",
   "metadata": {},
   "source": [
    "## Open MongoDB"
   ]
  },
  {
   "cell_type": "code",
   "execution_count": null,
   "metadata": {
    "ExecuteTime": {
     "end_time": "2019-01-25T01:22:00.303951Z",
     "start_time": "2019-01-25T01:22:00.177494Z"
    }
   },
   "outputs": [],
   "source": [
    "# SET TO TRUE IF YOU WANT TO CLEAN DATABASE\n",
    "DUMP_DB = True\n",
    "\n",
    "uri = \"mongodb://mongo/tweets\"\n",
    "client = MongoClient(uri)\n",
    "\n",
    "print( 'List of databases in MongoDB:' )\n",
    "print(client.list_database_names())\n",
    "\n",
    "# database\n",
    "db = client['irs990']\n",
    "\n",
    "# collection\n",
    "dbYear = db['%s' % year]\n",
    "\n",
    "# if we already have documents then drop them and start\n",
    "# clean on this collection\n",
    "if DUMP_DB and dbYear.count_documents({}) > 0:\n",
    "    print( 'Drop database and start over with archive')\n",
    "    dbYear.drop()"
   ]
  },
  {
   "cell_type": "markdown",
   "metadata": {},
   "source": [
    "## Read each XML and load into MongoDB"
   ]
  },
  {
   "cell_type": "code",
   "execution_count": null,
   "metadata": {
    "ExecuteTime": {
     "end_time": "2019-01-25T01:47:01.379796Z",
     "start_time": "2019-01-25T01:46:15.893526Z"
    },
    "scrolled": true
   },
   "outputs": [],
   "source": [
    "\n",
    "for x in range( 1000 ):\n",
    "    \n",
    "    # select 990 to download\n",
    "    case = df.iloc[x]\n",
    "    \n",
    "    # EXAMPLE:\n",
    "    #\n",
    "    # EIN                 042662873\n",
    "    # TaxPeriod           201603\n",
    "    # DLN                 93493243000066\n",
    "    # FormType            990\n",
    "    # URL                 https://s3.amazonaws.com/irs-form-990/...\n",
    "    # OrganizationName    ELKS BUILDING CORP OF NORWOOD\n",
    "    # SubmittedOn         2017-01-04\n",
    "    # ObjectId            201612439349300006\n",
    "    # LastUpdated         2017-01-11T22:15:15\n",
    "    \n",
    "    #print( 'Now working on [%s] %s' % (case['EIN'], case['OrganizationName']) )\n",
    "    sys.stdout.write('%s: [%s] %s\\r' % (x, case['EIN'], case['OrganizationName']) )\n",
    "    sys.stdout.flush()\n",
    "    \n",
    "    try:\n",
    "        #print( '\\tDownload %s' % df.iloc[x]['URL'])\n",
    "        response = urllib.request.urlopen( df.iloc[x]['URL'] )\n",
    "        data = response.read()\n",
    "    except Exception as e:\n",
    "        print( 'ERROR ON DOWNLOAD: %s' % e )\n",
    "        continue\n",
    "        \n",
    "    xml = xmltodict.parse( data )['Return']['ReturnData']\n",
    "    temp = dict()\n",
    "    #print(x)\n",
    "    for doc in xml.keys():\n",
    "        if doc == '@documentCnt' or doc == '@documentCount': continue\n",
    "        \n",
    "        #print('\\tAdd to MongoDB :%s' % xml[doc]['@documentId'])\n",
    "        \n",
    "        #display(xml[doc])\n",
    "        dbYear.update_one( {\"_id\" : case['EIN']}, {\"$set\":xml[doc]}, upsert=True )\n",
    "        dbYear.update_one( {\"_id\" : case['EIN']}, {\"$set\":df.iloc[x].to_dict()}, upsert=True )"
   ]
  },
  {
   "cell_type": "code",
   "execution_count": null,
   "metadata": {},
   "outputs": [],
   "source": []
  }
 ],
 "metadata": {
  "kernelspec": {
   "display_name": "Python 3",
   "language": "python",
   "name": "python3"
  },
  "language_info": {
   "codemirror_mode": {
    "name": "ipython",
    "version": 3
   },
   "file_extension": ".py",
   "mimetype": "text/x-python",
   "name": "python",
   "nbconvert_exporter": "python",
   "pygments_lexer": "ipython3",
   "version": "3.6.7"
  }
 },
 "nbformat": 4,
 "nbformat_minor": 2
}
