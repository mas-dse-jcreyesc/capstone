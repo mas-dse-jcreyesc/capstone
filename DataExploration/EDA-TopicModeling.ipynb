{
 "cells": [
  {
   "cell_type": "code",
   "execution_count": 4,
   "metadata": {},
   "outputs": [],
   "source": [
    "import numpy as np\n",
    "import pandas as pd\n",
    "# import geopy\n",
    "\n",
    "from gensim import corpora, models, similarities\n",
    "import nltk\n",
    "from nltk.tokenize import RegexpTokenizer\n",
    "from nltk.corpus import stopwords\n",
    "import re\n",
    "import string\n",
    "import math\n",
    "from pprint import pprint\n",
    "from collections import defaultdict\n",
    "\n",
    "from sklearn.cluster import KMeans\n",
    "from sklearn import metrics\n",
    "from scipy.spatial.distance import cdist\n",
    "\n",
    "import matplotlib.pyplot as plt"
   ]
  },
  {
   "cell_type": "code",
   "execution_count": 2,
   "metadata": {},
   "outputs": [],
   "source": [
    "df = pd.read_csv('./sample_data_2017_FINAL.csv')"
   ]
  },
  {
   "cell_type": "code",
   "execution_count": 6,
   "metadata": {},
   "outputs": [],
   "source": [
    "df['text'] = df['ActivityOrMissionDesc'] + ' ' + df['Desc']"
   ]
  },
  {
   "cell_type": "code",
   "execution_count": 8,
   "metadata": {},
   "outputs": [],
   "source": [
    "df = df[~df['text'].isna()]"
   ]
  },
  {
   "cell_type": "markdown",
   "metadata": {},
   "source": [
    "## Functions for model training"
   ]
  },
  {
   "cell_type": "code",
   "execution_count": 20,
   "metadata": {},
   "outputs": [],
   "source": [
    "def create_corpus(df):\n",
    "    \n",
    "    documents = list(df['text'].values)\n",
    "    stop_words = set(stopwords.words('english'))\n",
    "    tokenizer = RegexpTokenizer(r'\\w+')\n",
    "\n",
    "    texts = [[word for word in tokenizer.tokenize(document.lower()) if word not in stop_words] for document in documents]\n",
    "    texts = [[word for word in text if not word.isnumeric()] for text in texts]\n",
    "\n",
    "    # remove words that appear only once in corpus\n",
    "    frequency = defaultdict(int)\n",
    "    for text in texts:\n",
    "        for token in text:\n",
    "            frequency[token] += 1\n",
    "\n",
    "    texts = [[token for token in text if frequency[token] > 1]\n",
    "             for text in texts]\n",
    "\n",
    "    dictionary = corpora.Dictionary(texts)\n",
    "    corpus = [dictionary.doc2bow(text) for text in texts]\n",
    "    \n",
    "    tfidf = models.TfidfModel(corpus)\n",
    "    corpus_tfidf = tfidf[corpus]\n",
    "    \n",
    "    return corpus_tfidf, dictionary"
   ]
  },
  {
   "cell_type": "code",
   "execution_count": 29,
   "metadata": {},
   "outputs": [],
   "source": [
    "def train_model(corpus, dictionary, num_topics):\n",
    "    \n",
    "    model_LSI = models.LsiModel(corpus, id2word=dictionary, num_topics=num_topics) # initialize an LSI transformation\n",
    "#     model_LSI.print_topics(num_topics)\n",
    "\n",
    "    return model_LSI"
   ]
  },
  {
   "cell_type": "code",
   "execution_count": 14,
   "metadata": {},
   "outputs": [],
   "source": [
    "def transform_corpus(model, corpus, num_topics):\n",
    "    \n",
    "    corpus_LSI = model[corpus]\n",
    "    corpus_list = []\n",
    "    \n",
    "    for c in corpus_LSI:\n",
    "        scores = []\n",
    "        for i in range(len(c)):\n",
    "            scores.append(c[i][1])\n",
    "        if len(scores) == num_topics:\n",
    "            corpus_list.append(np.array(scores))\n",
    "        else:\n",
    "            corpus_list.append(np.zeros(num_topics))    \n",
    "    corpus_LSI = np.array(corpus_list)\n",
    "    \n",
    "    return corpus_LSI"
   ]
  },
  {
   "cell_type": "code",
   "execution_count": 15,
   "metadata": {},
   "outputs": [],
   "source": [
    "def plot_elbow(corpus_LSI, k_max, num_topics):\n",
    "    distortions = []\n",
    "    K = range(1,k_max)\n",
    "    for k in K:\n",
    "        kmeanModel = KMeans(n_clusters=k, init = 'k-means++', random_state = 0).fit(corpus_LSI)\n",
    "        distortions.append(sum(np.min(cdist(corpus_LSI, kmeanModel.cluster_centers_, 'euclidean'), axis=1)) / corpus_LSI.shape[0])\n",
    "\n",
    "    # Plot the elbow\n",
    "    plt.plot(K, distortions, 'x')\n",
    "    plt.xlabel('k')\n",
    "    plt.ylabel('Distortion')\n",
    "    plt.title('num_topics = ' + str(num_topics))\n",
    "    plt.show()"
   ]
  },
  {
   "cell_type": "code",
   "execution_count": 30,
   "metadata": {},
   "outputs": [],
   "source": [
    "# num_topics = 3\n",
    "k_max = 50\n",
    "\n",
    "def lsi_model(corpus, dictionary, num_topics):\n",
    "#     corpus, dictionary = create_corpus(df)\n",
    "    model = train_model(corpus, dictionary, num_topics)\n",
    "    corpus_LSI = transform_corpus(model, corpus, num_topics)\n",
    "    plot_elbow(corpus_LSI, k_max, num_topics)\n",
    "    print(model.print_topics())\n",
    "    return model, corpus_LSI"
   ]
  },
  {
   "cell_type": "code",
   "execution_count": 43,
   "metadata": {},
   "outputs": [],
   "source": [
    "# num_topics = 3\n",
    "# num_clusters = 7\n",
    "\n",
    "def final_model(corpus, dictionary, num_topics, num_clusters):\n",
    "    m, c = lsi_model(corpus, dictionary, num_topics)\n",
    "    kmeans = KMeans(n_clusters = num_clusters, init = 'k-means++', random_state = 0).fit(c)\n",
    "    print(np.unique(kmeans.labels_, return_counts=True))\n",
    "    c = pd.DataFrame(c)\n",
    "    df['labels'] = kmeans.labels_\n",
    "    df = pd.concat([df.reset_index(drop = True), c], axis = 1)\n",
    "    return m, df"
   ]
  },
  {
   "cell_type": "markdown",
   "metadata": {},
   "source": [
    "## Try different number of topics"
   ]
  },
  {
   "cell_type": "code",
   "execution_count": 24,
   "metadata": {},
   "outputs": [],
   "source": [
    "corpus, dictionary = create_corpus(df)"
   ]
  },
  {
   "cell_type": "code",
   "execution_count": 31,
   "metadata": {
    "scrolled": false
   },
   "outputs": [
    {
     "data": {
      "image/png": "[encoded data removed]",
      "text/plain": [
       "<Figure size 432x288 with 1 Axes>"
      ]
     },
     "metadata": {},
     "output_type": "display_data"
    },
    {
     "name": "stdout",
     "output_type": "stream",
     "text": [
      "[(0, '0.201*\"services\" + 0.188*\"care\" + 0.161*\"children\" + 0.161*\"health\" + 0.148*\"community\" + 0.148*\"school\" + 0.143*\"provide\" + 0.140*\"housing\" + 0.130*\"education\" + 0.125*\"programs\"'), (1, '-0.513*\"housing\" + -0.371*\"low\" + -0.355*\"income\" + -0.238*\"elderly\" + -0.171*\"persons\" + -0.165*\"affordable\" + 0.156*\"school\" + -0.145*\"moderate\" + 0.130*\"students\" + -0.113*\"hud\"'), (2, '-0.394*\"care\" + 0.323*\"school\" + -0.294*\"health\" + 0.261*\"students\" + -0.194*\"services\" + 0.186*\"housing\" + 0.157*\"low\" + -0.157*\"medical\" + 0.149*\"income\" + 0.136*\"charter\"')]\n"
     ]
    },
    {
     "data": {
      "image/png": "[encoded data removed]",
      "text/plain": [
       "<Figure size 432x288 with 1 Axes>"
      ]
     },
     "metadata": {},
     "output_type": "display_data"
    },
    {
     "name": "stdout",
     "output_type": "stream",
     "text": [
      "[(0, '0.198*\"services\" + 0.184*\"care\" + 0.162*\"children\" + 0.157*\"health\" + 0.151*\"school\" + 0.149*\"community\" + 0.143*\"provide\" + 0.141*\"housing\" + 0.131*\"education\" + 0.126*\"programs\"'), (1, '-0.515*\"housing\" + -0.371*\"low\" + -0.355*\"income\" + -0.240*\"elderly\" + -0.172*\"persons\" + 0.167*\"school\" + -0.166*\"affordable\" + -0.146*\"moderate\" + 0.136*\"students\" + -0.114*\"hud\"'), (2, '-0.423*\"care\" + -0.306*\"health\" + 0.246*\"school\" + 0.225*\"students\" + -0.217*\"services\" + 0.187*\"housing\" + -0.160*\"medical\" + 0.155*\"low\" + 0.147*\"income\" + -0.127*\"home\"'), (3, '0.391*\"members\" + -0.362*\"school\" + -0.273*\"children\" + -0.201*\"students\" + 0.142*\"club\" + 0.140*\"union\" + 0.136*\"business\" + 0.132*\"industry\" + 0.123*\"promote\" + -0.119*\"charter\"'), (4, '-0.302*\"see\" + -0.297*\"schedule\" + 0.276*\"club\" + 0.242*\"children\" + 0.210*\"members\" + 0.200*\"youth\" + 0.174*\"golf\" + -0.172*\"health\" + 0.164*\"social\" + 0.151*\"recreational\"')]\n"
     ]
    },
    {
     "data": {
      "image/png": "[encoded data removed]",
      "text/plain": [
       "<Figure size 432x288 with 1 Axes>"
      ]
     },
     "metadata": {},
     "output_type": "display_data"
    },
    {
     "name": "stdout",
     "output_type": "stream",
     "text": [
      "[(0, '0.198*\"services\" + 0.187*\"care\" + 0.163*\"children\" + 0.158*\"health\" + 0.152*\"school\" + 0.148*\"community\" + 0.143*\"provide\" + 0.141*\"housing\" + 0.131*\"education\" + 0.126*\"programs\"'), (1, '-0.507*\"housing\" + -0.364*\"low\" + -0.348*\"income\" + -0.233*\"elderly\" + 0.195*\"school\" + -0.168*\"persons\" + -0.164*\"affordable\" + 0.158*\"students\" + -0.142*\"moderate\" + -0.110*\"hud\"'), (2, '-0.374*\"care\" + 0.316*\"school\" + -0.311*\"health\" + 0.261*\"students\" + -0.212*\"services\" + 0.206*\"housing\" + 0.176*\"low\" + 0.167*\"income\" + -0.159*\"medical\" + -0.113*\"hospital\"'), (3, '0.380*\"members\" + -0.318*\"school\" + -0.260*\"children\" + -0.203*\"care\" + -0.187*\"students\" + 0.160*\"club\" + 0.157*\"business\" + 0.140*\"industry\" + 0.139*\"promote\" + -0.123*\"child\"'), (4, '0.298*\"youth\" + 0.273*\"children\" + -0.215*\"health\" + -0.201*\"students\" + -0.186*\"care\" + 0.169*\"soccer\" + 0.154*\"families\" + -0.153*\"school\" + 0.150*\"club\" + 0.134*\"disabilities\"'), (5, '-0.372*\"club\" + -0.304*\"members\" + -0.236*\"golf\" + -0.189*\"care\" + -0.185*\"social\" + -0.182*\"recreational\" + -0.164*\"school\" + -0.149*\"facilities\" + -0.123*\"nursing\" + -0.120*\"tennis\"'), (6, '0.305*\"members\" + -0.293*\"youth\" + 0.241*\"union\" + -0.202*\"soccer\" + 0.198*\"credit\" + 0.165*\"financial\" + 0.148*\"school\" + 0.147*\"shelter\" + -0.145*\"arts\" + 0.138*\"services\"'), (7, '-0.417*\"fire\" + -0.202*\"see\" + -0.202*\"schedule\" + 0.178*\"disabilities\" + -0.169*\"emergency\" + 0.159*\"business\" + -0.141*\"shelter\" + 0.138*\"industry\" + -0.133*\"rescue\" + -0.130*\"protection\"'), (8, '0.645*\"see\" + 0.628*\"schedule\" + -0.160*\"fire\" + 0.151*\"children\" + -0.113*\"youth\" + 0.077*\"child\" + -0.074*\"health\" + -0.071*\"soccer\" + -0.064*\"emergency\" + -0.062*\"medical\"'), (9, '-0.296*\"health\" + 0.238*\"disabilities\" + 0.229*\"animals\" + -0.220*\"youth\" + 0.176*\"living\" + 0.157*\"nursing\" + 0.157*\"fire\" + 0.154*\"arts\" + -0.143*\"children\" + -0.138*\"soccer\"')]\n"
     ]
    },
    {
     "data": {
      "image/png": "[encoded data removed]",
      "text/plain": [
       "<Figure size 432x288 with 1 Axes>"
      ]
     },
     "metadata": {},
     "output_type": "display_data"
    },
    {
     "name": "stdout",
     "output_type": "stream",
     "text": [
      "[(0, '0.199*\"services\" + 0.187*\"care\" + 0.162*\"children\" + 0.158*\"health\" + 0.153*\"school\" + 0.148*\"community\" + 0.144*\"provide\" + 0.140*\"housing\" + 0.131*\"education\" + 0.126*\"programs\"'), (1, '-0.506*\"housing\" + -0.362*\"low\" + -0.347*\"income\" + -0.234*\"elderly\" + 0.198*\"school\" + -0.168*\"persons\" + -0.163*\"affordable\" + 0.161*\"students\" + -0.142*\"moderate\" + -0.110*\"hud\"'), (2, '-0.373*\"care\" + 0.322*\"school\" + -0.299*\"health\" + 0.271*\"students\" + 0.210*\"housing\" + -0.210*\"services\" + 0.180*\"low\" + 0.170*\"income\" + -0.155*\"medical\" + -0.114*\"home\"'), (3, '0.377*\"members\" + -0.319*\"school\" + -0.255*\"children\" + -0.214*\"care\" + -0.187*\"students\" + 0.163*\"club\" + 0.149*\"business\" + 0.138*\"promote\" + 0.132*\"industry\" + -0.124*\"child\"'), (4, '0.285*\"children\" + 0.278*\"youth\" + -0.238*\"health\" + -0.216*\"students\" + -0.209*\"care\" + 0.164*\"families\" + -0.162*\"school\" + 0.148*\"soccer\" + 0.136*\"disabilities\" + -0.124*\"medical\"'), (5, '-0.377*\"club\" + -0.358*\"members\" + -0.243*\"golf\" + -0.204*\"social\" + -0.181*\"recreational\" + -0.165*\"care\" + -0.154*\"school\" + -0.143*\"facilities\" + -0.124*\"tennis\" + -0.101*\"activities\"'), (6, '-0.608*\"see\" + -0.580*\"schedule\" + -0.177*\"youth\" + -0.127*\"soccer\" + 0.126*\"members\" + 0.109*\"union\" + -0.093*\"club\" + 0.087*\"services\" + 0.080*\"credit\" + 0.079*\"fire\"'), (7, '0.347*\"see\" + 0.330*\"schedule\" + -0.270*\"youth\" + 0.234*\"members\" + -0.192*\"soccer\" + 0.172*\"union\" + 0.149*\"children\" + 0.141*\"food\" + 0.131*\"credit\" + 0.129*\"families\"'), (8, '-0.373*\"disabilities\" + 0.341*\"children\" + -0.207*\"living\" + -0.200*\"developmental\" + 0.189*\"child\" + -0.172*\"individuals\" + -0.167*\"residential\" + -0.165*\"adults\" + 0.160*\"low\" + -0.158*\"students\"'), (9, '-0.319*\"fire\" + -0.232*\"food\" + -0.186*\"club\" + -0.185*\"emergency\" + -0.173*\"shelter\" + 0.154*\"business\" + 0.147*\"children\" + 0.144*\"industry\" + 0.135*\"disabilities\" + -0.129*\"medical\"'), (10, '-0.446*\"fire\" + -0.321*\"youth\" + -0.251*\"soccer\" + 0.155*\"children\" + 0.144*\"club\" + 0.136*\"golf\" + -0.134*\"protection\" + -0.126*\"hockey\" + -0.123*\"services\" + -0.122*\"union\"'), (11, '0.381*\"fire\" + -0.256*\"health\" + -0.169*\"youth\" + -0.155*\"scholarships\" + 0.136*\"care\" + 0.136*\"arts\" + -0.134*\"college\" + 0.132*\"protection\" + 0.131*\"nursing\" + -0.128*\"financial\"'), (12, '-0.330*\"fire\" + 0.234*\"animals\" + 0.225*\"food\" + 0.219*\"shelter\" + -0.209*\"health\" + 0.181*\"nursing\" + -0.180*\"disabilities\" + 0.162*\"soccer\" + 0.162*\"care\" + 0.156*\"youth\"'), (13, '-0.260*\"children\" + -0.238*\"union\" + 0.218*\"health\" + -0.184*\"credit\" + 0.176*\"club\" + -0.175*\"financial\" + -0.169*\"charitable\" + -0.159*\"fire\" + -0.155*\"foundation\" + -0.142*\"funds\"'), (14, '-0.378*\"arts\" + 0.271*\"business\" + -0.214*\"union\" + -0.204*\"art\" + 0.179*\"development\" + -0.173*\"music\" + -0.168*\"credit\" + -0.153*\"theatre\" + -0.150*\"museum\" + -0.138*\"benefits\"'), (15, '0.223*\"business\" + -0.209*\"research\" + 0.176*\"economic\" + -0.176*\"education\" + 0.174*\"food\" + 0.167*\"community\" + -0.154*\"educational\" + -0.151*\"cancer\" + -0.143*\"industry\" + -0.137*\"soccer\"'), (16, '0.515*\"animals\" + 0.245*\"animal\" + 0.191*\"disabilities\" + 0.155*\"benefits\" + 0.154*\"adoption\" + -0.150*\"violence\" + 0.143*\"health\" + -0.141*\"christian\" + 0.132*\"welfare\" + -0.125*\"counseling\"'), (17, '-0.290*\"business\" + 0.218*\"christian\" + -0.209*\"violence\" + 0.205*\"food\" + -0.180*\"domestic\" + 0.164*\"fire\" + -0.159*\"victims\" + -0.159*\"services\" + -0.132*\"economic\" + -0.131*\"scholarships\"'), (18, '-0.280*\"benefits\" + -0.268*\"charter\" + -0.227*\"school\" + 0.224*\"credit\" + 0.185*\"college\" + 0.175*\"animals\" + -0.164*\"food\" + 0.159*\"students\" + 0.150*\"financial\" + 0.148*\"union\"'), (19, '0.290*\"charter\" + -0.277*\"benefits\" + 0.228*\"cooperative\" + 0.214*\"electric\" + 0.178*\"housing\" + -0.154*\"food\" + -0.151*\"elderly\" + -0.145*\"college\" + 0.142*\"school\" + 0.128*\"affordable\"')]\n"
     ]
    },
    {
     "data": {
      "image/png": "[encoded data removed]",
      "text/plain": [
       "<Figure size 432x288 with 1 Axes>"
      ]
     },
     "metadata": {},
     "output_type": "display_data"
    },
    {
     "name": "stdout",
     "output_type": "stream",
     "text": [
      "[(0, '0.199*\"services\" + 0.186*\"care\" + 0.162*\"children\" + 0.158*\"health\" + 0.153*\"school\" + 0.148*\"community\" + 0.143*\"provide\" + 0.140*\"housing\" + 0.131*\"education\" + 0.126*\"programs\"'), (1, '-0.504*\"housing\" + -0.363*\"low\" + -0.347*\"income\" + -0.234*\"elderly\" + 0.201*\"school\" + -0.169*\"persons\" + -0.162*\"affordable\" + 0.160*\"students\" + -0.143*\"moderate\" + -0.111*\"hud\"'), (2, '-0.373*\"care\" + 0.330*\"school\" + -0.300*\"health\" + 0.269*\"students\" + 0.211*\"housing\" + -0.209*\"services\" + 0.179*\"low\" + 0.170*\"income\" + -0.156*\"medical\" + -0.111*\"home\"'), (3, '0.377*\"members\" + -0.329*\"school\" + -0.252*\"children\" + -0.212*\"care\" + -0.184*\"students\" + 0.164*\"club\" + 0.148*\"business\" + 0.137*\"promote\" + 0.132*\"industry\" + 0.121*\"union\"'), (4, '0.285*\"children\" + 0.279*\"youth\" + -0.237*\"health\" + -0.213*\"care\" + -0.211*\"students\" + -0.176*\"school\" + 0.163*\"families\" + 0.145*\"soccer\" + 0.139*\"disabilities\" + -0.131*\"medical\"'), (5, '-0.381*\"club\" + -0.355*\"members\" + -0.244*\"golf\" + -0.201*\"social\" + -0.180*\"recreational\" + -0.166*\"school\" + -0.154*\"care\" + -0.140*\"facilities\" + -0.123*\"tennis\" + -0.106*\"union\"'), (6, '-0.531*\"see\" + -0.507*\"schedule\" + -0.217*\"youth\" + -0.161*\"soccer\" + 0.157*\"members\" + 0.145*\"union\" + 0.107*\"services\" + 0.106*\"credit\" + -0.104*\"club\" + 0.102*\"shelter\"'), (7, '0.455*\"see\" + 0.432*\"schedule\" + -0.217*\"youth\" + 0.193*\"members\" + -0.155*\"soccer\" + 0.151*\"union\" + 0.142*\"children\" + 0.128*\"shelter\" + -0.128*\"arts\" + -0.118*\"care\"'), (8, '-0.419*\"disabilities\" + 0.282*\"children\" + -0.232*\"developmental\" + -0.206*\"living\" + -0.191*\"individuals\" + -0.177*\"residential\" + -0.172*\"disabled\" + -0.160*\"adults\" + 0.151*\"child\" + -0.144*\"employment\"'), (9, '-0.310*\"fire\" + 0.239*\"children\" + -0.186*\"food\" + -0.175*\"shelter\" + -0.174*\"club\" + -0.172*\"emergency\" + 0.166*\"business\" + 0.151*\"child\" + 0.145*\"industry\" + -0.141*\"scholarships\"'), (10, '-0.336*\"youth\" + -0.273*\"health\" + -0.254*\"soccer\" + 0.201*\"arts\" + 0.176*\"children\" + -0.133*\"benefits\" + 0.132*\"art\" + 0.127*\"care\" + 0.125*\"museum\" + -0.124*\"union\"'), (11, '0.558*\"fire\" + 0.182*\"protection\" + -0.175*\"foundation\" + -0.162*\"scholarships\" + 0.154*\"rescue\" + 0.143*\"soccer\" + -0.141*\"charitable\" + 0.136*\"youth\" + 0.133*\"emergency\" + -0.133*\"support\"'), (12, '-0.404*\"fire\" + 0.259*\"shelter\" + 0.257*\"animals\" + -0.222*\"children\" + -0.162*\"disabilities\" + 0.153*\"food\" + 0.151*\"nursing\" + 0.145*\"youth\" + 0.135*\"homeless\" + 0.134*\"care\"'), (13, '-0.290*\"health\" + 0.276*\"union\" + 0.222*\"credit\" + 0.215*\"financial\" + -0.183*\"club\" + 0.174*\"children\" + -0.165*\"mental\" + -0.153*\"violence\" + -0.139*\"golf\" + 0.133*\"care\"'), (14, '-0.404*\"arts\" + 0.257*\"business\" + -0.243*\"union\" + -0.207*\"art\" + -0.184*\"credit\" + -0.181*\"music\" + 0.168*\"development\" + -0.151*\"theatre\" + -0.135*\"performing\" + 0.131*\"economic\"'), (15, '0.318*\"food\" + 0.175*\"business\" + 0.168*\"health\" + -0.160*\"educational\" + -0.154*\"research\" + 0.149*\"economic\" + -0.142*\"scholarships\" + -0.138*\"education\" + -0.130*\"violence\" + -0.128*\"children\"'), (16, '0.386*\"animals\" + 0.254*\"disabilities\" + 0.186*\"animal\" + -0.177*\"violence\" + 0.156*\"food\" + 0.154*\"benefits\" + 0.146*\"developmental\" + -0.144*\"business\" + -0.143*\"nursing\" + -0.143*\"counseling\"'), (17, '-0.252*\"school\" + 0.221*\"christian\" + -0.182*\"county\" + -0.172*\"charter\" + -0.168*\"business\" + 0.168*\"food\" + 0.161*\"fire\" + 0.148*\"training\" + -0.137*\"services\" + 0.126*\"education\"'), (18, '-0.313*\"animals\" + -0.254*\"college\" + 0.243*\"food\" + -0.232*\"scholarships\" + -0.182*\"students\" + -0.176*\"business\" + 0.175*\"school\" + 0.170*\"public\" + -0.146*\"animal\" + -0.143*\"arts\"'), (19, '-0.366*\"food\" + -0.208*\"business\" + 0.172*\"affordable\" + 0.170*\"housing\" + 0.151*\"animals\" + 0.136*\"union\" + -0.135*\"persons\" + -0.133*\"arts\" + -0.124*\"provide\" + -0.119*\"assistance\"')]\n"
     ]
    }
   ],
   "source": [
    "for num_topics in (3,5,10,20,50):\n",
    "    model_23, corpus_23 = lsi_model(corpus, dictionary, num_topics)"
   ]
  },
  {
   "cell_type": "code",
   "execution_count": 33,
   "metadata": {},
   "outputs": [],
   "source": [
    "five = [(0, '0.198*\"services\" + 0.184*\"care\" + 0.162*\"children\" + 0.157*\"health\" + 0.151*\"school\" + 0.149*\"community\" + 0.143*\"provide\" + 0.141*\"housing\" + 0.131*\"education\" + 0.126*\"programs\"'), (1, '-0.515*\"housing\" + -0.371*\"low\" + -0.355*\"income\" + -0.240*\"elderly\" + -0.172*\"persons\" + 0.167*\"school\" + -0.166*\"affordable\" + -0.146*\"moderate\" + 0.136*\"students\" + -0.114*\"hud\"'), (2, '-0.423*\"care\" + -0.306*\"health\" + 0.246*\"school\" + 0.225*\"students\" + -0.217*\"services\" + 0.187*\"housing\" + -0.160*\"medical\" + 0.155*\"low\" + 0.147*\"income\" + -0.127*\"home\"'), (3, '0.391*\"members\" + -0.362*\"school\" + -0.273*\"children\" + -0.201*\"students\" + 0.142*\"club\" + 0.140*\"union\" + 0.136*\"business\" + 0.132*\"industry\" + 0.123*\"promote\" + -0.119*\"charter\"'), (4, '-0.302*\"see\" + -0.297*\"schedule\" + 0.276*\"club\" + 0.242*\"children\" + 0.210*\"members\" + 0.200*\"youth\" + 0.174*\"golf\" + -0.172*\"health\" + 0.164*\"social\" + 0.151*\"recreational\"')]"
   ]
  },
  {
   "cell_type": "code",
   "execution_count": 35,
   "metadata": {},
   "outputs": [
    {
     "name": "stdout",
     "output_type": "stream",
     "text": [
      "(0, '0.198*\"services\" + 0.184*\"care\" + 0.162*\"children\" + 0.157*\"health\" + 0.151*\"school\" + 0.149*\"community\" + 0.143*\"provide\" + 0.141*\"housing\" + 0.131*\"education\" + 0.126*\"programs\"')\n",
      "(1, '-0.515*\"housing\" + -0.371*\"low\" + -0.355*\"income\" + -0.240*\"elderly\" + -0.172*\"persons\" + 0.167*\"school\" + -0.166*\"affordable\" + -0.146*\"moderate\" + 0.136*\"students\" + -0.114*\"hud\"')\n",
      "(2, '-0.423*\"care\" + -0.306*\"health\" + 0.246*\"school\" + 0.225*\"students\" + -0.217*\"services\" + 0.187*\"housing\" + -0.160*\"medical\" + 0.155*\"low\" + 0.147*\"income\" + -0.127*\"home\"')\n",
      "(3, '0.391*\"members\" + -0.362*\"school\" + -0.273*\"children\" + -0.201*\"students\" + 0.142*\"club\" + 0.140*\"union\" + 0.136*\"business\" + 0.132*\"industry\" + 0.123*\"promote\" + -0.119*\"charter\"')\n",
      "(4, '-0.302*\"see\" + -0.297*\"schedule\" + 0.276*\"club\" + 0.242*\"children\" + 0.210*\"members\" + 0.200*\"youth\" + 0.174*\"golf\" + -0.172*\"health\" + 0.164*\"social\" + 0.151*\"recreational\"')\n"
     ]
    }
   ],
   "source": [
    "for i in five:\n",
    "    print(i)"
   ]
  },
  {
   "cell_type": "code",
   "execution_count": 36,
   "metadata": {},
   "outputs": [],
   "source": [
    "three = [(0, '0.201*\"services\" + 0.188*\"care\" + 0.161*\"children\" + 0.161*\"health\" + 0.148*\"community\" + 0.148*\"school\" + 0.143*\"provide\" + 0.140*\"housing\" + 0.130*\"education\" + 0.125*\"programs\"'), (1, '-0.513*\"housing\" + -0.371*\"low\" + -0.355*\"income\" + -0.238*\"elderly\" + -0.171*\"persons\" + -0.165*\"affordable\" + 0.156*\"school\" + -0.145*\"moderate\" + 0.130*\"students\" + -0.113*\"hud\"'), (2, '-0.394*\"care\" + 0.323*\"school\" + -0.294*\"health\" + 0.261*\"students\" + -0.194*\"services\" + 0.186*\"housing\" + 0.157*\"low\" + -0.157*\"medical\" + 0.149*\"income\" + 0.136*\"charter\"')]"
   ]
  },
  {
   "cell_type": "code",
   "execution_count": 37,
   "metadata": {},
   "outputs": [
    {
     "name": "stdout",
     "output_type": "stream",
     "text": [
      "(0, '0.201*\"services\" + 0.188*\"care\" + 0.161*\"children\" + 0.161*\"health\" + 0.148*\"community\" + 0.148*\"school\" + 0.143*\"provide\" + 0.140*\"housing\" + 0.130*\"education\" + 0.125*\"programs\"')\n",
      "(1, '-0.513*\"housing\" + -0.371*\"low\" + -0.355*\"income\" + -0.238*\"elderly\" + -0.171*\"persons\" + -0.165*\"affordable\" + 0.156*\"school\" + -0.145*\"moderate\" + 0.130*\"students\" + -0.113*\"hud\"')\n",
      "(2, '-0.394*\"care\" + 0.323*\"school\" + -0.294*\"health\" + 0.261*\"students\" + -0.194*\"services\" + 0.186*\"housing\" + 0.157*\"low\" + -0.157*\"medical\" + 0.149*\"income\" + 0.136*\"charter\"')\n"
     ]
    }
   ],
   "source": [
    "for i in three:\n",
    "    print(i)"
   ]
  },
  {
   "cell_type": "code",
   "execution_count": 46,
   "metadata": {},
   "outputs": [
    {
     "data": {
      "image/png": "[encoded data removed]",
      "text/plain": [
       "<Figure size 432x288 with 1 Axes>"
      ]
     },
     "metadata": {},
     "output_type": "display_data"
    },
    {
     "name": "stdout",
     "output_type": "stream",
     "text": [
      "[(0, '0.201*\"services\" + 0.188*\"care\" + 0.161*\"children\" + 0.161*\"health\" + 0.148*\"community\" + 0.148*\"school\" + 0.143*\"provide\" + 0.140*\"housing\" + 0.130*\"education\" + 0.125*\"programs\"'), (1, '-0.513*\"housing\" + -0.371*\"low\" + -0.355*\"income\" + -0.238*\"elderly\" + -0.171*\"persons\" + -0.166*\"affordable\" + 0.157*\"school\" + -0.145*\"moderate\" + 0.130*\"students\" + -0.113*\"hud\"'), (2, '-0.394*\"care\" + 0.322*\"school\" + -0.294*\"health\" + 0.262*\"students\" + -0.194*\"services\" + 0.185*\"housing\" + 0.158*\"low\" + -0.157*\"medical\" + 0.149*\"income\" + 0.136*\"charter\"')]\n",
      "(array([0, 1, 2, 3, 4, 5, 6], dtype=int32), array([ 3241, 30031,  1139,  4949, 19672,  5270, 13881]))\n"
     ]
    }
   ],
   "source": [
    "num_topics = 3\n",
    "num_clusters = 7\n",
    "\n",
    "\n",
    "m, c = lsi_model(corpus, dictionary, num_topics)\n",
    "kmeans = KMeans(n_clusters = num_clusters, init = 'k-means++', random_state = 0).fit(c)\n",
    "print(np.unique(kmeans.labels_, return_counts=True))\n",
    "c = pd.DataFrame(c)\n",
    "df['labels'] = kmeans.labels_\n",
    "df = pd.concat([df.reset_index(drop = True), c], axis = 1)"
   ]
  },
  {
   "cell_type": "code",
   "execution_count": 47,
   "metadata": {},
   "outputs": [
    {
     "data": {
      "text/html": [
       "<div>\n",
       "<style scoped>\n",
       "    .dataframe tbody tr th:only-of-type {\n",
       "        vertical-align: middle;\n",
       "    }\n",
       "\n",
       "    .dataframe tbody tr th {\n",
       "        vertical-align: top;\n",
       "    }\n",
       "\n",
       "    .dataframe thead th {\n",
       "        text-align: right;\n",
       "    }\n",
       "</style>\n",
       "<table border=\"1\" class=\"dataframe\">\n",
       "  <thead>\n",
       "    <tr style=\"text-align: right;\">\n",
       "      <th></th>\n",
       "      <th>ActivityOrMissionDesc</th>\n",
       "      <th>CYTotalExpensesAmt</th>\n",
       "      <th>CYTotalRevenueAmt</th>\n",
       "      <th>Desc</th>\n",
       "      <th>EIN</th>\n",
       "      <th>EmployeeCnt</th>\n",
       "      <th>FormType</th>\n",
       "      <th>GrossReceiptsAmt</th>\n",
       "      <th>LastUpdated</th>\n",
       "      <th>NetAssetsOrFundBalancesEOYAmt</th>\n",
       "      <th>...</th>\n",
       "      <th>TaxExemptBondsInd</th>\n",
       "      <th>TaxPeriod</th>\n",
       "      <th>URL</th>\n",
       "      <th>USAddress</th>\n",
       "      <th>WebsiteAddressTxt</th>\n",
       "      <th>text</th>\n",
       "      <th>labels</th>\n",
       "      <th>0</th>\n",
       "      <th>1</th>\n",
       "      <th>2</th>\n",
       "    </tr>\n",
       "  </thead>\n",
       "  <tbody>\n",
       "    <tr>\n",
       "      <th>0</th>\n",
       "      <td>TO DEVELOP AFFORDABLE RENTAL AND OWNERSHIP HOU...</td>\n",
       "      <td>2880329.0</td>\n",
       "      <td>3413572.0</td>\n",
       "      <td>COMMUNITY SERVICES: WORKS WITH COMMUNITY MEMBE...</td>\n",
       "      <td>42964630</td>\n",
       "      <td>25.0</td>\n",
       "      <td>990</td>\n",
       "      <td>3419944.0</td>\n",
       "      <td>2017-01-11T22:15:15</td>\n",
       "      <td>2962890.0</td>\n",
       "      <td>...</td>\n",
       "      <td>0</td>\n",
       "      <td>201512</td>\n",
       "      <td>https://s3.amazonaws.com/irs-form-990/20161243...</td>\n",
       "      <td>{'ZIPCd': '02128'}</td>\n",
       "      <td>WWW.NOAHCDC.ORG</td>\n",
       "      <td>TO DEVELOP AFFORDABLE RENTAL AND OWNERSHIP HOU...</td>\n",
       "      <td>6</td>\n",
       "      <td>0.195876</td>\n",
       "      <td>-0.027658</td>\n",
       "      <td>0.025769</td>\n",
       "    </tr>\n",
       "    <tr>\n",
       "      <th>1</th>\n",
       "      <td>RELEAF MICHIGAN, INC. ASSISTS COMMUNITIES IN T...</td>\n",
       "      <td>71328.0</td>\n",
       "      <td>98045.0</td>\n",
       "      <td>TREES AND SEEDLINGS WERE PLANTED IN COOPERATIO...</td>\n",
       "      <td>382912028</td>\n",
       "      <td>1.0</td>\n",
       "      <td>990</td>\n",
       "      <td>133367.0</td>\n",
       "      <td>2017-01-11T22:15:15</td>\n",
       "      <td>9583.0</td>\n",
       "      <td>...</td>\n",
       "      <td>FALSE</td>\n",
       "      <td>201512</td>\n",
       "      <td>https://s3.amazonaws.com/irs-form-990/20161243...</td>\n",
       "      <td>{'ZIPCd': '48103'}</td>\n",
       "      <td>RELEAFMICHIGAN.ORG</td>\n",
       "      <td>RELEAF MICHIGAN, INC. ASSISTS COMMUNITIES IN T...</td>\n",
       "      <td>1</td>\n",
       "      <td>0.046911</td>\n",
       "      <td>0.006850</td>\n",
       "      <td>0.001023</td>\n",
       "    </tr>\n",
       "    <tr>\n",
       "      <th>2</th>\n",
       "      <td>SUPPORT FOR FAMILY AND FRIENDS OF MENTALLY ILL...</td>\n",
       "      <td>162576.0</td>\n",
       "      <td>184360.0</td>\n",
       "      <td>SUPPORT GROUP FOR FAMILY AND FRIENDS OF MENTAL...</td>\n",
       "      <td>202699020</td>\n",
       "      <td>3.0</td>\n",
       "      <td>990</td>\n",
       "      <td>222014.0</td>\n",
       "      <td>2017-01-11T22:15:15</td>\n",
       "      <td>163528.0</td>\n",
       "      <td>...</td>\n",
       "      <td>FALSE</td>\n",
       "      <td>201512</td>\n",
       "      <td>https://s3.amazonaws.com/irs-form-990/20161243...</td>\n",
       "      <td>{'ZIPCd': '62269'}</td>\n",
       "      <td>WWW.KARLASMITHFOUNDATION.ORG</td>\n",
       "      <td>SUPPORT FOR FAMILY AND FRIENDS OF MENTALLY ILL...</td>\n",
       "      <td>1</td>\n",
       "      <td>0.082975</td>\n",
       "      <td>0.005509</td>\n",
       "      <td>-0.026488</td>\n",
       "    </tr>\n",
       "    <tr>\n",
       "      <th>3</th>\n",
       "      <td>Creation of a revolving loan fund.</td>\n",
       "      <td>806159.0</td>\n",
       "      <td>653283.0</td>\n",
       "      <td>Creation of a revolving loan fund for low inte...</td>\n",
       "      <td>251525572</td>\n",
       "      <td>0.0</td>\n",
       "      <td>990</td>\n",
       "      <td>653283.0</td>\n",
       "      <td>2017-01-11T22:15:15</td>\n",
       "      <td>1200323.0</td>\n",
       "      <td>...</td>\n",
       "      <td>0</td>\n",
       "      <td>201512</td>\n",
       "      <td>https://s3.amazonaws.com/irs-form-990/20161243...</td>\n",
       "      <td>{'ZIPCd': '16510'}</td>\n",
       "      <td>www.developerie.com</td>\n",
       "      <td>Creation of a revolving loan fund. Creation of...</td>\n",
       "      <td>1</td>\n",
       "      <td>0.066224</td>\n",
       "      <td>-0.029602</td>\n",
       "      <td>0.037906</td>\n",
       "    </tr>\n",
       "    <tr>\n",
       "      <th>4</th>\n",
       "      <td>TO FACILITATE THE GRANT FUNDED BY THE NEW JERS...</td>\n",
       "      <td>564347.0</td>\n",
       "      <td>494830.0</td>\n",
       "      <td>GRANT - EMERGENCY MANAGEMENT THE OVERARCHING R...</td>\n",
       "      <td>810593280</td>\n",
       "      <td>0.0</td>\n",
       "      <td>990</td>\n",
       "      <td>494830.0</td>\n",
       "      <td>2017-01-11T22:15:15</td>\n",
       "      <td>135697.0</td>\n",
       "      <td>...</td>\n",
       "      <td>FALSE</td>\n",
       "      <td>201512</td>\n",
       "      <td>https://s3.amazonaws.com/irs-form-990/20161243...</td>\n",
       "      <td>{'ZIPCd': '08691'}</td>\n",
       "      <td>WWW.HCANJ.ORG</td>\n",
       "      <td>TO FACILITATE THE GRANT FUNDED BY THE NEW JERS...</td>\n",
       "      <td>6</td>\n",
       "      <td>0.117246</td>\n",
       "      <td>0.008029</td>\n",
       "      <td>-0.057334</td>\n",
       "    </tr>\n",
       "  </tbody>\n",
       "</table>\n",
       "<p>5 rows × 21 columns</p>\n",
       "</div>"
      ],
      "text/plain": [
       "                               ActivityOrMissionDesc  CYTotalExpensesAmt  \\\n",
       "0  TO DEVELOP AFFORDABLE RENTAL AND OWNERSHIP HOU...           2880329.0   \n",
       "1  RELEAF MICHIGAN, INC. ASSISTS COMMUNITIES IN T...             71328.0   \n",
       "2  SUPPORT FOR FAMILY AND FRIENDS OF MENTALLY ILL...            162576.0   \n",
       "3                 Creation of a revolving loan fund.            806159.0   \n",
       "4  TO FACILITATE THE GRANT FUNDED BY THE NEW JERS...            564347.0   \n",
       "\n",
       "   CYTotalRevenueAmt                                               Desc  \\\n",
       "0          3413572.0  COMMUNITY SERVICES: WORKS WITH COMMUNITY MEMBE...   \n",
       "1            98045.0  TREES AND SEEDLINGS WERE PLANTED IN COOPERATIO...   \n",
       "2           184360.0  SUPPORT GROUP FOR FAMILY AND FRIENDS OF MENTAL...   \n",
       "3           653283.0  Creation of a revolving loan fund for low inte...   \n",
       "4           494830.0  GRANT - EMERGENCY MANAGEMENT THE OVERARCHING R...   \n",
       "\n",
       "         EIN  EmployeeCnt FormType  GrossReceiptsAmt          LastUpdated  \\\n",
       "0   42964630         25.0      990         3419944.0  2017-01-11T22:15:15   \n",
       "1  382912028          1.0      990          133367.0  2017-01-11T22:15:15   \n",
       "2  202699020          3.0      990          222014.0  2017-01-11T22:15:15   \n",
       "3  251525572          0.0      990          653283.0  2017-01-11T22:15:15   \n",
       "4  810593280          0.0      990          494830.0  2017-01-11T22:15:15   \n",
       "\n",
       "   NetAssetsOrFundBalancesEOYAmt    ...    TaxExemptBondsInd TaxPeriod  \\\n",
       "0                      2962890.0    ...                    0    201512   \n",
       "1                         9583.0    ...                FALSE    201512   \n",
       "2                       163528.0    ...                FALSE    201512   \n",
       "3                      1200323.0    ...                    0    201512   \n",
       "4                       135697.0    ...                FALSE    201512   \n",
       "\n",
       "                                                 URL           USAddress  \\\n",
       "0  https://s3.amazonaws.com/irs-form-990/20161243...  {'ZIPCd': '02128'}   \n",
       "1  https://s3.amazonaws.com/irs-form-990/20161243...  {'ZIPCd': '48103'}   \n",
       "2  https://s3.amazonaws.com/irs-form-990/20161243...  {'ZIPCd': '62269'}   \n",
       "3  https://s3.amazonaws.com/irs-form-990/20161243...  {'ZIPCd': '16510'}   \n",
       "4  https://s3.amazonaws.com/irs-form-990/20161243...  {'ZIPCd': '08691'}   \n",
       "\n",
       "              WebsiteAddressTxt  \\\n",
       "0               WWW.NOAHCDC.ORG   \n",
       "1            RELEAFMICHIGAN.ORG   \n",
       "2  WWW.KARLASMITHFOUNDATION.ORG   \n",
       "3           www.developerie.com   \n",
       "4                 WWW.HCANJ.ORG   \n",
       "\n",
       "                                                text labels         0  \\\n",
       "0  TO DEVELOP AFFORDABLE RENTAL AND OWNERSHIP HOU...      6  0.195876   \n",
       "1  RELEAF MICHIGAN, INC. ASSISTS COMMUNITIES IN T...      1  0.046911   \n",
       "2  SUPPORT FOR FAMILY AND FRIENDS OF MENTALLY ILL...      1  0.082975   \n",
       "3  Creation of a revolving loan fund. Creation of...      1  0.066224   \n",
       "4  TO FACILITATE THE GRANT FUNDED BY THE NEW JERS...      6  0.117246   \n",
       "\n",
       "          1         2  \n",
       "0 -0.027658  0.025769  \n",
       "1  0.006850  0.001023  \n",
       "2  0.005509 -0.026488  \n",
       "3 -0.029602  0.037906  \n",
       "4  0.008029 -0.057334  \n",
       "\n",
       "[5 rows x 21 columns]"
      ]
     },
     "execution_count": 47,
     "metadata": {},
     "output_type": "execute_result"
    }
   ],
   "source": [
    "df.head()"
   ]
  },
  {
   "cell_type": "code",
   "execution_count": 61,
   "metadata": {
    "scrolled": false
   },
   "outputs": [
    {
     "name": "stdout",
     "output_type": "stream",
     "text": [
      "\n",
      " CLUSTER: 0 \n",
      "\n",
      "OUR MISSION IS TO PROVIDE LOW-INCOME CHILDREN AND THEIR FAMILIES WITH A BEACON OF HOPE AND A SOURCE OF SUPPORT FOR A BRIGHTER FUTURE. WE STRIVE TO DO SO, BY PROVIDING HIGH QUALITY COMPREHENSIVE CHILD DEVELOPMENT SERVICES TO ENROLLED CHILDREN AND EMPOWERING FAMILIES TO ACHIEVE STABILITY IN THEIR HOME ENVIRONMENT. HEADSTART DAYCARE SERVICES \n",
      "\n",
      "CHRISTIAN MISSIONARY PROVIDE BASIC NEEDS FOOD, CLOTHING, EDUCATION, HOUSING FOR PEOPLE OF EL SALVADOR \n",
      "\n",
      "TO PLAN, CONSTRUCT, DEVELOP & MANAGE AFFORDABLE HOUSING FOR THE PUBLIC. TWIN PINES APARTMENTS, INC. WAS CREATED FOR THE PLANNING, CONSTRUCTING, DEVELOPING, AND MANAGING AFFORDABLE HOUSING FOR THE PUBLIC. THE PROJECT OPERATES A 56-UNIT APARTMENT COMPLEX IN REXBURG, IDAHO. \n",
      "\n",
      "TO PROVIDE SAFETY, ADVOCACY, OUTREACH AND FINANCIAL SUPPORT TO VICTIMS AT RISK OF DOMESTIC VIOLENCE. OUR SISTERS PLACE PROVIDED HOUSING, HOUSING ASSISTANCE, TRANSPORTATION, COUNCELING AND ANCILLARY SERVICES TO 53 VICTIMS OF DOMESTIC VIOLENCE AND 394 CRISIS CALLERS VIA THE 24/7 CRISIS HOTLINE FOR THE YEAR ENDED MARCH 31, 2016. \n",
      "\n",
      "PROVIDE TRANSITIONAL HOUSING TO HOMELESS FAMILIES. THE DOROTHY DAY HOUSE OF HOSPITALITY SERVES WHOLE FAMILIES, PROVIDING THEM WITH SHELTER, FOOD, CLOTHING, AND SOCIAL SERVICES. THE ORGANIZATION IS ALSO ABLE TO PROVIDE HEALTHCARE SERVICES THROUGH OTHER AGENCIES WHEN THE FAMILIES QUALIFY. DOROTHY DAY HOUSE ASSISTS IN SECURING PERMANENT HOUSING, EMPLOYMENT, AND EDUCATIONAL AND/OR VOCATIONAL TRAINING. \n",
      "\n",
      "\n",
      " CLUSTER: 1 \n",
      "\n",
      "RELEAF MICHIGAN, INC. ASSISTS COMMUNITIES IN THE URBAN PLANNING, SALE, AND PLANTING OF TREES AND SEEDLINGS TO HELP BEAUTIFY THE COMMUNITY ENVIRONMENT. TREES AND SEEDLINGS WERE PLANTED IN COOPERATION WITH COMMUNITY ORGANIZATIONS. IN ADDITION, RELEAF MICHIGAN, INC. MADE SEVERAL PRESENTATIONS ON THE EFFECT OF GLOBAL WARMING AND THE BENEFIT OF PLANTING TREES. \n",
      "\n",
      "SUPPORT FOR FAMILY AND FRIENDS OF MENTALLY ILL AND THOSE WHO HAVE LOST A LOVED ONE TO SUICIDE. SUPPORT GROUP FOR FAMILY AND FRIENDS OF MENTALLY ILL. MET TWICE A MONTH. PROVIDED RESOURCES AND FOLLOW-UP SESSIONS WITH PARTICIPANTS. PARTICIPANTS FOR SUPPORT GROUPS WAS APPROX. 1425 DURING 2014. \n",
      "\n",
      "Creation of a revolving loan fund. Creation of a revolving loan fund for low interest loans to companies to stimulate economic development and to increase employment in the Erie County area. \n",
      "\n",
      "To provide education for Alabama probate judges and their staff and promote benficial legislation. The association provides educational programs for judges and staff of every probate court in Alabama, which benefit the entire state of Alabama. It is responsible for organizing four educational conferences and meetings each year. \n",
      "\n",
      "TO PROVIDE SUPPORT TO THE PROGRAMS OF THE MT DIABLO SILVERADO COUNCIL, BSA #23. THE ORGANIZATION PROVIDED SUPPORT TO THE PROGRAMS OF MT DIABLO SILVERADO COUNCIL, BOY SCOUTS OF AMERICA, INC. #23 WHOSE MISSION IS TO PROMOTE THE ABILITY OF BOYS AND YOUNG MEN AND WOMEN TO DO THINGS FOR THEMSELVES AND OTHERS, TRAINING THEM IN SCOUTCRAFT, AND TEACHING THEM PATRIOTISM, COURAGE, SELF-RELIANCE, AND KINDRED VIRTUES, USING THE METHODS WHICH ARE NOW IN COMMON USE BY THE BOY SCOUTS OF AMERICA.IN 2015, THE SUPPORT PROVIDED WAS USED BY MT. DIABLO SILVERADO COUNCIL TO FUND THE SCOUTS WITH DISABILITY FOR THE ANDERSON FUND TRANSFER AND CAMP LINDBALD CABIN. THERE WAS ALSO CAMP MAINTENANCE AND GENERAL OPERATING FUNDS THAT WERE FUNDED. \n",
      "\n",
      "\n",
      " CLUSTER: 2 \n",
      "\n",
      "To Provide Safe and Affordable Housing for Low-Income Persons. THE SOLE PURPOSE IS TO PROVIDE SUBSIDIZED APARTMENT RENTAL INCOME TO APPROXIMATELY 46 LOW-INCOME ELDERLY AND/OR HANDICAPPED PERSONS THROUGH THE U.S. DEPARTMENT OF HUD SECTION 202 PROGRAM. \n",
      "\n",
      "To Provide Safe and Affordable Housing for Elderly Low-Income Persons. THE SOLE PUROSE IS TO PROVIDE SUBSIDIZED APT RENTAL HOUSING TO APPROXIMATELY 37 LOW-INCOME ELDERLY AND/OR HANICAPPED PERSONS THROUGH THE U.S. DEPT OF HUD SECTION 202 PROGRAM. \n",
      "\n",
      "LOW-INCOME HOUSING. MENORAH WEST APARTMENTS IS A 45-UNIT HUD FACILITY PROVIDING LOW INCOME HOUSING AND RELATED SERVICES TO SENIOR CITIZENS. \n",
      "\n",
      "TO DEVELOP AND MAINTAIN LOW-INCOME AND ELDERLY HOUSING PROJECTS AND OTHER RELATED PROGRAMS TO BENEFIT THE ELDERLY. TO PROVIDE RENTAL HOUSING TO LOW INCOME AND ELDERLY INDIVIDUALS. \n",
      "\n",
      "AFFORDABLE HOUSING - SEE PART III LINE 1 FOR MISSION STATEMENT. PROVIDE LOW-INCOME HOUSING FOR DEVELOPMENTALLY DISABLED INDIVIDUALS SUBSIDIZED BY A CONTRACT WITH U.S. DEPARTMENT OF HOUSING AND URBAN DEVELOPMENT. \n",
      "\n",
      "\n",
      " CLUSTER: 3 \n",
      "\n",
      "To provide child care and tutoring services Child care \n",
      "\n",
      "To advocate for access to quality primary health care for all those uninsured and under insured residing in Indiana and to support the growth and development of community-oriented primary care initiatives. Provide technical assistance, including training to community health centers as well as National Health Service Cooperative site development and recruitment/retention of health care professionals. \n",
      "\n",
      "The Universal Health Care Foundation's mission is to be a catalyst that engages people and communities in shaping a democratic health system that provides universal access to quality health care and promotes health in Connecticut. The Foundation believes that health care is a fundamental right and that their work is part of a broader movement for social and economic justice. PUBLIC POLICY- research, education and grant making to support the achievement of universal access to quality, affordable health care \n",
      "\n",
      "CHILDREN & FAMILIES FIRST HAS HELPED NEEDY CHILDREN AND FAMILIES IN DELAWARE FOR MORE THAN 125 YEARS. ANNUALLY, THE ORGANIZATION SERVES MORE THAN 30,000 INDIVIDUALS STATEWIDE THROUGH 30+ PROGRAMS THAT OFFER ASSISTANCE AND SUPPORT THROUGHOUT THE LIFESPAN. THE ORGANIZATION'S SERVICES ARE CHILD-CENTERED AND FAMILY-FOCUSED, FORMING A COMPREHENSIVE CONTINUUM OF QUALITY SOCIAL, EDUCATIONAL, AND MENTAL HEALTH SERVICES. POSITIVE PARENTING - FAMILY FOSTER CARE IS PROVIDED TO CHILDREN AND TEENS WHO CANNOT REMAIN AT HOME DUE TO REASONS THAT MAY INCLUDE ABUSE OR NEGLECT. FOSTER FAMILIES RECEIVE EXTENSIVE TRAINING AND SUPPORT. IN 2015, 78% OF CHILDREN IN FOSTER CARE REMAINED PLACED IN ONE HOME.ADOPTION FROM FOSTER CARE PROVIDES A PERMANENT HOME FOR OLDER YOUTH, SIBLINGS, OR CHILDREN WITH SPECIAL EMOTIONAL, DEVELOPMENTAL, OR MEDICAL NEEDS WHOSE PARENTS HAVE HAD THEIR RIGHTS TERMINATED. POTENTIAL ADOPTIVE FAMILIES ARE RECRUITED, TRAINED, SELECTED, AND SUPPORTED TO FACILITATE SUCCESSFUL ADOPTIONS. IN 2015, 100% OF CHILDREN PLACED FOR ADOPTION REMAINED IN ONE HOME AND 100% OF ADOPTIONS WERE FINALIZED WITHIN 12 MONTHS.FAMILY SEARCH & ENGAGEMENT WORKS WITH YOUTH IN FOSTER CARE AGES 10 TO 17 WHO ARE AT-RISK OF AGING OUT OF FOSTER CARE EITHER TO CONNECT THEM TO FAMILY MEMBERS OR OTHER CARING ADULTS, FOR PERMANENT PLACEMENT, OR FOR SUPPORT DURING TRANSITION. OF 13 YOUTH SERVED IN 2015, 13 MADE CONNECTIONS WITH CARING ADULTS. THE STRENGTHENING FAMILIES PROGRAM OFFERS FAMILY SKILLS TRAINING, ADDRESSING THE NEEDS OF VULNERABLE FAMILIES, INCLUDING THOSE REUNITING AFTER FOSTER CARE. IN 2015, 81% DEMONSTRATED REDUCED RISK FOR NEGATIVE PARENTING BEHAVIORS ON TWO OR MORE DOMAINS. \n",
      "\n",
      "A COMMUNITY DEVELOPMENT CORPORATION SERVING THE COMMUNITIES AND LOW-INCOME RESIDENTS OF WESTERN CONNECTICUT. HEALTH SERVICES - Health Services primarily constitutes CIFC's Greater Danbury Community Health Center (GDCHC), which provides primary care services on a sliding fee scale to low and moderate income families who are uninsured or underinsured. The GDCHC is also a Teaching Health Center that provides community-based primary care training programs to prepare health professionals to serve the needs of the community. Funding is provided by the U.S. Department of Health and Human Services (DHHS), the Connecticut Department of Public Health, including for the Women, Infants and Children (WIC), and School Based Health Center (SBHC) programs, and revenue from its operations. \n",
      "\n",
      "\n",
      " CLUSTER: 4 \n",
      "\n",
      "OUR MISSION IS TO GATHER, PRESERVE AND DISSEMINATE HISTORY FOR THE ENJOYMENT AND EDUCATION OF YOUNG AND OLD, RESIDENTS AND TRAVELERS ALIKE THE ACHS GATHERED THE STORIES AND ARTIFACTS OF ANOKA COUNTY THROUGH SYSTEMATIC INQUIRY WITH THE PUBLIC REGARDING THEIR HOLDINGS AND THE IDENTIFIED VOIDS IN THE COLLECTION. WEEKLY WE ASSESSED BOTH 3-D AND 2-D MATERIALS TO DETERMINE THEIR PROVENANCE, RELEVANCE, AND ABILITY TO ENCAPSULATE THE IDENTITY OF THE COMMUNITY. THE ACHS PRESERVED THE STORIES OF ANOKA COUNTY BY USING OUR NEWLY REDESIGNED POLICY, FORMS, AND PROCESS. STAFF HAS MADE SIGNIFICANT ADVANCES IN THE EFFICIENT USE OF STORAGE SPACE BY REDESIGNING THE ROLLED OBJECTS RACK, FRAMED OBJECTS RACK, AND SHIFTING ARTIFACTS TO MORE APPROPRIATELY SIZED BOXES. THE ACHS DISSEMINATED HISTORY TO THE COMMUNITY THROUGH A NUMBER OF EDUCATIONAL EFFORTS. OUR RELATIONSHIP WITH THE LIBRARY CONTINUES, ALLOWING STAFF TO PRESENT HOUR-LONG TOPICAL FEATURES TO A NEW AND WIDER AUDIENCE AT A VARIETY OF LOCATIONS THROUGHOUT THE COUNTY. WE CONTINUE TO PARTNER WITH THE SCHOOLS TO PROVIDE IN-CLASSROOM PRESENTATIONS. THIS RELATIONSHIP HAS GROWN TO INCLUDE A PILOT PROJECT OF EDUCATION BOXES FULL OF SUPPLEMENTAL MATERIAL THAT FOLLOWS THE NORTHERN LIGHTS CURRICULUM DEVELOPED BY THE MINNESOTA HISTORICAL SOCIETY. FOUR TEACHERS COMMITTED TO BRINGING 70 STUDENTS TO THE MUSEUM AFTER SCHOOL FOR A YOUNG HISTORIANS CLUB. ACHS REACHED A GOAL OF IMPROVED OUTREACH BY PARTICIPATING IN THE TEDXFRIDLEY EVENT AS A SPEAKER, APPEARING AT COUNCIL AND CIVIC CLUB MEETINGS, AS WELL AS PARTICIPATING IN A NEW CHAMBER OF NONPROFITS BEGUN IN ANOKA COUNTY THIS YEAR. \n",
      "\n",
      "RAISES FUNDS FOR INSTRUCTIONAL PROJECTS AND ACTIVITIES THAT WILL HAVE A POSITIVE IMPACT ON THE LEARING EXPERIENCES OF THE CHILDREN IN OUR DISTRICT AUDITORIUM/THEATER RENOVATION PROJECT - THE FOUNDATION IS RAISING FUNDS AND COORDINATING THE RENOVATION OF THE SCHOOL AUDITORIUM/ THEATER THAT WAS ORIGINALLY BUILT IN 1937. THE PROJECT WILL BENEFIT THE SCHOOL AND ENTIRE HIGHLAND PARK COMMUNITY. \n",
      "\n",
      "AN EDUCATIONAL AND RESEARCH ORGANIZATION THAT ACTIVELY ADVOCATES THE PRINCIPLES OF INDIVIDUAL FREEDOM, PERSONAL RESPONSIBILITY, ECONOMIC FREEDOM, AND LIMITED GOVERNMENT. THE CORPORATION IS AN INDEPENDENT NON-PROFIT EDUCATIONAL AND RESEARCH ORGANIZATION THAT WILL DEVELOP PUBLIC POLICY RESEARCH AND PUBLISH STUDIES AND REPORTS. \n",
      "\n",
      "PROMOTION AND SUPPORT OF YOUTH SWIMMING. THE PURPOSE OF MIDNIGHT SUN SWIM TEAM IS TO PROMOTE GOOD SPORTING CONDUCT,SELF-DISCIPLINE AND SELF-CONFIDENCE, WHILE IMPROVING SWIMMING ABILITY AMONG CHILDREN. THE MIDNIGHT SUN SWIM TEAM PROVIDES CHILDREN WITH THE OPPORTUNITY TO COMPETE INDIVIDUALLY AND AS A TEAM AT THE LOCAL, STATE AND NATIONAL LEVELS; AND TO STIMULATE PUBLIC INTEREST IN, AND APPRECIATION OF, AGE GROUP SWIMMING \n",
      "\n",
      "THE ORGANIZATION'S PRIMARY EXEMPT PURPOSE IS TO RAISE PUBLIC AWARENESS OF THE CHARITIES ASSISTED BY THE WOMAN'S CLUB WHILE ALSO PROVIDING ADDITIONAL SOURCES OF FUNDS FOR THOSE CHARITIES. VARIOUS OTHER NOT FOR PROFIT ORGANIZATIONS. \n",
      "\n",
      "\n",
      " CLUSTER: 5 \n",
      "\n",
      "HIGH SCHOOL EDUCATION 9-12 GRADE STUDENTS HIGH SCHOOL EDUCATION FOR 9-12 GRADE STUDENTS \n",
      "\n",
      "TO PROVIDE A COLLEGE EDUCATION TO STUDENTS PROVIDED COLLEGE EDUCATION TO APPROXIMATELY 25 STUDENTS, INCLUDING DORMITORY ACCOMODATIONS. \n",
      "\n",
      "The organization is an educational institution using the Montessori approach to education. Primary education: approximately 110 children from ages one to twelve attend the school \n",
      "\n",
      "The Fund is a nonprofit organization that works to build a critical mass of great public schools in Chicago by investing in talented principals and enabling educator teams to reinvent classroom learning in ways that dramatically improve student outcomes. The Fund is a catalyst for accelerating student learning in all of Chicago's public schools, and has been a longstanding leader in identifying and scaling what works for teachers and principals, as well as the students they serve. Please visit our website at www.thefundchicago.org to learn more about The Fund. Innovative Educator NetworkThe Fund continues to support principals and their educator teams as they use innovative models to personalize instruction, accelerate student learning and move their public schools into the 21st century. In 2015, The Fund conducted a third cycle of its Summer Design Program (SDP), which enabled 40 public school teams to take part in a summer-long workshop series designed to help them implement small-scale innovations within their classrooms and schools. Following the SDP, The Fund offered continued programmatic and financial support to 25 schools; projects supported through this initiative included the expansion of personalized and blended learning strategies; the restructuring of physical classrooms; different approaches to class schedules; new professional development and peer engagement opportunities for teachers; and more. The Fund also provided support to the Breakthrough Schools Chicago initiative, a competitive grant program to catalyze the development of transformational, 21st Century school models that enhance personalized learning and accelerate student outcomes. In 2015, The Fund provided time, space, mentors and resources for seven schools to build on early innovations and to transform teaching and learning in a way that better meets student needs. The Fund's support also helped expand this program to an additional 23 schools, creating the largest educator-led, technology-enabled initiative in the country. \n",
      "\n",
      "Build pathways for disconnected youth to high school diploma and college credential. In 2015, Gateway to College supported 43 programs serving 260 school districts in 22 states, with a total of 4482 students enrolled. Gateway to College programs graduated 900 students, and leveraged $6.8 million paid towards college tuition. During the academic year, 76% of all Gateway students earned some college credit and an average of 20.3 college credits were earned by Gateway graduates. In Oregon, GtCNN began an effort to build a broad coalition of partners to develop strategies for addressing educational inequities in the state. \n",
      "\n",
      "\n",
      " CLUSTER: 6 \n",
      "\n"
     ]
    },
    {
     "name": "stdout",
     "output_type": "stream",
     "text": [
      "TO DEVELOP AFFORDABLE RENTAL AND OWNERSHIP HOUSING FOR INDIVIDUALS, SENIORS AND FAMILIES. TO DEVELOP ENVIRONMENTAL JUSTICE AND CLIMATE CHANGE PROGRAMS, PROVIDE FORECLOSURE PREVENTION AND HOMEBUYER SERVICE COUNSELING PROGRAMS, AND WORK IN PARTNERSHIP WITH CITIES AND TOWNS EAST OF SPRINGFIELD. COMMUNITY SERVICES: WORKS WITH COMMUNITY MEMBERS FROM EAST BOSTON TO IMPROVE THE ENVIRONMENT, ENHANCE THE QUALITY OF LIFE AND DEVELOP LEADERSHIP SKILLS OF RESIDENTS OF EAST BOSTON AND BEYOND. THESE GOALS ARE ACHIEVED BY INVOLVING A BROAD RANGE OF RESIDENTS AND COMMUNITY ASSOCIATIONS IN THE PLANNING, DESIGN, IMPLEMENTATION, MAINTENANCE, AND PROGRAMMING OF ENVIRONMENTAL RESTORATION PROJECTS, AS WELL AS COMMUNITY ORGANIZING PROJECTS. ALSO PROVIDES ENGLISH CLASSES FOR SPEAKERS OF OTHER LANGUAGES (ESOL), AND SUMMER SOCCER AND SCHOOLYARD PROGRAMS FOR CHILDREN. \n",
      "\n",
      "TO FACILITATE THE GRANT FUNDED BY THE NEW JERSEY DEPARTMENT OF HEALTH AND SENIOR SERVICES FOR THE PREPAREDNESS AND RESPONSE TO BIOTERRORISM. GRANT - EMERGENCY MANAGEMENT THE OVERARCHING REQUIREMENTS OF THE GRANT ARE TO: A.ACHIEVE NATIONAL INCIDENT MANAGEMENT SYSTEM (NIMS)COMPLIANCE B.PROVIDE EDUCATION AND PREPAREDNESS TRAINING C.CONDUCT EXERCISES, EVALUATION AND CORRECTIVE ACTION D.IDENTIFY NEEDS OF AT-RISK POPULATIONS E.DEVELOP INTEROPERABLE COMMUNICATION F.PROVIDE FACILITY MANAGEMENT G.INVENTORY AND DEVELOP MEDICAL EVACUATION/SHELTER- IN-PLACE/ALTERNATIVE CARE SITES HCANJ FOUNDATION WORKS WITHIN THE NEW JERSEY HEALTHCARE ASSOCIATIONS EMERGENCY PREPAREDNESS ALLIANCE (NJHAEPA) TO ADVANCE THE DEVELOPMENT OF THE NJDHSS HEALTH EMERGENCY PREPAREDNESS AND RESPONSE MASTER PLAN COVERING THE EMERGENCY PREPAREDNESS AND RESPONSE ACTIVITIES. THE ACTIVITIES DESCRIBED IN THE MASTER PLAN CONFORM TO THE FRAMEWORK SET FORTH IN NJDHSS DOCUMENT: RESPONDING TO PUBLIC HEALTH EMERGENCIES: NEW JERSEY STRATEGY. \n",
      "\n",
      "TO PROMOTE THE HIGHEST QUALITY OF WORKLIFE, PROVIDING RESOURCES AND TOOLS FOR EMPLOYEES AND THEIR FAMILIES, WORKPLACES AND COMMUNITIES. TEXAS VETERANS TRANSITION PROGRAM: SERVED 352 VETERANS, 50 FAMILY MEMBERS AND 6 SURVIVORS; WITH 70% SEEKING CAREER SERVICES AND 30% OTHER CONCERNS SUCH AS PERSONAL, TRAUMA, AND FAMILY COUNSELING AND LEGAL/FINANCIAL ADVISEMENT. THE MAJORITY OF THE 70% SOUGHT AND WERE PROVIDED OTHER SERVICES INCLUDING 51% INDIVIDUAL CAREER/TRAINING SESSIONS, 25% PERSONAL COUNSELING, 14% LEGAL/FINANCIAL AND 10% FAMILY. OF THOSE SERVED, 28% OF THE VETERANS WERE FEMALE AND 72% MALE. OUTREACH INCLUDED HIRING EVENTS, BENEFIT FAIRS, DEPLOYMENT READINESS, GUARD AND RESERVE FAMILY DAYS, AND COLLABORATIVE MEETINGS AMONG SERVICE PROVIDERS. UTLIZING ONLINE MEDIA, PUBLISHED WEEKLY \"VETERANS NEWSLETTER AND \"VETERAN-EMPLOYER CONNECTION\" WITH JOB OPENINGS SENT BY VETERAN-FRIENDLY COMPANIES. ALSO PROVIDED QUARTERLY NEWSLETTER TO INSTITUTE PARTNERS AND SUPPORTERS. MAINTAINED ONLINE DATABASE OF CURRENT CLIENT RESUMES. CONTINUED TO DEVELOP TEXAS ALLIANCE OF MILITARY WOMEN OFFERING MENTORING TO MILITARY WOMEN NEWLY IN TRANSITION. SET GROUNDWORK TO ESTABLISH OUTREACH PROGRAMS FOR AREA WOMEN VETERANS. PROVIDED TARGETED VOCATIONAL TRAINING INITIATIVE IN COLLABORATION WITH HELMETS TO HARDHATS NATIONAL VETERAN PROGRAM OF THE AFL-CIO WITH FIRST VETERAN CLIENT ACCEPTED INTO PIPEFITTERS APPRENTICESHIP PROGRAM. \n",
      "\n",
      "TOUCH A LIFE PROVIDES FOOD, SHELTER, CLOTHING, EDUCATION, AND MEDICAL CARE TO ORPHANS IN FOREIGN COUNTRIES. TOUCH A LIFE OPERATES IN GHANA TO SUPPORT CHILDREN IN THEIR PROGRAM THROUGH THE CENTER IN KUMASI. THE ORGANIZATION PROVIDES SUPPORT FOR THE CONSTRUCTION ON NEW HOMES AND SCHOOLS TO SERVE THE MANY CHILDREN THAT ARE STILL BEING RESCUED. ADDITIONALLY, THE ORGANIZATION WILL SEND TEAMS OF PEOPLE TO GHANA FROM TIME TO TIME TO MINISTER AND WORK WITH THE CHILDREN THAT ARE SUPPORTED. \n",
      "\n",
      "TO FIND WAYS TO PREVENT AND CURE PULMONARY HYPERTENSION AND TO PROVIDE (CONTINUED ON SCHEDULE O ) HOPE FOR THE PULMONARY HYPERTENSION COMMUNITY THROUGH SUPPORT, EDUCATION, ADVOCACY, AND AWARENESS. PATIENT SERVICES AND EDUCATION; MEDICAL AWARENESS; EDUCATIONAL SUPPORT RESOURCES VIA PATIENT TELEPHONE HELPLINE; OVER 200 SUPPORT GROUPS, NEWSLETTERS, BROCHURES, AND A WEBSITE. PHA PROVIDES OUTREACH PROGRAMS AT THE LOCAL AND NATIONAL LEVEL. \n",
      "\n"
     ]
    }
   ],
   "source": [
    "for cluster in range(7):\n",
    "    print('\\n', 'CLUSTER:', cluster, '\\n')\n",
    "    for i in range(5):\n",
    "        print(df[df['labels'] == cluster]['text'].iloc[i], '\\n')"
   ]
  },
  {
   "cell_type": "code",
   "execution_count": null,
   "metadata": {},
   "outputs": [],
   "source": [
    "## Cluster 0: housing\n",
    "## Cluster 1: ?\n",
    "## Cluster 2: low-income housing\n",
    "## Cluster 3: need n-grams... child care vs. health care\n",
    "## Cluster 4: ?\n",
    "## Cluster 5: schools, education\n",
    "## Cluster 6: ?"
   ]
  }
 ],
 "metadata": {
  "kernelspec": {
   "display_name": "Python 3",
   "language": "python",
   "name": "python3"
  },
  "language_info": {
   "codemirror_mode": {
    "name": "ipython",
    "version": 3
   },
   "file_extension": ".py",
   "mimetype": "text/x-python",
   "name": "python",
   "nbconvert_exporter": "python",
   "pygments_lexer": "ipython3",
   "version": "3.6.8"
  }
 },
 "nbformat": 4,
 "nbformat_minor": 2
}
