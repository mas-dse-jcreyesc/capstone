{
 "cells": [
  {
   "cell_type": "code",
   "execution_count": 1,
   "metadata": {},
   "outputs": [],
   "source": [
    "import serpscrap,pandas as pd\n",
    "from urllib.parse import urlparse,ParseResult"
   ]
  },
  {
   "cell_type": "code",
   "execution_count": 2,
   "metadata": {},
   "outputs": [],
   "source": [
    "df = pd.read_csv('sample_data_2017_M4.csv',usecols=['WebsiteAddressTxt'])\n",
    "df = df.dropna()\n",
    "df_top = df.head(5)"
   ]
  },
  {
   "cell_type": "code",
   "execution_count": 4,
   "metadata": {},
   "outputs": [],
   "source": [
    "def format_url(url):\n",
    "    p = urlparse(url, 'http')\n",
    "    netloc = p.netloc or p.path\n",
    "    path = p.path if p.netloc else ''\n",
    "    if not netloc.startswith('www.'):\n",
    "        netloc = 'www.' + netloc\n",
    "\n",
    "    return ParseResult('http', netloc, path, *p[3:]).geturl()\n",
    "    "
   ]
  },
  {
   "cell_type": "markdown",
   "metadata": {},
   "source": [
    "## Get Website Raw Text"
   ]
  },
  {
   "cell_type": "code",
   "execution_count": null,
   "metadata": {},
   "outputs": [
    {
     "name": "stdout",
     "output_type": "stream",
     "text": [
      "http://www.WWW.NOAHCDC.ORG\n",
      "None\n",
      "\n",
      "http://www.RELEAFMICHIGAN.ORG\n",
      "Our plantings are done in partnership with cities, townships, villages, youth groups, neighborhoods, schools and other volunteer groups.\n",
      "All planting volunteers learn how to properly plant and care for trees.\n",
      "Education We offer on-site workshops to community forums and school children on why trees are important, how to choose the right tree and proper care to grow healthy, long living trees.\n",
      "Every presentation is tailored to the needs of the community.\n",
      "Big Tree Hunt Think you've spotted the largest tree in Michigan?\n",
      "Join others all around the state who submit trees to our competition for the biggest tree in our biennial Michigan Big Tree Hunt.\n",
      "The hunt is on from now until September 3, 2019!\n",
      "---|---|--- Upcoming Events 3/27/19 in Caledonia, Lower Grand River Forestry Network Meeting 3/28/19 in Midland, Saginaw Bay Watershed Forestry Network Meeting 4/2/19 in Traverse City, Grand Traverse Bay Forestry Network Meeting 4/28/19 in Lansing Tree Planting in Potter Park Visit our Events page for more information Why ReLeaf Michigan?\n",
      "ReLeaf Michigan is Michigan's only statewide tree planting non-profit organization working with communities and organizations throughout Michigan to protect and restore our urban tree canopies.\n",
      "Founded by some of the most respected arborists in the state, ReLeaf Michigan plants the Right Tree in the Right Place at the Right Time to ensure each tree thrives for generations to come.\n",
      "Since 1988, ReLeaf Michigan has planted over 30,000 trees on public land with more than 400 communities and, through community workshops, increased awareness of the important benefits trees provide.\n",
      "Our communities are stronger when they are greener.\n",
      "People are healthier, the air is cleaner, infrastructure is more efficient, and the economy is stronger with trees.\n",
      "How You Can Help As non-profit volunteer 501 organization, ReLeaf Michigan depends on support from people like you who care about protecting and preserving one of Michigan's most valuable resources: our trees.\n",
      "​Please consider supporting us.\n",
      "SUPPORT US Has ReLeaf Michigan Already Impacted You?\n",
      "We've planted 30,000 trees in Michigan over the past 30 years, and you might be surprised to discover that some of the trees in your area were planted by ReLeaf Michigan.\n",
      "Check out this interactive map and see if any of the trees you enjoy every day were planted by ReLeaf Michigan.\n",
      "Follow Us on Facebook ReLeaf Michigan We Need Trees Now More Than Ever Michigan is losing trees when we need them most. New research shows \"there's almost no public health, crime or environmental quality metric that isn't made better by the presence of trees.\n",
      "Trees are infrastructure, and they are the cheapest way cities can make difference in the lives of residents.\"\n",
      "Michigan is one of 23 states losing trees at an alarming rate.\n",
      "Trees play vital role in our community's health and wellness in more ways than you might expect.\n",
      "They positively affect the cost of infrastructure energy property value water and air purity, and even lower crime rates.\n",
      "LEARN MORE ABOUT HOW TREES SOLVE PROBLEMS (C) Copyright 2017 ReLeaf Michigan. All rights reserved Home Who We Are About Us Our Team Our Sponsors Our Collaborators Contact Us Latest News What We Do Community Tree Plantings Tree Education Workshops Big Tree Hunt Where to Find Brochure Tree Management Assistance Why We Need Trees Resources Events Support Us Donate Membership Become Company Sponsor Volunteer Tribute Donation\n",
      "\n",
      "\n",
      "http://www.WWW.KARLASMITHFOUNDATION.ORG\n",
      "None\n",
      "\n",
      "http://www.developerie.com\n",
      "None\n",
      "\n",
      "http://www.WWW.HCANJ.ORG\n",
      "None\n",
      "\n"
     ]
    }
   ],
   "source": [
    "for ws in df_top['WebsiteAddressTxt']:\n",
    "    url = format_url(ws)\n",
    "    config = serpscrap.Config()\n",
    "    urlscrape = serpscrap.UrlScrape(config.get())\n",
    "    result = urlscrape.scrap_url(url)\n",
    "    print(url)\n",
    "    print(result.get(\"text_raw\"))\n",
    "    print()"
   ]
  },
  {
   "cell_type": "markdown",
   "metadata": {},
   "source": [
    "## Get Snippets from Google Search"
   ]
  },
  {
   "cell_type": "code",
   "execution_count": null,
   "metadata": {},
   "outputs": [
    {
     "name": "stderr",
     "output_type": "stream",
     "text": [
      "2019-04-08 11:30:14,032 - root - INFO - preparing chromedriver\n",
      "2019-04-08 11:30:14,035 - root - INFO - detecting chromedriver\n",
      "2019-04-08 11:30:14,038 - root - INFO - using chromedriver/chromedriver\n",
      "2019-04-08 11:30:14,112 - root - INFO - 6 cache files found in /tmp/.serpscrap/\n",
      "2019-04-08 11:30:14,113 - root - INFO - 0/1 objects have been read from the cache.\n",
      "        1 remain to get scraped.\n",
      "2019-04-08 11:30:14,118 - root - INFO - \n",
      "                Going to scrape 1 keywords with 1\n",
      "                proxies by using 1 threads.\n",
      "2019-04-08 11:30:14,166 - scrapcore.scraping - INFO - \n",
      "        [+] SelScrape[localhost][search-type:normal][https://www.google.com/search?] using search engine \"google\".\n",
      "        Num keywords=1, num pages for keyword=[1]\n",
      "        \n",
      "2019-04-08 11:30:15,669 - scrapcore.scraper.selenium - INFO - https://www.google.com/search?\n"
     ]
    }
   ],
   "source": [
    "#keywords = ['ymca']\n",
    "#keywords = ['https://www.ymca.net/']\n",
    "config = serpscrap.Config()\n",
    "config = serpscrap.Config()\n",
    "config_new = {\n",
    "   'num_results_per_page': 2,\n",
    "   'do_caching': True,\n",
    "   'num_pages_for_keyword': 1,\n",
    "   #'scrape_urls': True,\n",
    "   'search_engines': ['google'],\n",
    "   'google_search_url': 'https://www.google.com/search?'\n",
    "}\n",
    "\n",
    "config.apply(config_new)\n",
    "\n",
    "scrap = serpscrap.SerpScrap()\n",
    "\n",
    "\n",
    "for ws in df_top['WebsiteAddressTxt']:\n",
    "    scrap.init(config=config.get(), keywords=ws)\n",
    "    results = scrap.run()\n",
    "\n",
    "    for result in results:\n",
    "        print(result['serp_snippet'])"
   ]
  },
  {
   "cell_type": "code",
   "execution_count": null,
   "metadata": {},
   "outputs": [],
   "source": []
  }
 ],
 "metadata": {
  "kernelspec": {
   "display_name": "Python 3",
   "language": "python",
   "name": "python3"
  },
  "language_info": {
   "codemirror_mode": {
    "name": "ipython",
    "version": 3
   },
   "file_extension": ".py",
   "mimetype": "text/x-python",
   "name": "python",
   "nbconvert_exporter": "python",
   "pygments_lexer": "ipython3",
   "version": "3.6.4"
  }
 },
 "nbformat": 4,
 "nbformat_minor": 2
}
