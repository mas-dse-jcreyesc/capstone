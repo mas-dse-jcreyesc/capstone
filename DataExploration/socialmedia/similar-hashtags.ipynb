{
 "cells": [
  {
   "cell_type": "code",
   "execution_count": 1,
   "metadata": {},
   "outputs": [],
   "source": [
    "from TwitterSearch import *\n",
    "import matplotlib.pyplot as plt\n",
    "import collections,sys,math "
   ]
  },
  {
   "cell_type": "code",
   "execution_count": 2,
   "metadata": {},
   "outputs": [],
   "source": [
    "def FindHashHags(tweet):\n",
    "    \"\"\"\n",
    "    This function takes the twittersearch output tweet,\n",
    "    cleans up the text and the format, and returns\n",
    "    the set of all hashtags in the tweet\n",
    "    \"\"\"\n",
    "    # First get the tweet text\n",
    "    tweettxt = tweet['text']#.encode('ascii','ignore')\n",
    "    # People sometimes stack hashtags with no spacing\n",
    "    # Add spacing before the hashtag symbol\n",
    "    tweettxt = tweettxt.replace('#',' #')\n",
    "    # Clean all punctuation which sometimes \n",
    "    # gets cluttered in with the tag\n",
    "    for punct in '.!\",;:%<>/~`()[]{}?':\n",
    "        tweettxt = tweettxt.replace(punct,'')\n",
    "    # Split the tweet string into a list of words,\n",
    "    # some of which will be hashtagged\n",
    "    # print tweettxt\n",
    "    tweettxt = tweettxt.split()\n",
    "    # Initiatie list of hashtags\n",
    "    hashtags = []\n",
    "    # Loop over the words in the tweet\n",
    "    for word in tweettxt:\n",
    "        # Find words beginning with hashtag\n",
    "        if word[0]=='#':\n",
    "            # Lower-case the word\n",
    "            hashtag = word.lower()\n",
    "            # Correct for possisives\n",
    "            hashtag= hashtag.split('\\'')[0]         \n",
    "            # Get rid of the hashtag symbol\n",
    "            hashtag = hashtag.replace('#','')\n",
    "            # Make sure there is text left, append to list\n",
    "            if len(hashtag)>0:\n",
    "                hashtags.append(hashtag)\n",
    "    # return clean list of hashtags\n",
    "    return hashtags"
   ]
  },
  {
   "cell_type": "code",
   "execution_count": 3,
   "metadata": {},
   "outputs": [
    {
     "name": "stdout",
     "output_type": "stream",
     "text": [
      "['cosmos', 'science', 'physics']\n"
     ]
    }
   ],
   "source": [
    "MyTweet = {}\n",
    "MyTweet['text'] = 'WOAH just saw #COSMOs #Science!!#physics.'\n",
    "print(FindHashHags(MyTweet))"
   ]
  },
  {
   "cell_type": "code",
   "execution_count": 4,
   "metadata": {},
   "outputs": [],
   "source": [
    "def HashSearch(hashtag):\n",
    "    \"\"\"\n",
    "    This is the master function which will perform the twitter \n",
    "    search for the hashtag, and find all other hashtags in those\n",
    "    tweets. It will return a histogram of the frequency of other\n",
    "    hashtags in tweets. \n",
    "    \"\"\"\n",
    "    # Eerything in lower case for simplicity\n",
    "    hashtag = hashtag.lower()\n",
    " \n",
    "    # CoTags will be the list of shared tags in tweets\n",
    "    CoTags = []\n",
    "    # Total number of tweets discovered\n",
    "    ntweets = 0\n",
    "    # This is the hashtag with no case or hash symbol\n",
    "    basictag = hashtag.lower()\n",
    "    basictag = basictag.replace('#','')\n",
    " \n",
    "    # Create the twitter search object\n",
    "    # You need your own keys and token from your twitter account\n",
    "    # https://dev.twitter.com/docs/auth/tokens-devtwittercom\n",
    "    ts = TwitterSearch(\n",
    "    consumer_key = 'CksEcB7NZCrOtquLlszqK6jU8',\n",
    "    consumer_secret = 'FbSTyqMIrm5qPMmnwDGIftEgBV4xkdg7Fn0beTky8rQqaDp4Mq',\n",
    "    access_token = '122799723-0VEN0focBNDzuM3bzfj8k3v3qfaOg7hHZnjNZYAZ',\n",
    "    access_token_secret = 'YtEns5tuIGcFu6qJEtfFvJqBCXJiWi05JWcCNup22iL8C')\n",
    " \n",
    "    # Create twitter search order for our hashtag, in english (en)\n",
    "    # With setCount 100 (100 results)\n",
    "    tso = TwitterSearchOrder() \n",
    "    tso.set_keywords([hashtag]) \n",
    "    tso.set_language('en') \n",
    "    tso.set_count(100) \n",
    "    tso.set_include_entities(False) \n",
    "    # Loop over tweets in resutls. \n",
    "    for tweet in ts.search_tweets_iterable(tso): \n",
    "        # Use our cleaning/prasing function to get hashtags in tweet\n",
    "        hashtags = FindHashHags(tweet)\n",
    "        # Loop over hashtags\n",
    "        for atag in hashtags:\n",
    "            # Ignore our target hashtag!\n",
    "            if basictag not in atag:\n",
    "                # Add each hashtag to list of CoTags\n",
    "                CoTags.append(atag)\n",
    "        # Stop at 1000, that's enough\n",
    "        if ntweets == 1000:\n",
    "            break\n",
    "        ntweets += 1\n",
    " \n",
    "    # Get histogram of values \n",
    "    taghisto = collections.Counter(CoTags)\n",
    "    # convert histogram to basic list like [['tag1',n1],['tag2',n2]]\n",
    "    taghisto = [list(x) for x in sorted(taghisto.items(), key=lambda x: -x[1])]\n",
    "     \n",
    "    # Let's normalize everything to percentages, and get uncertainties\n",
    "    ntweets = float(ntweets)\n",
    "    # Loop over histogram bins\n",
    "    for ibin in range(len(taghisto)):\n",
    "        # The poisson uncertainty is the square root of counts for each tag\n",
    "        uncertainty = math.sqrt(taghisto[ibin][1])\n",
    "        # Set counts to a percentage of total tweets in which tag occurs\n",
    "        taghisto[ibin][1]= 100.*taghisto[ibin][1]/ntweets\n",
    "        # Same for the uncertainty\n",
    "        taghisto[ibin].append(100.*uncertainty/ntweets)\n",
    " \n",
    "    # Return just the histogram information\n",
    "    return taghisto"
   ]
  },
  {
   "cell_type": "code",
   "execution_count": 8,
   "metadata": {},
   "outputs": [
    {
     "name": "stdout",
     "output_type": "stream",
     "text": [
      "[['co2', 40.0, 4.588314677411236], ['scwx', 11.578947368421053, 2.468639873591279], ['kdcm', 11.578947368421053, 2.468639873591279], ['atmosphere', 3.1578947368421053, 1.28920512778062], ['lulzsec', 1.5789473684210527, 0.9116056881941459], ['india', 1.5789473684210527, 0.9116056881941459], ['wutip', 1.0526315789473684, 0.7443229275647869], ['pacific', 1.0526315789473684, 0.7443229275647869], ['amateurradio', 1.0526315789473684, 0.7443229275647869], ['space', 1.0526315789473684, 0.7443229275647869], ['wefax', 1.0526315789473684, 0.7443229275647869], ['apt', 1.0526315789473684, 0.7443229275647869], ['meteor', 1.0526315789473684, 0.7443229275647869], ['nasa', 1.0526315789473684, 0.7443229275647869], ['jpl', 1.0526315789473684, 0.7443229275647869], ['wwg1wgaworldwide', 1.0526315789473684, 0.7443229275647869], ['wwg1wga', 1.0526315789473684, 0.7443229275647869], ['yellowvests', 1.0526315789473684, 0.7443229275647869], ['giletsjaunes', 1.0526315789473684, 0.7443229275647869], ['gelehesjes', 1.0526315789473684, 0.7443229275647869], ['q', 1.0526315789473684, 0.7443229275647869], ['qanon', 1.0526315789473684, 0.7443229275647869], ['qarmy', 1.0526315789473684, 0.7443229275647869], ['thestormishere', 1.0526315789473684, 0.7443229275647869], ['brexit', 1.0526315789473684, 0.7443229275647869], ['difi', 0.5263157894736842, 0.5263157894736842], ['newgreendeal', 0.5263157894736842, 0.5263157894736842], ['temperature', 0.5263157894736842, 0.5263157894736842], ['gpwx', 0.5263157894736842, 0.5263157894736842], ['space…', 0.5263157894736842, 0.5263157894736842], ['dx', 0.5263157894736842, 0.5263157894736842], ['elniño', 0.5263157894736842, 0.5263157894736842], ['astro', 0.5263157894736842, 0.5263157894736842], ['nsf', 0.5263157894736842, 0.5263157894736842], ['acte16', 0.5263157894736842, 0.5263157894736842], ['actex…', 0.5263157894736842, 0.5263157894736842], ['acte16…', 0.5263157894736842, 0.5263157894736842], ['clinatealarmists', 0.5263157894736842, 0.5263157894736842], ['algore', 0.5263157894736842, 0.5263157894736842], ['weatherchannel', 0.5263157894736842, 0.5263157894736842], ['globalwarming', 0.5263157894736842, 0.5263157894736842], ['matthawkmusic', 0.5263157894736842, 0.5263157894736842], ['turnarounddontdrown', 0.5263157894736842, 0.5263157894736842], ['nws', 0.5263157894736842, 0.5263157894736842], ['matthawkjingle', 0.5263157894736842, 0.5263157894736842], ['matthawk…', 0.5263157894736842, 0.5263157894736842], ['stormspotter', 0.5263157894736842, 0.5263157894736842], ['weather', 0.5263157894736842, 0.5263157894736842], ['tornadoes', 0.5263157894736842, 0.5263157894736842], ['storms', 0.5263157894736842, 0.5263157894736842]]\n"
     ]
    }
   ],
   "source": [
    "print(HashSearch('#noaa'))"
   ]
  },
  {
   "cell_type": "code",
   "execution_count": 5,
   "metadata": {},
   "outputs": [],
   "source": [
    "def DrawHisto(taghisto,atag):\n",
    "    \"\"\"\n",
    "    This function is for drawing a png histogram of the\n",
    "    output of the HashSearch function.\n",
    "    \"\"\"\n",
    "    # Let's get an ideal number of bins. This is a cosmetic\n",
    "    # choice. I choose all bins where the error bar is less\n",
    "    # than 30% of the bin content. After all, there is little\n",
    "    # insight from single-events. No mor ethan 10.\n",
    "    N = 0\n",
    "    for t in taghisto:\n",
    "        if t[2]<0.3*t[1]:\n",
    "            N+=1\n",
    "        if N==10:\n",
    "            break\n",
    "    # Get the list of labels, bin content, and bin errors\n",
    "    # for the first N tweets.       \n",
    "    labels = ['#'+taghisto[n][0] for n in range(N)]\n",
    "    content = [taghisto[n][1] for n  in range(N)]\n",
    "    errors = [taghisto[n][2] for n  in range(N)]\n",
    " \n",
    "    # Horizontal bar plot with error bars\n",
    "    plt.barh(range(N), content,xerr=errors, align='center',alpha=0.4)\n",
    "    # Set the y labels as the hashtags\n",
    "    plt.yticks(range(N), labels)\n",
    "    # Set x label and title\n",
    "    plt.xlabel('Percent Shared Hashtags')\n",
    "    plt.title('Shared hashtags for #'+mytag)\n",
    "    # Cosmetic choice to adjust x axis\n",
    "    plt.xlim(0.0,max(content)*1.2)\n",
    "    # Labels can be big, auto-fix the layout\n",
    "    plt.tight_layout()\n",
    "    # Save to png\n",
    "    plt.savefig(atag+'.png')"
   ]
  },
  {
   "cell_type": "code",
   "execution_count": 18,
   "metadata": {},
   "outputs": [
    {
     "data": {
      "image/png": "[encoded data removed]",
      "text/plain": [
       "<matplotlib.figure.Figure at 0x11559bc88>"
      ]
     },
     "metadata": {},
     "output_type": "display_data"
    }
   ],
   "source": [
    "# This is the hashtag (system argument)\n",
    "mytag = \"ymca\"\n",
    "# Now get the raw data for co-tags of the hashtag \"mytag\"\n",
    "myhisto = HashSearch('#'+mytag)\n",
    "# Draw the histogram!\n",
    "DrawHisto(myhisto,mytag)"
   ]
  },
  {
   "cell_type": "code",
   "execution_count": 21,
   "metadata": {},
   "outputs": [
    {
     "data": {
      "text/plain": [
       "[]"
      ]
     },
     "execution_count": 21,
     "metadata": {},
     "output_type": "execute_result"
    }
   ],
   "source": [
    "# This is the hashtag (system argument)\n",
    "mytag = \"SJMCA\"\n",
    "# Now get the raw data for co-tags of the hashtag \"mytag\"\n",
    "HashSearch('#'+mytag)\n"
   ]
  },
  {
   "cell_type": "code",
   "execution_count": null,
   "metadata": {},
   "outputs": [],
   "source": []
  }
 ],
 "metadata": {
  "kernelspec": {
   "display_name": "Python 3",
   "language": "python",
   "name": "python3"
  },
  "language_info": {
   "codemirror_mode": {
    "name": "ipython",
    "version": 3
   },
   "file_extension": ".py",
   "mimetype": "text/x-python",
   "name": "python",
   "nbconvert_exporter": "python",
   "pygments_lexer": "ipython3",
   "version": "3.6.4"
  }
 },
 "nbformat": 4,
 "nbformat_minor": 2
}
