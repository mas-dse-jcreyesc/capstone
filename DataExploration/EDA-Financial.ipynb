{
 "cells": [
  {
   "cell_type": "code",
   "execution_count": 20,
   "metadata": {},
   "outputs": [],
   "source": [
    "import pandas as pd\n",
    "import numpy as np\n",
    "from sklearn.cluster import KMeans\n",
    "from sklearn import metrics\n",
    "from scipy.spatial.distance import cdist\n",
    "from sklearn import preprocessing\n",
    "\n",
    "import matplotlib.pyplot as plt"
   ]
  },
  {
   "cell_type": "code",
   "execution_count": 81,
   "metadata": {},
   "outputs": [],
   "source": [
    "df = pd.read_csv('./sample_data_2017_FINAL.csv')"
   ]
  },
  {
   "cell_type": "code",
   "execution_count": 82,
   "metadata": {},
   "outputs": [],
   "source": [
    "df = df[~df['CYTotalExpensesAmt'].isna()]\n",
    "df = df[~df['CYTotalRevenueAmt'].isna()]\n",
    "df = df[~df['GrossReceiptsAmt'].isna()]\n",
    "df = df[~df['NetAssetsOrFundBalancesEOYAmt'].isna()]\n",
    "# df = df[~df['EmployeeCnt'].isna()]"
   ]
  },
  {
   "cell_type": "code",
   "execution_count": 84,
   "metadata": {},
   "outputs": [
    {
     "name": "stdout",
     "output_type": "stream",
     "text": [
      "78337\n"
     ]
    }
   ],
   "source": [
    "print(len(df))\n",
    "df = df[['CYTotalExpensesAmt', 'CYTotalRevenueAmt', 'GrossReceiptsAmt', 'NetAssetsOrFundBalancesEOYAmt']] #, 'EmployeeCnt']]"
   ]
  },
  {
   "cell_type": "code",
   "execution_count": 85,
   "metadata": {},
   "outputs": [],
   "source": [
    "cols = df.columns\n",
    "df = pd.DataFrame(preprocessing.scale(df))\n",
    "df.columns = cols"
   ]
  },
  {
   "cell_type": "code",
   "execution_count": 86,
   "metadata": {},
   "outputs": [
    {
     "data": {
      "text/html": [
       "<div>\n",
       "<style scoped>\n",
       "    .dataframe tbody tr th:only-of-type {\n",
       "        vertical-align: middle;\n",
       "    }\n",
       "\n",
       "    .dataframe tbody tr th {\n",
       "        vertical-align: top;\n",
       "    }\n",
       "\n",
       "    .dataframe thead th {\n",
       "        text-align: right;\n",
       "    }\n",
       "</style>\n",
       "<table border=\"1\" class=\"dataframe\">\n",
       "  <thead>\n",
       "    <tr style=\"text-align: right;\">\n",
       "      <th></th>\n",
       "      <th>CYTotalExpensesAmt</th>\n",
       "      <th>CYTotalRevenueAmt</th>\n",
       "      <th>GrossReceiptsAmt</th>\n",
       "      <th>NetAssetsOrFundBalancesEOYAmt</th>\n",
       "    </tr>\n",
       "  </thead>\n",
       "  <tbody>\n",
       "    <tr>\n",
       "      <th>0</th>\n",
       "      <td>-0.043679</td>\n",
       "      <td>-0.042951</td>\n",
       "      <td>-0.030206</td>\n",
       "      <td>-0.039521</td>\n",
       "    </tr>\n",
       "    <tr>\n",
       "      <th>1</th>\n",
       "      <td>-0.056426</td>\n",
       "      <td>-0.057560</td>\n",
       "      <td>-0.036596</td>\n",
       "      <td>-0.051835</td>\n",
       "    </tr>\n",
       "    <tr>\n",
       "      <th>2</th>\n",
       "      <td>-0.056012</td>\n",
       "      <td>-0.057179</td>\n",
       "      <td>-0.036424</td>\n",
       "      <td>-0.051193</td>\n",
       "    </tr>\n",
       "    <tr>\n",
       "      <th>3</th>\n",
       "      <td>-0.053091</td>\n",
       "      <td>-0.055113</td>\n",
       "      <td>-0.035585</td>\n",
       "      <td>-0.046870</td>\n",
       "    </tr>\n",
       "    <tr>\n",
       "      <th>4</th>\n",
       "      <td>-0.054189</td>\n",
       "      <td>-0.055811</td>\n",
       "      <td>-0.035893</td>\n",
       "      <td>-0.051309</td>\n",
       "    </tr>\n",
       "  </tbody>\n",
       "</table>\n",
       "</div>"
      ],
      "text/plain": [
       "   CYTotalExpensesAmt  CYTotalRevenueAmt  GrossReceiptsAmt  \\\n",
       "0           -0.043679          -0.042951         -0.030206   \n",
       "1           -0.056426          -0.057560         -0.036596   \n",
       "2           -0.056012          -0.057179         -0.036424   \n",
       "3           -0.053091          -0.055113         -0.035585   \n",
       "4           -0.054189          -0.055811         -0.035893   \n",
       "\n",
       "   NetAssetsOrFundBalancesEOYAmt  \n",
       "0                      -0.039521  \n",
       "1                      -0.051835  \n",
       "2                      -0.051193  \n",
       "3                      -0.046870  \n",
       "4                      -0.051309  "
      ]
     },
     "execution_count": 86,
     "metadata": {},
     "output_type": "execute_result"
    }
   ],
   "source": [
    "df.head()"
   ]
  },
  {
   "cell_type": "code",
   "execution_count": 87,
   "metadata": {},
   "outputs": [
    {
     "data": {
      "image/png": "[encoded data removed]",
      "text/plain": [
       "<Figure size 432x288 with 1 Axes>"
      ]
     },
     "metadata": {},
     "output_type": "display_data"
    }
   ],
   "source": [
    "distortions = []\n",
    "K = range(1,20)\n",
    "for k in K:\n",
    "    kmeanModel = KMeans(n_clusters=k, init = 'k-means++', random_state = 0).fit(df)\n",
    "    distortions.append(sum(np.min(cdist(df, kmeanModel.cluster_centers_, 'euclidean'), axis=1)) / df.shape[0])\n",
    "\n",
    "# Plot the elbow\n",
    "plt.plot(K, distortions, 'x')\n",
    "plt.xlabel('k')\n",
    "plt.ylabel('Distortion')\n",
    "# plt.title('num_topics = ' + str(num_topics))\n",
    "plt.show()"
   ]
  },
  {
   "cell_type": "code",
   "execution_count": 88,
   "metadata": {},
   "outputs": [],
   "source": [
    "k10 = KMeans(n_clusters=10, init = 'k-means++', random_state = 0).fit(df)"
   ]
  },
  {
   "cell_type": "code",
   "execution_count": 89,
   "metadata": {},
   "outputs": [],
   "source": [
    "df['labels'] = k10.labels_"
   ]
  },
  {
   "cell_type": "code",
   "execution_count": 91,
   "metadata": {},
   "outputs": [
    {
     "data": {
      "text/html": [
       "<div>\n",
       "<style scoped>\n",
       "    .dataframe tbody tr th:only-of-type {\n",
       "        vertical-align: middle;\n",
       "    }\n",
       "\n",
       "    .dataframe tbody tr th {\n",
       "        vertical-align: top;\n",
       "    }\n",
       "\n",
       "    .dataframe thead th {\n",
       "        text-align: right;\n",
       "    }\n",
       "</style>\n",
       "<table border=\"1\" class=\"dataframe\">\n",
       "  <thead>\n",
       "    <tr style=\"text-align: right;\">\n",
       "      <th></th>\n",
       "      <th>CYTotalExpensesAmt</th>\n",
       "      <th>CYTotalRevenueAmt</th>\n",
       "      <th>GrossReceiptsAmt</th>\n",
       "      <th>NetAssetsOrFundBalancesEOYAmt</th>\n",
       "    </tr>\n",
       "    <tr>\n",
       "      <th>labels</th>\n",
       "      <th></th>\n",
       "      <th></th>\n",
       "      <th></th>\n",
       "      <th></th>\n",
       "    </tr>\n",
       "  </thead>\n",
       "  <tbody>\n",
       "    <tr>\n",
       "      <th>0</th>\n",
       "      <td>882</td>\n",
       "      <td>882</td>\n",
       "      <td>882</td>\n",
       "      <td>882</td>\n",
       "    </tr>\n",
       "    <tr>\n",
       "      <th>1</th>\n",
       "      <td>1</td>\n",
       "      <td>1</td>\n",
       "      <td>1</td>\n",
       "      <td>1</td>\n",
       "    </tr>\n",
       "    <tr>\n",
       "      <th>2</th>\n",
       "      <td>1</td>\n",
       "      <td>1</td>\n",
       "      <td>1</td>\n",
       "      <td>1</td>\n",
       "    </tr>\n",
       "    <tr>\n",
       "      <th>3</th>\n",
       "      <td>19</td>\n",
       "      <td>19</td>\n",
       "      <td>19</td>\n",
       "      <td>19</td>\n",
       "    </tr>\n",
       "    <tr>\n",
       "      <th>4</th>\n",
       "      <td>1</td>\n",
       "      <td>1</td>\n",
       "      <td>1</td>\n",
       "      <td>1</td>\n",
       "    </tr>\n",
       "    <tr>\n",
       "      <th>5</th>\n",
       "      <td>2</td>\n",
       "      <td>2</td>\n",
       "      <td>2</td>\n",
       "      <td>2</td>\n",
       "    </tr>\n",
       "    <tr>\n",
       "      <th>6</th>\n",
       "      <td>59</td>\n",
       "      <td>59</td>\n",
       "      <td>59</td>\n",
       "      <td>59</td>\n",
       "    </tr>\n",
       "    <tr>\n",
       "      <th>7</th>\n",
       "      <td>77195</td>\n",
       "      <td>77195</td>\n",
       "      <td>77195</td>\n",
       "      <td>77195</td>\n",
       "    </tr>\n",
       "    <tr>\n",
       "      <th>8</th>\n",
       "      <td>1</td>\n",
       "      <td>1</td>\n",
       "      <td>1</td>\n",
       "      <td>1</td>\n",
       "    </tr>\n",
       "    <tr>\n",
       "      <th>9</th>\n",
       "      <td>176</td>\n",
       "      <td>176</td>\n",
       "      <td>176</td>\n",
       "      <td>176</td>\n",
       "    </tr>\n",
       "  </tbody>\n",
       "</table>\n",
       "</div>"
      ],
      "text/plain": [
       "        CYTotalExpensesAmt  CYTotalRevenueAmt  GrossReceiptsAmt  \\\n",
       "labels                                                            \n",
       "0                      882                882               882   \n",
       "1                        1                  1                 1   \n",
       "2                        1                  1                 1   \n",
       "3                       19                 19                19   \n",
       "4                        1                  1                 1   \n",
       "5                        2                  2                 2   \n",
       "6                       59                 59                59   \n",
       "7                    77195              77195             77195   \n",
       "8                        1                  1                 1   \n",
       "9                      176                176               176   \n",
       "\n",
       "        NetAssetsOrFundBalancesEOYAmt  \n",
       "labels                                 \n",
       "0                                 882  \n",
       "1                                   1  \n",
       "2                                   1  \n",
       "3                                  19  \n",
       "4                                   1  \n",
       "5                                   2  \n",
       "6                                  59  \n",
       "7                               77195  \n",
       "8                                   1  \n",
       "9                                 176  "
      ]
     },
     "execution_count": 91,
     "metadata": {},
     "output_type": "execute_result"
    }
   ],
   "source": [
    "df.groupby(['labels']).count()"
   ]
  },
  {
   "cell_type": "code",
   "execution_count": 124,
   "metadata": {},
   "outputs": [
    {
     "data": {
      "text/plain": [
       "0.9989277097667769"
      ]
     },
     "execution_count": 124,
     "metadata": {},
     "output_type": "execute_result"
    }
   ],
   "source": [
    "(77195+882+176)/len(df)"
   ]
  },
  {
   "cell_type": "code",
   "execution_count": 122,
   "metadata": {},
   "outputs": [
    {
     "data": {
      "text/html": [
       "<div>\n",
       "<style scoped>\n",
       "    .dataframe tbody tr th:only-of-type {\n",
       "        vertical-align: middle;\n",
       "    }\n",
       "\n",
       "    .dataframe tbody tr th {\n",
       "        vertical-align: top;\n",
       "    }\n",
       "\n",
       "    .dataframe thead th {\n",
       "        text-align: right;\n",
       "    }\n",
       "</style>\n",
       "<table border=\"1\" class=\"dataframe\">\n",
       "  <thead>\n",
       "    <tr style=\"text-align: right;\">\n",
       "      <th></th>\n",
       "      <th>CYTotalExpensesAmt</th>\n",
       "      <th>CYTotalRevenueAmt</th>\n",
       "      <th>GrossReceiptsAmt</th>\n",
       "      <th>NetAssetsOrFundBalancesEOYAmt</th>\n",
       "    </tr>\n",
       "    <tr>\n",
       "      <th>colors</th>\n",
       "      <th></th>\n",
       "      <th></th>\n",
       "      <th></th>\n",
       "      <th></th>\n",
       "    </tr>\n",
       "  </thead>\n",
       "  <tbody>\n",
       "    <tr>\n",
       "      <th>blue</th>\n",
       "      <td>-0.038004</td>\n",
       "      <td>-0.038992</td>\n",
       "      <td>-0.026840</td>\n",
       "      <td>-0.032057</td>\n",
       "    </tr>\n",
       "    <tr>\n",
       "      <th>cyan</th>\n",
       "      <td>1.006207</td>\n",
       "      <td>1.042669</td>\n",
       "      <td>0.574269</td>\n",
       "      <td>1.055128</td>\n",
       "    </tr>\n",
       "    <tr>\n",
       "      <th>green</th>\n",
       "      <td>3.914530</td>\n",
       "      <td>3.996499</td>\n",
       "      <td>2.184049</td>\n",
       "      <td>2.884475</td>\n",
       "    </tr>\n",
       "    <tr>\n",
       "      <th>purple</th>\n",
       "      <td>9.511667</td>\n",
       "      <td>9.831887</td>\n",
       "      <td>5.561577</td>\n",
       "      <td>7.099672</td>\n",
       "    </tr>\n",
       "    <tr>\n",
       "      <th>teal</th>\n",
       "      <td>21.439986</td>\n",
       "      <td>21.927755</td>\n",
       "      <td>13.140627</td>\n",
       "      <td>12.493448</td>\n",
       "    </tr>\n",
       "    <tr>\n",
       "      <th>orange</th>\n",
       "      <td>218.912874</td>\n",
       "      <td>213.487006</td>\n",
       "      <td>141.009683</td>\n",
       "      <td>12.518144</td>\n",
       "    </tr>\n",
       "    <tr>\n",
       "      <th>pink</th>\n",
       "      <td>23.151583</td>\n",
       "      <td>24.629029</td>\n",
       "      <td>59.371765</td>\n",
       "      <td>17.196991</td>\n",
       "    </tr>\n",
       "    <tr>\n",
       "      <th>black</th>\n",
       "      <td>11.632606</td>\n",
       "      <td>14.058768</td>\n",
       "      <td>156.539555</td>\n",
       "      <td>17.944831</td>\n",
       "    </tr>\n",
       "    <tr>\n",
       "      <th>grey</th>\n",
       "      <td>91.506608</td>\n",
       "      <td>99.470841</td>\n",
       "      <td>67.256247</td>\n",
       "      <td>80.315430</td>\n",
       "    </tr>\n",
       "    <tr>\n",
       "      <th>red</th>\n",
       "      <td>20.364573</td>\n",
       "      <td>13.947919</td>\n",
       "      <td>119.660256</td>\n",
       "      <td>234.908668</td>\n",
       "    </tr>\n",
       "  </tbody>\n",
       "</table>\n",
       "</div>"
      ],
      "text/plain": [
       "        CYTotalExpensesAmt  CYTotalRevenueAmt  GrossReceiptsAmt  \\\n",
       "colors                                                            \n",
       "blue             -0.038004          -0.038992         -0.026840   \n",
       "cyan              1.006207           1.042669          0.574269   \n",
       "green             3.914530           3.996499          2.184049   \n",
       "purple            9.511667           9.831887          5.561577   \n",
       "teal             21.439986          21.927755         13.140627   \n",
       "orange          218.912874         213.487006        141.009683   \n",
       "pink             23.151583          24.629029         59.371765   \n",
       "black            11.632606          14.058768        156.539555   \n",
       "grey             91.506608          99.470841         67.256247   \n",
       "red              20.364573          13.947919        119.660256   \n",
       "\n",
       "        NetAssetsOrFundBalancesEOYAmt  \n",
       "colors                                 \n",
       "blue                        -0.032057  \n",
       "cyan                         1.055128  \n",
       "green                        2.884475  \n",
       "purple                       7.099672  \n",
       "teal                        12.493448  \n",
       "orange                      12.518144  \n",
       "pink                        17.196991  \n",
       "black                       17.944831  \n",
       "grey                        80.315430  \n",
       "red                        234.908668  "
      ]
     },
     "execution_count": 122,
     "metadata": {},
     "output_type": "execute_result"
    }
   ],
   "source": [
    "df_label = df.groupby(['labels']).mean()\n",
    "df_label['colors'] = colors\n",
    "df_label = df_label.set_index('colors')\n",
    "df_label.sort_values(by='NetAssetsOrFundBalancesEOYAmt')"
   ]
  },
  {
   "cell_type": "code",
   "execution_count": 50,
   "metadata": {},
   "outputs": [],
   "source": [
    "from sklearn.decomposition import PCA "
   ]
  },
  {
   "cell_type": "code",
   "execution_count": 93,
   "metadata": {},
   "outputs": [],
   "source": [
    "pca = PCA(n_components=2)\n",
    "pca.fit(df)\n",
    "df_pca = pca.transform(df)"
   ]
  },
  {
   "cell_type": "code",
   "execution_count": 94,
   "metadata": {},
   "outputs": [],
   "source": [
    "df_pca = pd.DataFrame(df_pca)\n",
    "df_pca['labels'] = df['labels']"
   ]
  },
  {
   "cell_type": "code",
   "execution_count": 125,
   "metadata": {},
   "outputs": [
    {
     "data": {
      "image/png": "[encoded data removed]",
      "text/plain": [
       "<Figure size 1080x504 with 1 Axes>"
      ]
     },
     "metadata": {},
     "output_type": "display_data"
    }
   ],
   "source": [
    "plt.figure(figsize=(15,7))\n",
    "colors = ['cyan', 'orange', 'red', 'teal', 'black', 'pink', 'purple', 'blue', 'grey', 'green']\n",
    "for label in range(10):\n",
    "    df_sample = df_pca[df_pca['labels'] == label]\n",
    "    x = plt.scatter(df_sample[0], df_sample[1], c = colors[label], alpha = .5, s = 150)\n",
    "#     plt.legend([x], colors[label])\n",
    "#     legend = plt.legend(handles=[x])\n",
    "#     ax = plt.gca().add_artist(legend)\n",
    "plt.title(\"Financial Clusters in 2-Dimensions, k=10\")\n",
    "plt.show()\n",
    "\n",
    "## x-axis appears to be correlated with income (Revenue and Gross Receipts)\n",
    "## y-axis Net Assets/Revenue(?)"
   ]
  },
  {
   "cell_type": "code",
   "execution_count": null,
   "metadata": {},
   "outputs": [],
   "source": [
    "plt.figure(figsize=(20,10))\n",
    "colors = ['pink', 'green', 'blue', 'black', 'orange', 'yellow', 'purple', 'red', 'grey', 'cyan']\n",
    "\n",
    "df_sample = df_pca[df_pca['labels'] == 1]\n",
    "x = plt.scatter(df_sample[0], df_sample[1], c = colors[label], alpha = .5, s = 150)\n",
    "x1 = \n",
    "    df_sample = df_pca[df_pca['labels'] == label]\n",
    "    x = plt.scatter(df_sample[0], df_sample[1], c = colors[label], alpha = .5, s = 150)\n",
    "plt.legend([x], colors[label])\n",
    "# x1 = plt.scatter(df_pca[0], df_pca[1], c = df['labels_12'], alpha = .5, s = 100)\n",
    "# plt.legend([x], [df['labels_12'].unique()], scatterpoints=1)\n",
    "plt.show()"
   ]
  }
 ],
 "metadata": {
  "kernelspec": {
   "display_name": "Python 3",
   "language": "python",
   "name": "python3"
  },
  "language_info": {
   "codemirror_mode": {
    "name": "ipython",
    "version": 3
   },
   "file_extension": ".py",
   "mimetype": "text/x-python",
   "name": "python",
   "nbconvert_exporter": "python",
   "pygments_lexer": "ipython3",
   "version": "3.6.7"
  }
 },
 "nbformat": 4,
 "nbformat_minor": 2
}
