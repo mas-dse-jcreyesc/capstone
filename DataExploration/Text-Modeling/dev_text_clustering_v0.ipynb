{
 "cells": [
  {
   "cell_type": "markdown",
   "metadata": {},
   "source": [
    "# Targeted Analysis (2k Samples)"
   ]
  },
  {
   "cell_type": "code",
   "execution_count": 1,
   "metadata": {},
   "outputs": [
    {
     "name": "stderr",
     "output_type": "stream",
     "text": [
      "WARNING: Logging before flag parsing goes to stderr.\n",
      "W0518 06:34:36.404087 140545725142784 __init__.py:56] Some hub symbols are not available because TensorFlow version is less than 1.14\n",
      "[nltk_data] Downloading package stopwords to /home/nltk_data...\n",
      "[nltk_data]   Package stopwords is already up-to-date!\n",
      "[nltk_data] Downloading package wordnet to /home/nltk_data...\n",
      "[nltk_data]   Package wordnet is already up-to-date!\n"
     ]
    }
   ],
   "source": [
    "import warnings\n",
    "warnings.filterwarnings('ignore')\n",
    "\n",
    "import pdb\n",
    "\n",
    "import numpy as np\n",
    "import pandas as pd\n",
    "import matplotlib.pyplot as plt\n",
    "\n",
    "from scripts.text_operations import (\n",
    "    clean_data,\n",
    "    encode_text\n",
    ")\n",
    "from scripts.clustering import create_clusters\n",
    "\n",
    "# SKLearn imports\n",
    "from sklearn.manifold import TSNE\n",
    "from sklearn.feature_extraction.text import CountVectorizer\n",
    "from sklearn.decomposition import PCA, LatentDirichletAllocation\n",
    "\n",
    "# Scipy import\n",
    "from scipy.signal import find_peaks\n",
    "from scipy.stats import gaussian_kde\n",
    "from scipy.spatial.distance import cosine\n",
    "from scipy.spatial.distance import euclidean\n",
    "from scipy.spatial.distance import cityblock\n",
    "from scipy.spatial.distance import mahalanobis"
   ]
  },
  {
   "cell_type": "markdown",
   "metadata": {},
   "source": [
    "## Load Data and Cluster"
   ]
  },
  {
   "cell_type": "code",
   "execution_count": 2,
   "metadata": {},
   "outputs": [
    {
     "name": "stdout",
     "output_type": "stream",
     "text": [
      "importing Jupyter notebook from /home/notebooks/api/filter_text.ipynb\n",
      "importing Jupyter notebook from /home/notebooks/api/ParseWeb.ipynb\n"
     ]
    },
    {
     "name": "stderr",
     "output_type": "stream",
     "text": [
      "[nltk_data] Downloading package wordnet to /home/nltk_data...\n",
      "[nltk_data]   Package wordnet is already up-to-date!\n",
      "[nltk_data] Downloading package punkt to /home/nltk_data...\n",
      "[nltk_data]   Package punkt is already up-to-date!\n",
      "[nltk_data] Downloading package stopwords to /home/nltk_data...\n",
      "[nltk_data]   Package stopwords is already up-to-date!\n"
     ]
    },
    {
     "name": "stdout",
     "output_type": "stream",
     "text": [
      "Connect to: [mongodb://mongo/irs990]\n",
      "List of databases in MongoDB: ['admin', 'config', 'irs990', 'local']\n",
      "Open db: [irs990]\n",
      "Collection: [2017]\n",
      "1418 documents present\n",
      "1418 documents present\n"
     ]
    }
   ],
   "source": [
    "%run ../../api/classy990downloads.ipynb\n",
    "\n",
    "\n",
    "year = 2017\n",
    "uri='mongodb://mongo/irs990'\n",
    "\n",
    "db = mongo990( uri=uri, year=year, dump=False)\n",
    "        \n",
    "db.verify()\n"
   ]
  },
  {
   "cell_type": "code",
   "execution_count": 3,
   "metadata": {},
   "outputs": [],
   "source": [
    "fields = {\n",
    "    \"/IRS990/ActivityOrMissionDesc\":1,\n",
    "    '/IRS990/Desc':1,\n",
    "    'EIN':1,\n",
    "    '/IRS990/MissionDesc':1,\n",
    "    'OrganizationName':1,\n",
    "    'WebSnippet':1,\n",
    "    '/IRS990/WebsiteAddressTxt':1,\n",
    "}\n",
    "\n",
    "col_names = [\n",
    "            'ActivityOrMissionDesc',\n",
    "            'Desc',\n",
    "            'MissionDesc',\n",
    "            'WebsiteAddressTxt',\n",
    "            'EIN',\n",
    "            'OrganizationName',\n",
    "            '_id'\n",
    "        ]\n"
   ]
  },
  {
   "cell_type": "code",
   "execution_count": 4,
   "metadata": {},
   "outputs": [],
   "source": [
    "#col_names = [\n",
    "#    \"ActivityOrMissionDesc\", 'BooksInCareOfDetail/USAddress/ZIPCode','CYSalariesCompEmpBnftPaidAmt',\n",
    "#    'CYTotalExpensesAmt','CYTotalProfFndrsngExpnsAmt','CYTotalRevenueAmt','Desc','EIN','EmployeeCnt',\n",
    "#    'FormType','GovernmentGrantsAmt', 'GrossReceiptsAmt','MissionDesc', 'NetAssetsOrFundBalancesEOYAmt',\n",
    "#    'OrganizationName','OtherSalariesAndWagesGrp/TotalAmt','PYSalariesCompEmpBnftPaidAmt','PYTotalExpensesAmt',\n",
    "#    'PYTotalProfFndrsngExpnsAmt','PYTotalRevenueAmt','RelatedOrganizationsAmt','RevenueAmt','TaxExemptBondsInd',\n",
    "#    'TaxPeriod','TotalAssetsGrp/EOYAmt','TotalContributionsAmt', 'TotalEmployeeCnt','TotalLiabilitiesGrp/EOYAmt',\n",
    "#    'TotalNetAssetsFundBalanceGrp/EOYAmt','TotalVolunteersCnt','URL','WebsiteAddressTxt','_id'\n",
    "#]"
   ]
  },
  {
   "cell_type": "code",
   "execution_count": 5,
   "metadata": {},
   "outputs": [],
   "source": [
    "data = pd.DataFrame(list(db.collection.find( {}, fields  )))"
   ]
  },
  {
   "cell_type": "code",
   "execution_count": 6,
   "metadata": {},
   "outputs": [],
   "source": [
    "data.columns= col_names\n",
    "data.dropna(subset=['WebsiteAddressTxt','ActivityOrMissionDesc','Desc','MissionDesc'],inplace=True)  \n",
    "#data =  data[data['MissionDesc'] != 'N/A']\n",
    "#data.dropna(inplace=True)"
   ]
  },
  {
   "cell_type": "code",
   "execution_count": 7,
   "metadata": {},
   "outputs": [],
   "source": [
    "#data = pd.read_csv('sample_2000_M5.csv')"
   ]
  },
  {
   "cell_type": "code",
   "execution_count": 8,
   "metadata": {},
   "outputs": [
    {
     "data": {
      "text/html": [
       "<div>\n",
       "<style scoped>\n",
       "    .dataframe tbody tr th:only-of-type {\n",
       "        vertical-align: middle;\n",
       "    }\n",
       "\n",
       "    .dataframe tbody tr th {\n",
       "        vertical-align: top;\n",
       "    }\n",
       "\n",
       "    .dataframe thead th {\n",
       "        text-align: right;\n",
       "    }\n",
       "</style>\n",
       "<table border=\"1\" class=\"dataframe\">\n",
       "  <thead>\n",
       "    <tr style=\"text-align: right;\">\n",
       "      <th></th>\n",
       "      <th>ActivityOrMissionDesc</th>\n",
       "      <th>Desc</th>\n",
       "      <th>MissionDesc</th>\n",
       "      <th>WebsiteAddressTxt</th>\n",
       "      <th>EIN</th>\n",
       "      <th>OrganizationName</th>\n",
       "      <th>_id</th>\n",
       "    </tr>\n",
       "  </thead>\n",
       "  <tbody>\n",
       "    <tr>\n",
       "      <th>0</th>\n",
       "      <td>see</td>\n",
       "      <td>operation lodge charitable recreational enjoym...</td>\n",
       "      <td>see</td>\n",
       "      <td>N/A</td>\n",
       "      <td>042662873</td>\n",
       "      <td>ELKS BUILDING CORP OF NORWOOD</td>\n",
       "      <td>042662873_201603</td>\n",
       "    </tr>\n",
       "    <tr>\n",
       "      <th>1</th>\n",
       "      <td>develop affordable rental ownership housing in...</td>\n",
       "      <td>community service work community member east b...</td>\n",
       "      <td>see page line</td>\n",
       "      <td>[https://noahcdc.org, https://noahcdc.org/?q=a...</td>\n",
       "      <td>042964630</td>\n",
       "      <td>NEIGHBORHOOD OF AFFORDABLE HOUSING INC</td>\n",
       "      <td>042964630_201512</td>\n",
       "    </tr>\n",
       "    <tr>\n",
       "      <th>2</th>\n",
       "      <td>releaf michigan inc assist community urban pla...</td>\n",
       "      <td>tree seedling planted cooperation community or...</td>\n",
       "      <td>releaf michigan inc assist community urban pla...</td>\n",
       "      <td>RELEAFMICHIGAN.ORG</td>\n",
       "      <td>382912028</td>\n",
       "      <td>RELEAF MICHIGAN INC</td>\n",
       "      <td>382912028_201512</td>\n",
       "    </tr>\n",
       "    <tr>\n",
       "      <th>4</th>\n",
       "      <td>support family friend mentally ill lost loved ...</td>\n",
       "      <td>support group family friend mentally ill met t...</td>\n",
       "      <td>support family friend mentally ill lost loved ...</td>\n",
       "      <td>WWW.KARLASMITHFOUNDATION.ORG</td>\n",
       "      <td>202699020</td>\n",
       "      <td>KARLA SMITH FOUNDATION</td>\n",
       "      <td>202699020_201512</td>\n",
       "    </tr>\n",
       "    <tr>\n",
       "      <th>5</th>\n",
       "      <td>creation revolving loan fund</td>\n",
       "      <td>creation revolving loan fund low interest loan...</td>\n",
       "      <td>assist regional economic recovery strategy aid...</td>\n",
       "      <td>www.developerie.com</td>\n",
       "      <td>251525572</td>\n",
       "      <td>ENTERPRISE DEVELOPMENT FUND OF ERIE COUNTY INC</td>\n",
       "      <td>251525572_201512</td>\n",
       "    </tr>\n",
       "  </tbody>\n",
       "</table>\n",
       "</div>"
      ],
      "text/plain": [
       "                               ActivityOrMissionDesc  \\\n",
       "0                                                see   \n",
       "1  develop affordable rental ownership housing in...   \n",
       "2  releaf michigan inc assist community urban pla...   \n",
       "4  support family friend mentally ill lost loved ...   \n",
       "5                       creation revolving loan fund   \n",
       "\n",
       "                                                Desc  \\\n",
       "0  operation lodge charitable recreational enjoym...   \n",
       "1  community service work community member east b...   \n",
       "2  tree seedling planted cooperation community or...   \n",
       "4  support group family friend mentally ill met t...   \n",
       "5  creation revolving loan fund low interest loan...   \n",
       "\n",
       "                                         MissionDesc  \\\n",
       "0                                                see   \n",
       "1                                      see page line   \n",
       "2  releaf michigan inc assist community urban pla...   \n",
       "4  support family friend mentally ill lost loved ...   \n",
       "5  assist regional economic recovery strategy aid...   \n",
       "\n",
       "                                   WebsiteAddressTxt        EIN  \\\n",
       "0                                                N/A  042662873   \n",
       "1  [https://noahcdc.org, https://noahcdc.org/?q=a...  042964630   \n",
       "2                                 RELEAFMICHIGAN.ORG  382912028   \n",
       "4                       WWW.KARLASMITHFOUNDATION.ORG  202699020   \n",
       "5                                www.developerie.com  251525572   \n",
       "\n",
       "                                 OrganizationName               _id  \n",
       "0                   ELKS BUILDING CORP OF NORWOOD  042662873_201603  \n",
       "1          NEIGHBORHOOD OF AFFORDABLE HOUSING INC  042964630_201512  \n",
       "2                             RELEAF MICHIGAN INC  382912028_201512  \n",
       "4                          KARLA SMITH FOUNDATION  202699020_201512  \n",
       "5  ENTERPRISE DEVELOPMENT FUND OF ERIE COUNTY INC  251525572_201512  "
      ]
     },
     "execution_count": 8,
     "metadata": {},
     "output_type": "execute_result"
    }
   ],
   "source": [
    "data.head()"
   ]
  },
  {
   "cell_type": "code",
   "execution_count": 9,
   "metadata": {
    "scrolled": true
   },
   "outputs": [
    {
     "name": "stdout",
     "output_type": "stream",
     "text": [
      "WARNING:tensorflow:From /usr/local/lib/python3.5/dist-packages/tensorflow/python/ops/control_flow_ops.py:3632: colocate_with (from tensorflow.python.framework.ops) is deprecated and will be removed in a future version.\n",
      "Instructions for updating:\n",
      "Colocations handled automatically by placer.\n"
     ]
    },
    {
     "name": "stderr",
     "output_type": "stream",
     "text": [
      "W0518 06:34:44.031349 140545725142784 deprecation.py:323] From /usr/local/lib/python3.5/dist-packages/tensorflow/python/ops/control_flow_ops.py:3632: colocate_with (from tensorflow.python.framework.ops) is deprecated and will be removed in a future version.\n",
      "Instructions for updating:\n",
      "Colocations handled automatically by placer.\n"
     ]
    },
    {
     "name": "stdout",
     "output_type": "stream",
     "text": [
      "INFO:tensorflow:Saver not created because there are no variables in the graph to restore\n"
     ]
    },
    {
     "name": "stderr",
     "output_type": "stream",
     "text": [
      "I0518 06:34:45.539750 140545725142784 saver.py:1483] Saver not created because there are no variables in the graph to restore\n"
     ]
    },
    {
     "name": "stdout",
     "output_type": "stream",
     "text": [
      "INFO:tensorflow:Graph was finalized.\n"
     ]
    },
    {
     "name": "stderr",
     "output_type": "stream",
     "text": [
      "I0518 06:34:45.821033 140545725142784 monitored_session.py:222] Graph was finalized.\n"
     ]
    },
    {
     "name": "stdout",
     "output_type": "stream",
     "text": [
      "INFO:tensorflow:Running local_init_op.\n"
     ]
    },
    {
     "name": "stderr",
     "output_type": "stream",
     "text": [
      "I0518 06:35:02.294925 140545725142784 session_manager.py:491] Running local_init_op.\n"
     ]
    },
    {
     "name": "stdout",
     "output_type": "stream",
     "text": [
      "INFO:tensorflow:Done running local_init_op.\n"
     ]
    },
    {
     "name": "stderr",
     "output_type": "stream",
     "text": [
      "I0518 06:35:15.349582 140545725142784 session_manager.py:493] Done running local_init_op.\n"
     ]
    }
   ],
   "source": [
    "# Clean text data\n",
    "clean_df = clean_data(data)\n",
    "\n",
    "# Get text encodings\n",
    "encoding_dict = encode_text(clean_df)"
   ]
  },
  {
   "cell_type": "code",
   "execution_count": 10,
   "metadata": {},
   "outputs": [
    {
     "data": {
      "text/html": [
       "<div>\n",
       "<style scoped>\n",
       "    .dataframe tbody tr th:only-of-type {\n",
       "        vertical-align: middle;\n",
       "    }\n",
       "\n",
       "    .dataframe tbody tr th {\n",
       "        vertical-align: top;\n",
       "    }\n",
       "\n",
       "    .dataframe thead th {\n",
       "        text-align: right;\n",
       "    }\n",
       "</style>\n",
       "<table border=\"1\" class=\"dataframe\">\n",
       "  <thead>\n",
       "    <tr style=\"text-align: right;\">\n",
       "      <th></th>\n",
       "      <th>EIN</th>\n",
       "      <th>Name</th>\n",
       "      <th>Text</th>\n",
       "    </tr>\n",
       "  </thead>\n",
       "  <tbody>\n",
       "    <tr>\n",
       "      <th>0</th>\n",
       "      <td>042662873</td>\n",
       "      <td>ELKS BUILDING CORP OF NORWOOD</td>\n",
       "      <td>elk building corp norwood operation lodge char...</td>\n",
       "    </tr>\n",
       "    <tr>\n",
       "      <th>1</th>\n",
       "      <td>042964630</td>\n",
       "      <td>NEIGHBORHOOD OF AFFORDABLE HOUSING INC</td>\n",
       "      <td>neighborhood affordable housing inc community ...</td>\n",
       "    </tr>\n",
       "    <tr>\n",
       "      <th>2</th>\n",
       "      <td>382912028</td>\n",
       "      <td>RELEAF MICHIGAN INC</td>\n",
       "      <td>releaf michigan inc tree seedling planted coop...</td>\n",
       "    </tr>\n",
       "    <tr>\n",
       "      <th>3</th>\n",
       "      <td>202699020</td>\n",
       "      <td>KARLA SMITH FOUNDATION</td>\n",
       "      <td>karla smith foundation support group family fr...</td>\n",
       "    </tr>\n",
       "    <tr>\n",
       "      <th>4</th>\n",
       "      <td>251525572</td>\n",
       "      <td>ENTERPRISE DEVELOPMENT FUND OF ERIE COUNTY INC</td>\n",
       "      <td>enterprise development fund erie county inc cr...</td>\n",
       "    </tr>\n",
       "  </tbody>\n",
       "</table>\n",
       "</div>"
      ],
      "text/plain": [
       "         EIN                                            Name  \\\n",
       "0  042662873                   ELKS BUILDING CORP OF NORWOOD   \n",
       "1  042964630          NEIGHBORHOOD OF AFFORDABLE HOUSING INC   \n",
       "2  382912028                             RELEAF MICHIGAN INC   \n",
       "3  202699020                          KARLA SMITH FOUNDATION   \n",
       "4  251525572  ENTERPRISE DEVELOPMENT FUND OF ERIE COUNTY INC   \n",
       "\n",
       "                                                Text  \n",
       "0  elk building corp norwood operation lodge char...  \n",
       "1  neighborhood affordable housing inc community ...  \n",
       "2  releaf michigan inc tree seedling planted coop...  \n",
       "3  karla smith foundation support group family fr...  \n",
       "4  enterprise development fund erie county inc cr...  "
      ]
     },
     "execution_count": 10,
     "metadata": {},
     "output_type": "execute_result"
    }
   ],
   "source": [
    "clean_df.head()"
   ]
  },
  {
   "cell_type": "code",
   "execution_count": 11,
   "metadata": {},
   "outputs": [
    {
     "name": "stdout",
     "output_type": "stream",
     "text": [
      "(521, 512)\n"
     ]
    }
   ],
   "source": [
    "# Assemble text encodings\n",
    "X = np.array([encoding_dict[r['EIN']] for _, r in clean_df.iterrows()])\n",
    "print(X.shape)"
   ]
  },
  {
   "cell_type": "code",
   "execution_count": 12,
   "metadata": {},
   "outputs": [
    {
     "name": "stdout",
     "output_type": "stream",
     "text": [
      "Explained variance (clustering): 0.9736\n",
      "Explained variance (t-SNE): 0.8710\n"
     ]
    }
   ],
   "source": [
    "# Dimensionality reduction (clustering)\n",
    "pca_dimr = PCA(n_components=200)\n",
    "X_dimr = pca_dimr.fit_transform(X)\n",
    "expvar_1 = sum(pca_dimr.explained_variance_ratio_)\n",
    "\n",
    "# Dimensionality reduction (t-SNE)\n",
    "pca_tsne = PCA(n_components=70).fit(X)\n",
    "X_tsne = pca_tsne.fit_transform(X)\n",
    "expvar_2 = sum(pca_tsne.explained_variance_ratio_)\n",
    "\n",
    "print('Explained variance (clustering): %.4f'%expvar_1)\n",
    "print('Explained variance (t-SNE): %.4f'%expvar_2)"
   ]
  },
  {
   "cell_type": "code",
   "execution_count": 13,
   "metadata": {},
   "outputs": [
    {
     "name": "stdout",
     "output_type": "stream",
     "text": [
      "Scanning: 10\n",
      "Scanning: 20\n",
      "Scanning: 30\n",
      "Scanning: 40\n",
      "Scanning: 50\n",
      "Scanning: 60\n",
      "Scanning: 70\n",
      "\n",
      "Cluster sizes: [18 20 22 25 26 27 29 30 32 33 35 38 39 40 41 42 43 44 46 48 49 50 51 52\n",
      " 53 54 55 56 57 58 60 62 63 64 65 66 67 68 69]\n"
     ]
    }
   ],
   "source": [
    "# Get cluster results\n",
    "Z, gap_metrics, bc, clusters = create_clusters(X_dimr, C=70)"
   ]
  },
  {
   "cell_type": "code",
   "execution_count": 14,
   "metadata": {},
   "outputs": [],
   "source": [
    "# Update clean df\n",
    "clean_df['cluster'] = clusters"
   ]
  },
  {
   "cell_type": "markdown",
   "metadata": {},
   "source": [
    "## Interpret Results"
   ]
  },
  {
   "cell_type": "markdown",
   "metadata": {},
   "source": [
    "### t-SNE Visualization"
   ]
  },
  {
   "cell_type": "code",
   "execution_count": 15,
   "metadata": {},
   "outputs": [
    {
     "name": "stdout",
     "output_type": "stream",
     "text": [
      "[t-SNE] Computing 121 nearest neighbors...\n",
      "[t-SNE] Indexed 521 samples in 0.033s...\n",
      "[t-SNE] Computed neighbors for 521 samples in 0.068s...\n",
      "[t-SNE] Computed conditional probabilities for sample 521 / 521\n",
      "[t-SNE] Mean sigma: 0.291481\n",
      "[t-SNE] KL divergence after 250 iterations with early exaggeration: 68.417145\n",
      "[t-SNE] KL divergence after 500 iterations: 1.043129\n"
     ]
    }
   ],
   "source": [
    "# Get t-SNE embedding\n",
    "X_temb = TSNE(\n",
    "    n_components=2, verbose=1, perplexity=40, n_iter=500\n",
    ").fit_transform(X_tsne)"
   ]
  },
  {
   "cell_type": "code",
   "execution_count": 16,
   "metadata": {},
   "outputs": [
    {
     "data": {
      "image/png": "[encoded data removed]",
      "text/plain": [
       "<Figure size 936x720 with 2 Axes>"
      ]
     },
     "metadata": {
      "needs_background": "light"
     },
     "output_type": "display_data"
    }
   ],
   "source": [
    "# Visualize t-SNE plot\n",
    "vis_x = X_temb[:, 0]\n",
    "vis_y = X_temb[:, 1]\n",
    "\n",
    "plt.figure(figsize=(13, 10))\n",
    "plt.axis('off')\n",
    "plt.scatter(\n",
    "    x=vis_x, \n",
    "    y=vis_y,\n",
    "    s=10,\n",
    "    c=clusters, \n",
    "    cmap=plt.cm.get_cmap('hsv', bc[0])\n",
    ")\n",
    "plt.colorbar(ticks=range(bc[0]+1))\n",
    "plt.clim(0.5, bc[0]+0.5)\n",
    "plt.show()"
   ]
  },
  {
   "cell_type": "markdown",
   "metadata": {},
   "source": [
    "### Global LDA Verification"
   ]
  },
  {
   "cell_type": "code",
   "execution_count": 17,
   "metadata": {},
   "outputs": [],
   "source": [
    "#------------------------------------------------------------------------------#\n",
    "# Global LDA verification functions\n",
    "#------------------------------------------------------------------------------#\n",
    "def display_topics(model, feature_names, no_top_words):\n",
    "    \"\"\"\n",
    "    Helper function for displaying top words of a topic\n",
    "    \"\"\"\n",
    "    for topic_idx, topic in enumerate(model.components_):\n",
    "        print('\\nTopic %d:'%(topic_idx+1))\n",
    "        print(' '.join([\n",
    "            feature_names[i] for i in topic.argsort()[:-no_top_words-1:-1]\n",
    "        ]))\n",
    "    \n",
    "    return None\n",
    "\n",
    "\n",
    "def topic_distribution(df, X_lda, n_clusters, cluster_num):\n",
    "    \"\"\"\n",
    "    Helper function for displaying distribution of LDA topics for a single \n",
    "    cluster\n",
    "    \"\"\"\n",
    "    # Get indexes of topic selection\n",
    "    select_df = df[df['cluster']==cluster_num].copy(deep=True)\n",
    "    select_idx = select_df.index.values\n",
    "    \n",
    "    # Aggregate probabilties\n",
    "    X_prob = X_lda[select_idx]\n",
    "    print(select_idx)\n",
    "    print()\n",
    "    print(X_prob)\n",
    "    X_max = np.max(X_prob)\n",
    "    agg_probs = np.prod(X_prob/X_max, axis=0)\n",
    "    \n",
    "    # Plot probabilities\n",
    "    fig, ax = plt.subplots(3, 1, figsize=(10, 21))\n",
    "    ax[0].bar(\n",
    "        x = np.arange(n_clusters)+1,\n",
    "        height = agg_probs,\n",
    "        width=0.6\n",
    "    )\n",
    "    ax[0].set_xticks(np.arange(1, n_clusters+1, 2))\n",
    "    ax[0].set_title('LDA Topic Probabilities for Cluster %d'%cluster_num)\n",
    "    ax[0].set_ylabel('Agg. Probability')\n",
    "    ax[0].set_xlabel('LDA Topic Numbers')\n",
    "    \n",
    "    # Plot argmax distribution\n",
    "    argmax = np.argmax(X_prob, axis=1)+1\n",
    "    argmax_idx, argmax_cnt = np.unique(argmax, return_counts=True)\n",
    "    \n",
    "    x_axis = np.arange(n_clusters)+1\n",
    "    y_axis = np.array([\n",
    "        argmax_cnt[np.where(argmax_idx==n)[0]][0]\n",
    "        if n in argmax_idx else 0\n",
    "        for n in x_axis\n",
    "    ])\n",
    "    ax[1].bar(\n",
    "        x = x_axis,\n",
    "        height = y_axis,\n",
    "        width=0.6\n",
    "    )\n",
    "    ax[1].set_xticks(np.arange(1, n_clusters+1, 2))\n",
    "    ax[1].set_title('LDA Topic Counts for Cluster %d'%cluster_num)\n",
    "    ax[1].set_ylabel('LDA Topic Counts')\n",
    "    ax[1].set_xlabel('LDA Topic Numbers')\n",
    "    \n",
    "    # Probability density calculations\n",
    "    prob_df = pd.DataFrame(\n",
    "        data = X_prob,\n",
    "        index = np.arange(len(select_idx)),\n",
    "        columns = np.arange(n_clusters)\n",
    "    )\n",
    "    prob_df.plot.kde(legend=False, ax=ax[2])\n",
    "    ax[2].set_title('Probability Density Plot for Cluster %d'%cluster_num)\n",
    "    plt.show()\n",
    "    \n",
    "    return None\n",
    "#------------------------------------------------------------------------------#"
   ]
  },
  {
   "cell_type": "code",
   "execution_count": 18,
   "metadata": {},
   "outputs": [],
   "source": [
    "# Count-vectorize corpus\n",
    "tf_vectorizer = CountVectorizer(max_df=0.95, min_df=2, max_features=1000)\n",
    "tf = tf_vectorizer.fit_transform(clean_df['Text'].values)\n",
    "tf_feature_names = tf_vectorizer.get_feature_names()"
   ]
  },
  {
   "cell_type": "code",
   "execution_count": 19,
   "metadata": {},
   "outputs": [],
   "source": [
    "# Run LDA\n",
    "lda = LatentDirichletAllocation(\n",
    "    n_components=bc[0], \n",
    "    max_iter=5,\n",
    "    random_state=0\n",
    ")\n",
    "X_lda = lda.fit_transform(tf)"
   ]
  },
  {
   "cell_type": "code",
   "execution_count": 20,
   "metadata": {
    "scrolled": true
   },
   "outputs": [
    {
     "name": "stdout",
     "output_type": "stream",
     "text": [
      "\n",
      "Topic 1:\n",
      "service provide animal development area program economic inc county coastal\n",
      "\n",
      "Topic 2:\n",
      "land association member florida school law officer student enforcement professional\n",
      "\n",
      "Topic 3:\n",
      "child care family support foundation home health community program quality\n",
      "\n",
      "Topic 4:\n",
      "research public government safety policy disease center information committee issue\n",
      "\n",
      "Topic 5:\n",
      "housing community income low nonprofit affordable provide elderly person foundation\n",
      "\n",
      "Topic 6:\n",
      "support program community conservation farmer people wildlife education public water\n",
      "\n",
      "Topic 7:\n",
      "state promote healthy michigan community leader program public support life\n",
      "\n",
      "Topic 8:\n",
      "worker social provide community organization educational individual economic student people\n",
      "\n",
      "Topic 9:\n",
      "education student public health provide charter national housing inc operating\n",
      "\n",
      "Topic 10:\n",
      "child family community county care foster resident inc organization mission\n",
      "\n",
      "Topic 11:\n",
      "program project public research new community city fund historic building\n",
      "\n",
      "Topic 12:\n",
      "maine mentoring education environmental credit financial youth people community mentor\n",
      "\n",
      "Topic 13:\n",
      "ministry community inc people house medical christian hospital center way\n",
      "\n",
      "Topic 14:\n",
      "child program school provide care education educational health activity development\n",
      "\n",
      "Topic 15:\n",
      "service organ residential housing disabled see national development information social\n",
      "\n",
      "Topic 16:\n",
      "program right legal law promote youth provide training school service\n",
      "\n",
      "Topic 17:\n",
      "organization foundation community support education school purpose scholarship educational work\n",
      "\n",
      "Topic 18:\n",
      "service family community provides provide housing health inc center homeless\n"
     ]
    }
   ],
   "source": [
    "# Show top words of topics\n",
    "display_topics(lda, tf_feature_names, 10)"
   ]
  },
  {
   "cell_type": "code",
   "execution_count": 21,
   "metadata": {
    "scrolled": false
   },
   "outputs": [
    {
     "name": "stdout",
     "output_type": "stream",
     "text": [
      "[  0   9  11  63  83 117 128 139 151 201 211 236 292 327 339 342 345 350\n",
      " 355 400 430 434 435 438 484 520]\n",
      "\n",
      "[[5.05050530e-03 2.42833974e-01 5.05050577e-03 6.76357934e-01\n",
      "  5.05050567e-03 5.05050562e-03 5.05050580e-03 5.05050552e-03\n",
      "  5.05050516e-03 5.05050557e-03 5.05050603e-03 5.05050655e-03\n",
      "  5.05050552e-03 5.05050621e-03 5.05050608e-03 5.05050598e-03\n",
      "  5.05050570e-03 5.05050552e-03]\n",
      " [1.63398709e-03 1.63398731e-03 1.63398714e-03 1.63398730e-03\n",
      "  1.63398703e-03 1.63398702e-03 1.63398722e-03 1.63398723e-03\n",
      "  1.63398717e-03 1.63398703e-03 1.63398715e-03 1.63398705e-03\n",
      "  1.63398704e-03 1.63398845e-03 1.63398715e-03 9.72222217e-01\n",
      "  1.63398713e-03 1.63398714e-03]\n",
      " [7.93650893e-04 7.93650893e-04 2.20468092e-01 7.93650920e-04\n",
      "  7.93650891e-04 7.93650896e-04 7.93650864e-04 7.93650916e-04\n",
      "  8.11678120e-02 7.93650880e-04 6.86459332e-01 7.93650920e-04\n",
      "  7.93650921e-04 7.93650902e-04 7.93650880e-04 7.93650949e-04\n",
      "  7.93650884e-04 7.93650930e-04]\n",
      " [4.27350478e-03 4.27350435e-03 4.27350450e-03 4.27350453e-03\n",
      "  4.27350450e-03 4.27350430e-03 4.27350435e-03 4.27350437e-03\n",
      "  4.27350435e-03 4.27350485e-03 4.27350437e-03 4.27350439e-03\n",
      "  4.27350464e-03 4.27350450e-03 9.27350419e-01 4.27350451e-03\n",
      "  4.27350470e-03 4.27350886e-03]\n",
      " [1.58730170e-03 1.58730172e-03 1.58730172e-03 1.58730180e-03\n",
      "  1.58730175e-03 1.58730174e-03 1.58730186e-03 1.58730190e-03\n",
      "  1.58730168e-03 2.08016519e-01 1.58730166e-03 1.58730190e-03\n",
      "  1.58730167e-03 1.58730165e-03 1.58730178e-03 7.66586653e-01\n",
      "  1.58730181e-03 1.58730171e-03]\n",
      " [1.68350199e-03 1.68350189e-03 1.68350211e-03 1.68350224e-03\n",
      "  1.68350212e-03 1.68350177e-03 1.68350174e-03 1.68350180e-03\n",
      "  1.68350186e-03 1.68350203e-03 1.68350173e-03 1.68350182e-03\n",
      "  1.68350200e-03 1.68350210e-03 1.68350201e-03 9.71380467e-01\n",
      "  1.68350182e-03 1.68350207e-03]\n",
      " [9.41619716e-04 9.41619706e-04 1.86456951e-01 9.41619781e-04\n",
      "  9.41619669e-04 9.41619652e-04 9.41619669e-04 9.41619701e-04\n",
      "  9.41619672e-04 9.41619696e-04 9.41619668e-04 9.41619682e-04\n",
      "  9.41619648e-04 9.41619744e-04 9.41619679e-04 7.98477134e-01\n",
      "  9.41619682e-04 9.41619687e-04]\n",
      " [1.91570905e-03 1.91570912e-03 1.91570905e-03 1.91570925e-03\n",
      "  1.91570906e-03 1.91570903e-03 1.46093090e-01 1.91570891e-03\n",
      "  1.91570899e-03 1.91570896e-03 1.91570900e-03 1.91570906e-03\n",
      "  1.91570897e-03 1.91570907e-03 1.91570906e-03 8.23255566e-01\n",
      "  1.91570905e-03 1.91570913e-03]\n",
      " [1.91570916e-03 1.91570899e-03 3.59891029e-01 1.91570913e-03\n",
      "  1.91570901e-03 1.91570900e-03 1.91570903e-03 1.91570914e-03\n",
      "  1.91570911e-03 1.91570887e-03 1.91570908e-03 1.91570895e-03\n",
      "  1.91570903e-03 1.91570905e-03 1.91570906e-03 6.09457626e-01\n",
      "  1.91570901e-03 1.91570902e-03]\n",
      " [1.91570910e-03 2.93403879e-01 1.91570891e-03 1.91570913e-03\n",
      "  1.91570929e-03 1.91570892e-03 1.91570915e-03 6.75944777e-01\n",
      "  1.91570913e-03 1.91570890e-03 1.91570895e-03 1.91570905e-03\n",
      "  1.91570904e-03 1.91570895e-03 1.91570909e-03 1.91570908e-03\n",
      "  1.91570902e-03 1.91570897e-03]\n",
      " [1.23456798e-03 1.23456802e-03 1.23456795e-03 1.23456812e-03\n",
      "  1.23456796e-03 1.23456800e-03 1.23456800e-03 1.23456797e-03\n",
      "  1.23456803e-03 1.23456795e-03 1.23456800e-03 1.23456801e-03\n",
      "  1.23456793e-03 1.23456801e-03 9.79012344e-01 1.23456800e-03\n",
      "  1.23456798e-03 1.23456802e-03]\n",
      " [3.88500449e-04 1.46721946e-01 3.88500436e-04 2.66545686e-02\n",
      "  3.88500425e-04 3.88500429e-04 7.09156551e-02 3.88500441e-04\n",
      "  3.88500443e-04 3.88500414e-04 1.52444533e-01 3.88500420e-04\n",
      "  3.88500431e-04 2.63178821e-01 3.88500422e-04 3.35422471e-01\n",
      "  3.88500466e-04 3.88500426e-04]\n",
      " [3.47222303e-03 3.37106580e-01 3.47222288e-03 3.47222230e-03\n",
      "  3.47222287e-03 3.47222242e-03 3.47222231e-03 3.47222286e-03\n",
      "  3.47222261e-03 3.47222256e-03 6.07337857e-01 3.47222237e-03\n",
      "  3.47222323e-03 3.47222269e-03 3.47222271e-03 3.47222267e-03\n",
      "  3.47222261e-03 3.47222262e-03]\n",
      " [9.10746985e-04 1.90935007e-01 9.10746927e-04 9.10746933e-04\n",
      "  1.66396863e-01 9.10747002e-04 6.29006927e-01 9.10746883e-04\n",
      "  9.10746926e-04 9.10746901e-04 9.10746956e-04 9.10746910e-04\n",
      "  9.10746912e-04 9.10746925e-04 9.10746883e-04 9.10746938e-04\n",
      "  9.10746928e-04 9.10746951e-04]\n",
      " [4.42276496e-01 9.41619734e-04 1.29291994e-01 9.41619690e-04\n",
      "  9.41619723e-04 9.41619761e-04 9.41619648e-04 9.41619706e-04\n",
      "  9.41619687e-04 9.41619701e-04 3.10194893e-01 9.41619679e-04\n",
      "  9.41619656e-04 9.41619693e-04 9.41619734e-04 9.41619709e-04\n",
      "  1.05053941e-01 9.41619711e-04]\n",
      " [1.01010107e-03 9.82828282e-01 1.01010107e-03 1.01010106e-03\n",
      "  1.01010114e-03 1.01010108e-03 1.01010107e-03 1.01010110e-03\n",
      "  1.01010108e-03 1.01010108e-03 1.01010107e-03 1.01010107e-03\n",
      "  1.01010108e-03 1.01010106e-03 1.01010105e-03 1.01010107e-03\n",
      "  1.01010108e-03 1.01010110e-03]\n",
      " [1.06837622e-03 1.06837624e-03 1.06837620e-03 1.06837621e-03\n",
      "  1.06837622e-03 1.06837610e-03 1.06837613e-03 1.06837621e-03\n",
      "  1.06837614e-03 1.06837610e-03 1.06837615e-03 9.81837605e-01\n",
      "  1.06837613e-03 1.06837613e-03 1.06837610e-03 1.06837616e-03\n",
      "  1.06837622e-03 1.06837616e-03]\n",
      " [4.62962967e-03 4.62963104e-03 4.62962963e-03 4.62962998e-03\n",
      "  4.62962992e-03 9.21296293e-01 4.62962963e-03 4.62962963e-03\n",
      "  4.62962985e-03 4.62962963e-03 4.62962997e-03 4.62963001e-03\n",
      "  4.62962968e-03 4.62962972e-03 4.62962980e-03 4.62962994e-03\n",
      "  4.62962963e-03 4.62962967e-03]\n",
      " [8.16993538e-04 8.16993614e-04 8.16993549e-04 8.16993614e-04\n",
      "  8.16993556e-04 8.16993535e-04 8.16993539e-04 8.16993549e-04\n",
      "  8.16993549e-04 8.16993532e-04 8.16993558e-04 8.16993554e-04\n",
      "  8.16993513e-04 8.16993575e-04 8.16993510e-04 9.86111110e-01\n",
      "  8.16993562e-04 8.16993568e-04]\n",
      " [1.11111114e-03 9.81111110e-01 1.11111119e-03 1.11111120e-03\n",
      "  1.11111115e-03 1.11111115e-03 1.11111119e-03 1.11111119e-03\n",
      "  1.11111115e-03 1.11111124e-03 1.11111117e-03 1.11111115e-03\n",
      "  1.11111117e-03 1.11111116e-03 1.11111123e-03 1.11111118e-03\n",
      "  1.11111121e-03 1.11111116e-03]\n",
      " [1.13378697e-03 1.25576110e-01 1.13378690e-03 1.13378689e-03\n",
      "  1.13378695e-03 1.13378697e-03 1.13378697e-03 1.13378700e-03\n",
      "  1.13378692e-03 1.13378692e-03 1.13378695e-03 1.13378705e-03\n",
      "  1.13378693e-03 1.13378704e-03 1.13378694e-03 8.56283299e-01\n",
      "  1.13378693e-03 1.13378693e-03]\n",
      " [3.26797413e-03 9.44444440e-01 3.26797420e-03 3.26797395e-03\n",
      "  3.26797405e-03 3.26797415e-03 3.26797400e-03 3.26797409e-03\n",
      "  3.26797397e-03 3.26797439e-03 3.26797405e-03 3.26797403e-03\n",
      "  3.26797407e-03 3.26797406e-03 3.26797419e-03 3.26797403e-03\n",
      "  3.26797418e-03 3.26797407e-03]\n",
      " [1.38888907e-03 2.62313172e-01 1.38888905e-03 7.15464603e-01\n",
      "  1.38888906e-03 1.38888904e-03 1.38888905e-03 1.38888914e-03\n",
      "  1.38888916e-03 1.38888924e-03 1.38888903e-03 1.38888897e-03\n",
      "  1.38888921e-03 1.38888913e-03 1.38888916e-03 1.38888908e-03\n",
      "  1.38888919e-03 1.38888904e-03]\n",
      " [2.44987394e-01 2.48649560e-01 2.41545919e-03 2.41545946e-03\n",
      "  2.41545914e-03 2.41545902e-03 2.41545916e-03 2.41545916e-03\n",
      "  2.41545902e-03 2.41545950e-03 2.41545919e-03 2.41545905e-03\n",
      "  2.41545914e-03 2.41545908e-03 2.41545974e-03 4.70131157e-01\n",
      "  2.41545911e-03 2.41545911e-03]\n",
      " [6.17284049e-04 3.06708287e-01 1.69115168e-01 6.17283991e-04\n",
      "  6.17284039e-04 6.17284014e-04 1.23399178e-01 6.17284031e-04\n",
      "  6.17283999e-04 6.17283987e-04 8.45448546e-02 6.17283977e-04\n",
      "  6.17284011e-04 6.17284037e-04 6.17284033e-04 3.08207819e-01\n",
      "  6.17284052e-04 6.17284035e-04]\n",
      " [5.97371623e-04 5.97371605e-04 5.97371601e-04 9.89844683e-01\n",
      "  5.97371615e-04 5.97371604e-04 5.97371630e-04 5.97371636e-04\n",
      "  5.97371597e-04 5.97371607e-04 5.97371604e-04 5.97371604e-04\n",
      "  5.97371607e-04 5.97371596e-04 5.97371590e-04 5.97371614e-04\n",
      "  5.97371615e-04 5.97371597e-04]]\n"
     ]
    },
    {
     "data": {
      "image/png": "[encoded data removed]",
      "text/plain": [
       "<Figure size 720x1512 with 3 Axes>"
      ]
     },
     "metadata": {
      "needs_background": "light"
     },
     "output_type": "display_data"
    }
   ],
   "source": [
    "# Visualize topic distribution\n",
    "topic_distribution(clean_df, X_lda, bc[0], len(clean_df.cluster.unique()))"
   ]
  },
  {
   "cell_type": "code",
   "execution_count": 22,
   "metadata": {
    "scrolled": true
   },
   "outputs": [],
   "source": [
    "# for i in range(1, bc[0]+1):\n",
    "#     print('-'*40)\n",
    "#     print('Cluster:', i)\n",
    "#     print('-'*40)\n",
    "#     topic_distribution(clean_df, X_lda, bc[0], i)"
   ]
  },
  {
   "cell_type": "markdown",
   "metadata": {},
   "source": [
    "### Local LDA Verification"
   ]
  },
  {
   "cell_type": "code",
   "execution_count": 23,
   "metadata": {},
   "outputs": [],
   "source": [
    "#------------------------------------------------------------------------------#\n",
    "# Local LDA verification functions\n",
    "#------------------------------------------------------------------------------#\n",
    "def local_lda_transform(df, cluster_num):\n",
    "    \"\"\"\n",
    "    Function for applying an LDA transformation to a local document cluster. LDA\n",
    "    transforms documents into a 10-feature topic space.\n",
    "    \n",
    "    Input(s):\n",
    "    - df (pandas dataframe)\n",
    "    - cluster_num (int): cluster ID number\n",
    "    \"\"\"\n",
    "    if cluster_num not in df['cluster'].values:\n",
    "        raise ValueError('Invalid cluster ID')\n",
    "    \n",
    "    # Get text subset\n",
    "    text_subset = df[df['cluster']==cluster_num]['Text'].values\n",
    "    \n",
    "    # Count-vectorize subset\n",
    "    tf_params = {\n",
    "        'max_df': 0.95,\n",
    "        'min_df': 2,\n",
    "        'max_features': 1000\n",
    "    }\n",
    "    tf = CountVectorizer(**tf_params)\n",
    "    X_tf = tf.fit_transform(text_subset)\n",
    "    \n",
    "    # Run LDA\n",
    "    lda_params = {\n",
    "        'n_components': 10, # Default 10 components\n",
    "        'max_iter': 5,\n",
    "        'random_state': 0\n",
    "    }\n",
    "    lda = LatentDirichletAllocation(**lda_params)\n",
    "    X_lda = lda.fit_transform(X_tf)\n",
    "    \n",
    "    return X_lda\n",
    "\n",
    "\n",
    "def get_pairwise_distances(X_lda, dist_flag='euclidean'):\n",
    "    \"\"\"\n",
    "    Function for constructing a pairwise distance matrix of sample points\n",
    "    \n",
    "    Input(s):\n",
    "    - X_lda (numpy ndarray): lda-transformed cluster sample, shape (N, 10)\n",
    "    - dist_flag (str): string flag for distance metric\n",
    "    \"\"\"\n",
    "    X_lda = X_lda +0.00001*np.random.rand(X_lda.shape[0], 10)\n",
    "    \n",
    "    FLAGS = ['cosine', 'euclidean', 'cityblock', 'mahalanobis']\n",
    "    if dist_flag not in FLAGS:\n",
    "        raise ValueError('Invalid distance flag')\n",
    "    \n",
    "    # Number of samples\n",
    "    N = X_lda.shape[0]\n",
    "    \n",
    "    # Calculate covariance matrix and invert\n",
    "    icov = np.linalg.inv(np.cov(X_lda.T))\n",
    "    \n",
    "    # Instantiate pairwise placeholder\n",
    "    pairwise = np.zeros((N, N))\n",
    "    \n",
    "    for i, sample1 in enumerate(X_lda):\n",
    "        for j, sample2 in enumerate(X_lda):\n",
    "            if dist_flag=='cosine':\n",
    "                pairwise[i, j] = cosine(sample1, sample2)\n",
    "            elif dist_flag=='euclidean':\n",
    "                pairwise[i, j] = euclidean(sample1, sample2)\n",
    "            elif dist_flag=='cityblock':\n",
    "                pairwise[i, j] = cityblock(sample1, sample2)\n",
    "            elif dist_flag=='mahalanobis':\n",
    "                pairwise[i, j] = mahalanobis(sample1, sample2, icov)\n",
    "    \n",
    "    return pairwise\n",
    "\n",
    "\n",
    "def get_local_pdf(x):\n",
    "    \"\"\"\n",
    "    Function for calculating the PDF for a single-feature array\n",
    "    \n",
    "    Input(s):\n",
    "    - x (numpy ndarray): single-feature array\n",
    "    \"\"\"\n",
    "    # Define sample range with which PDF is evaluated\n",
    "    sample_range = np.nanmax(x) - np.nanmin(x)\n",
    "    ind = np.linspace(\n",
    "        np.nanmin(x) - 0.5 * sample_range,\n",
    "        np.nanmax(x) + 0.5 * sample_range, \n",
    "        1000) # 1000 points\n",
    "    \n",
    "    # Define gaussian kernel object and evaluate\n",
    "    gkde = gaussian_kde(x)\n",
    "    y = gkde.evaluate(ind)\n",
    "    \n",
    "    return ind, y\n",
    "\n",
    "\n",
    "def num_local_max(pdf):\n",
    "    \"\"\"\n",
    "    Function for calculating the number of local maxima, given an array of PDF\n",
    "    values\n",
    "    \"\"\"\n",
    "    threshold = np.max(pdf)/2\n",
    "    \n",
    "    peaks = find_peaks(pdf, height=threshold)\n",
    "    p_idx = peaks[0]\n",
    "    \n",
    "    return len(p_idx)\n",
    "\n",
    "\n",
    "def scan_local_cluster(pairwise):\n",
    "    \"\"\"\n",
    "    Function for scanning through the LDA-transformed points of a local document\n",
    "    cluster to evaluate the average number of PDF local maxima\n",
    "    \n",
    "    Input(s):\n",
    "    - pairwise (numpy ndarray): calculated pairwise distances\n",
    "    \"\"\"\n",
    "    num_maxes = np.ones(pairwise.shape[0])\n",
    "    \n",
    "    for i, row in enumerate(pairwise):\n",
    "        ind, y = get_local_pdf(row)\n",
    "        num_maxes[i] = num_local_max(y)\n",
    "    \n",
    "    return np.average(num_maxes), np.std(num_maxes)\n",
    "#------------------------------------------------------------------------------#"
   ]
  },
  {
   "cell_type": "code",
   "execution_count": 24,
   "metadata": {},
   "outputs": [
    {
     "data": {
      "image/png": "[encoded data removed]",
      "text/plain": [
       "<Figure size 1152x360 with 2 Axes>"
      ]
     },
     "metadata": {
      "needs_background": "light"
     },
     "output_type": "display_data"
    },
    {
     "name": "stdout",
     "output_type": "stream",
     "text": [
      "Number of local maxima: 1\n"
     ]
    }
   ],
   "source": [
    "# Sample demo\n",
    "CLUSTER_IDX = 1\n",
    "SAMPLE_IDX = 5\n",
    "\n",
    "lda1 = local_lda_transform(clean_df, CLUSTER_IDX)\n",
    "pair1 = get_pairwise_distances(lda1, 'mahalanobis')\n",
    "\n",
    "# Manual PDF calculation\n",
    "ind, y = get_local_pdf(pair1[SAMPLE_IDX])\n",
    "\n",
    "# Demo dataframe\n",
    "tmp_df = pd.DataFrame(data=pair1)\n",
    "\n",
    "fig, ax = plt.subplots(1, 2, figsize=(16, 5))\n",
    "tmp_df[SAMPLE_IDX].plot.kde(ax=ax[0])\n",
    "ax[1].plot(ind, y)\n",
    "\n",
    "ax[0].set_title('Pandas PDF')\n",
    "ax[1].set_title('Manual PDF')\n",
    "\n",
    "plt.show()\n",
    "\n",
    "# Number of local maxima\n",
    "print('Number of local maxima:', num_local_max(y))"
   ]
  },
  {
   "cell_type": "code",
   "execution_count": 25,
   "metadata": {},
   "outputs": [
    {
     "name": "stdout",
     "output_type": "stream",
     "text": [
      "Cluster 01: 1.044 (AVG) / 0.206 (STD)\n",
      "Cluster 02: 1.000 (AVG) / 0.000 (STD)\n",
      "Cluster 03: 1.000 (AVG) / 0.000 (STD)\n",
      "Cluster 04: 1.667 (AVG) / 0.471 (STD)\n",
      "Cluster 05: 1.000 (AVG) / 0.000 (STD)\n",
      "Cluster 06: 1.000 (AVG) / 0.000 (STD)\n",
      "Cluster 07: 1.000 (AVG) / 0.000 (STD)\n",
      "Cluster 08: 1.000 (AVG) / 0.000 (STD)\n",
      "Cluster 09: 1.000 (AVG) / 0.000 (STD)\n",
      "Cluster 10: 1.000 (AVG) / 0.000 (STD)\n",
      "Cluster 11: 1.000 (AVG) / 0.000 (STD)\n",
      "Cluster 12: 1.000 (AVG) / 0.000 (STD)\n",
      "Cluster 13: 1.000 (AVG) / 0.000 (STD)\n",
      "Cluster 14: 1.000 (AVG) / 0.000 (STD)\n",
      "Cluster 15: 1.000 (AVG) / 0.000 (STD)\n",
      "Cluster 16: 1.385 (AVG) / 0.487 (STD)\n",
      "Cluster 17: 1.000 (AVG) / 0.000 (STD)\n",
      "Cluster 18: 1.000 (AVG) / 0.000 (STD)\n"
     ]
    }
   ],
   "source": [
    "# Run through clusters (note singular matrix := only 1 independent row)\n",
    "for idx in np.sort(clean_df['cluster'].unique()):\n",
    "    try:\n",
    "        tmp_lda = local_lda_transform(clean_df, idx)\n",
    "        tmp_pair = get_pairwise_distances(tmp_lda, 'euclidean')\n",
    "        print('Cluster %02d: %.3f (AVG) / %.3f (STD)'%(idx, *scan_local_cluster(tmp_pair)))\n",
    "    except np.linalg.LinAlgError:\n",
    "        print('Cluster %02d: Singular Matrix'%idx)"
   ]
  },
  {
   "cell_type": "code",
   "execution_count": null,
   "metadata": {},
   "outputs": [],
   "source": []
  }
 ],
 "metadata": {
  "kernelspec": {
   "display_name": "Python 3",
   "language": "python",
   "name": "python3"
  },
  "language_info": {
   "codemirror_mode": {
    "name": "ipython",
    "version": 3
   },
   "file_extension": ".py",
   "mimetype": "text/x-python",
   "name": "python",
   "nbconvert_exporter": "python",
   "pygments_lexer": "ipython3",
   "version": "3.5.2"
  }
 },
 "nbformat": 4,
 "nbformat_minor": 2
}
