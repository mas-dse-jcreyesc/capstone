{
 "cells": [
  {
   "cell_type": "code",
   "execution_count": 7,
   "metadata": {},
   "outputs": [
    {
     "name": "stdout",
     "output_type": "stream",
     "text": [
      "importing Jupyter notebook from /home/notebooks/api/classy990downloads.ipynb\n",
      "importing Jupyter notebook from /home/notebooks/api/filter_text.ipynb\n"
     ]
    },
    {
     "name": "stderr",
     "output_type": "stream",
     "text": [
      "[nltk_data] Downloading package wordnet to /home/nltk_data...\n",
      "[nltk_data]   Unzipping corpora/wordnet.zip.\n"
     ]
    },
    {
     "name": "stdout",
     "output_type": "stream",
     "text": [
      "importing Jupyter notebook from /home/notebooks/api/ParseWeb.ipynb\n"
     ]
    },
    {
     "name": "stderr",
     "output_type": "stream",
     "text": [
      "[nltk_data] Downloading package punkt to /home/nltk_data...\n",
      "[nltk_data]   Unzipping tokenizers/punkt.zip.\n",
      "[nltk_data] Downloading package stopwords to /home/nltk_data...\n",
      "[nltk_data]   Package stopwords is already up-to-date!\n"
     ]
    }
   ],
   "source": [
    "import sys, os\n",
    "import import_ipynb\n",
    "from api.classy990downloads import *"
   ]
  },
  {
   "cell_type": "code",
   "execution_count": 21,
   "metadata": {},
   "outputs": [],
   "source": [
    "def get_df( db, fields={} ):\n",
    "    \n",
    "    cursor = db.find({}, fields)\n",
    "\n",
    "    # Expand the cursor and construct the DataFrame\n",
    "    df =  pd.DataFrame(list(cursor))\n",
    "\n",
    "    del df['_id']\n",
    "\n",
    "    return df"
   ]
  },
  {
   "cell_type": "code",
   "execution_count": 22,
   "metadata": {
    "scrolled": false
   },
   "outputs": [],
   "source": [
    "def put_df( db, df ):\n",
    "    \n",
    "    for key, row in df.iterrows():\n",
    "\n",
    "        ein = str(row['EIN'])\n",
    "        try:\n",
    "            del row['_id']\n",
    "        except:\n",
    "            pass\n",
    "        try:\n",
    "            del row['EIN']\n",
    "        except:\n",
    "            pass\n",
    "\n",
    "        if not ein:\n",
    "            sys.stdout.write(  'MISSING EIN!!!! \\r' % ein )\n",
    "\n",
    "        else:\n",
    "            sys.stdout.write(  'Save values for %s \\r' % ein )\n",
    "\n",
    "            try:\n",
    "                db.update_one( {\"EIN\" : ein}, {\"$set\":row.to_dict()}, upsert=True )\n",
    "            except Exception as e:\n",
    "                sys.stdout.write( 'ERROR: Problem during MongoDB insert. %s' % e )\n",
    "\n",
    "        sys.stdout.flush()\n",
    "\n",
    "    return True\n"
   ]
  },
  {
   "cell_type": "code",
   "execution_count": null,
   "metadata": {},
   "outputs": [],
   "source": []
  }
 ],
 "metadata": {
  "kernelspec": {
   "display_name": "Python 3",
   "language": "python",
   "name": "python3"
  },
  "language_info": {
   "codemirror_mode": {
    "name": "ipython",
    "version": 3
   },
   "file_extension": ".py",
   "mimetype": "text/x-python",
   "name": "python",
   "nbconvert_exporter": "python",
   "pygments_lexer": "ipython3",
   "version": "3.6.7"
  }
 },
 "nbformat": 4,
 "nbformat_minor": 2
}
