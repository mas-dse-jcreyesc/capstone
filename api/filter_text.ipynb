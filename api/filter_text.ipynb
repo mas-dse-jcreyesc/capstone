{
 "cells": [
  {
   "cell_type": "code",
   "execution_count": null,
   "metadata": {},
   "outputs": [],
   "source": [
    "# Author: Howard Tai\n",
    "\n",
    "import os, sys, re\n",
    "\n",
    "import nltk\n",
    "nltk.download('wordnet')\n",
    "from nltk.corpus import stopwords\n",
    "from nltk.stem import WordNetLemmatizer\n",
    "\n",
    "import pandas as pd"
   ]
  },
  {
   "cell_type": "code",
   "execution_count": null,
   "metadata": {},
   "outputs": [],
   "source": [
    "class filter_text():\n",
    "    \n",
    "    def __init__( self,path = '/home/notebooks/api/glossaryv1.csv.xls'):\n",
    "        #----------------------------------------#\n",
    "        # GLOBAL VARIABLES\n",
    "        #----------------------------------------#\n",
    "        self.SW = set(stopwords.words('english'))\n",
    "        self.LEMMA = WordNetLemmatizer()\n",
    "        \n",
    "        # Getting glossary to correct words\n",
    "        self.gloss = pd.DataFrame(pd.read_csv(path, header=0, sep=',', \\\n",
    "            index_col=None, dtype='unicode'))\n",
    "        self.gloss = dict(sorted(self.gloss.values.tolist())) \n",
    "\n",
    "\n",
    "    #------------------------------------------------------------------------------#\n",
    "    # Text preprocessing function\n",
    "    #------------------------------------------------------------------------------#\n",
    "    def parse( self, text ):\n",
    "        '''\n",
    "        Helper function for preprocessing a given input text. Preprocessing includes\n",
    "        removal of numbers, punctuation marks, stopwords, uncasing, normalizing\n",
    "        spacing, and also lemmatization.\n",
    "        '''\n",
    "        # Remove punctuations and numbers and lowercase\n",
    "        new_text = re.sub('[^a-zA-Z ]', '', text).lower()\n",
    "        \n",
    "        new_text = re.sub(r'http.+org',' ',new_text).split()\n",
    "        \n",
    "        new_text = [ self.gloss[x] if x in self.gloss else x for x in new_text ]\n",
    "\n",
    "        # Normalize spacing, remove stopwords, and lemmatize\n",
    "        new_text = ' '.join(\n",
    "            [self.LEMMA.lemmatize(s) for s in new_text if s not in self.SW]\n",
    "        )\n",
    "\n",
    "        return new_text\n",
    "#------------------------------------------------------------------------------#"
   ]
  },
  {
   "cell_type": "code",
   "execution_count": null,
   "metadata": {
    "scrolled": false
   },
   "outputs": [],
   "source": [
    "#------------------------------------------------------------------------------#\n",
    "# Test function\n",
    "#------------------------------------------------------------------------------#\n",
    "if False:\n",
    "    \"\"\"\n",
    "    Tests for preprocess_text function\n",
    "    \"\"\"\n",
    "    \n",
    "    parser = filter_text()\n",
    "    \n",
    "    tmp = \"\"\"\n",
    "    This is a piece of sample text! Here are some numbers: 5567531246. The\n",
    "    purpose of this text is to test out the ##awesome## preprocessing function!\n",
    "    :) Let's see how it works... misspell on advocte\n",
    "    \"\"\"\n",
    "\n",
    "    print(tmp)\n",
    "\n",
    "    print(parser.parse(tmp))\n",
    "#------------------------------------------------------------------------------#"
   ]
  },
  {
   "cell_type": "code",
   "execution_count": null,
   "metadata": {},
   "outputs": [],
   "source": []
  }
 ],
 "metadata": {
  "kernelspec": {
   "display_name": "Python 3",
   "language": "python",
   "name": "python3"
  },
  "language_info": {
   "codemirror_mode": {
    "name": "ipython",
    "version": 3
   },
   "file_extension": ".py",
   "mimetype": "text/x-python",
   "name": "python",
   "nbconvert_exporter": "python",
   "pygments_lexer": "ipython3",
   "version": "3.6.7"
  }
 },
 "nbformat": 4,
 "nbformat_minor": 2
}
