{
 "cells": [
  {
   "cell_type": "code",
   "execution_count": 1,
   "metadata": {},
   "outputs": [],
   "source": [
    "import pandas as pd\n",
    "import os"
   ]
  },
  {
   "cell_type": "code",
   "execution_count": 2,
   "metadata": {},
   "outputs": [
    {
     "name": "stdout",
     "output_type": "stream",
     "text": [
      "Loading file: eo1.csv\n",
      "Loading file: eo3.csv\n",
      "Loading file: eo2.csv\n",
      "Loading file: eo4.csv\n"
     ]
    }
   ],
   "source": [
    "df = pd.DataFrame()\n",
    "path = \"data/\"\n",
    "directory = os.fsencode(path)\n",
    "\n",
    "for file in os.listdir(directory):\n",
    "    filename = os.fsdecode(file)\n",
    "    if filename.endswith(\".csv\") and filename.startswith(\"ntee_codes\")==False: \n",
    "        print(\"Loading file: \" + filename)\n",
    "        temp = pd.read_csv(path+filename,usecols=['EIN','NTEE_CD'])\n",
    "        df = df.append(temp, ignore_index = True) \n"
   ]
  },
  {
   "cell_type": "code",
   "execution_count": 7,
   "metadata": {},
   "outputs": [
    {
     "data": {
      "text/html": [
       "<div>\n",
       "<style scoped>\n",
       "    .dataframe tbody tr th:only-of-type {\n",
       "        vertical-align: middle;\n",
       "    }\n",
       "\n",
       "    .dataframe tbody tr th {\n",
       "        vertical-align: top;\n",
       "    }\n",
       "\n",
       "    .dataframe thead th {\n",
       "        text-align: right;\n",
       "    }\n",
       "</style>\n",
       "<table border=\"1\" class=\"dataframe\">\n",
       "  <thead>\n",
       "    <tr style=\"text-align: right;\">\n",
       "      <th></th>\n",
       "      <th>EIN</th>\n",
       "      <th>code</th>\n",
       "      <th>description</th>\n",
       "      <th>category</th>\n",
       "    </tr>\n",
       "  </thead>\n",
       "  <tbody>\n",
       "    <tr>\n",
       "      <th>0</th>\n",
       "      <td>000587764</td>\n",
       "      <td>X21</td>\n",
       "      <td>Protestant</td>\n",
       "      <td>religious</td>\n",
       "    </tr>\n",
       "    <tr>\n",
       "      <th>1</th>\n",
       "      <td>000635913</td>\n",
       "      <td>X21</td>\n",
       "      <td>Protestant</td>\n",
       "      <td>religious</td>\n",
       "    </tr>\n",
       "    <tr>\n",
       "      <th>2</th>\n",
       "      <td>007764840</td>\n",
       "      <td>X21</td>\n",
       "      <td>Protestant</td>\n",
       "      <td>religious</td>\n",
       "    </tr>\n",
       "    <tr>\n",
       "      <th>3</th>\n",
       "      <td>010347153</td>\n",
       "      <td>X21</td>\n",
       "      <td>Protestant</td>\n",
       "      <td>religious</td>\n",
       "    </tr>\n",
       "    <tr>\n",
       "      <th>4</th>\n",
       "      <td>010348158</td>\n",
       "      <td>X21</td>\n",
       "      <td>Protestant</td>\n",
       "      <td>religious</td>\n",
       "    </tr>\n",
       "  </tbody>\n",
       "</table>\n",
       "</div>"
      ],
      "text/plain": [
       "         EIN code description   category\n",
       "0  000587764  X21  Protestant  religious\n",
       "1  000635913  X21  Protestant  religious\n",
       "2  007764840  X21  Protestant  religious\n",
       "3  010347153  X21  Protestant  religious\n",
       "4  010348158  X21  Protestant  religious"
      ]
     },
     "execution_count": 7,
     "metadata": {},
     "output_type": "execute_result"
    }
   ],
   "source": [
    "df.rename(columns = {\"NTEE_CD\":'code'},inplace=True) # for a later join\n",
    "\n",
    "ntee = pd.read_csv('data/ntee_codes.csv')\n",
    "## Left join on 'code' column\n",
    "datamerge = pd.merge(df, ntee, on='code',how='inner')\n",
    "datamerge['EIN'] = datamerge['EIN'].apply(lambda x: str(x).zfill(9))\n",
    "datamerge.head()"
   ]
  },
  {
   "cell_type": "code",
   "execution_count": 8,
   "metadata": {},
   "outputs": [
    {
     "name": "stdout",
     "output_type": "stream",
     "text": [
      "importing Jupyter notebook from /home/notebooks/api/filter_text.ipynb\n"
     ]
    },
    {
     "name": "stderr",
     "output_type": "stream",
     "text": [
      "[nltk_data] Downloading package wordnet to /home/nltk_data...\n",
      "[nltk_data]   Package wordnet is already up-to-date!\n"
     ]
    },
    {
     "name": "stdout",
     "output_type": "stream",
     "text": [
      "importing Jupyter notebook from /home/notebooks/api/ParseWeb.ipynb\n",
      "Connect to: [mongodb://mongo/irs990]\n",
      "List of databases in MongoDB: ['admin', 'config', 'irs990', 'local']\n",
      "Open db: [irs990]\n",
      "Collection: [2017]\n",
      "1170 documents present\n",
      "1170 documents present\n"
     ]
    },
    {
     "name": "stderr",
     "output_type": "stream",
     "text": [
      "[nltk_data] Downloading package punkt to /home/nltk_data...\n",
      "[nltk_data]   Package punkt is already up-to-date!\n",
      "[nltk_data] Downloading package stopwords to /home/nltk_data...\n",
      "[nltk_data]   Package stopwords is already up-to-date!\n"
     ]
    }
   ],
   "source": [
    "%run ../api/classy990downloads.ipynb\n",
    "\n",
    "\n",
    "year = 2017\n",
    "uri='mongodb://mongo/irs990'\n",
    "\n",
    "db = mongo990( uri=uri, year=year, dump=False)\n",
    "        \n",
    "db.verify()"
   ]
  },
  {
   "cell_type": "code",
   "execution_count": 10,
   "metadata": {},
   "outputs": [
    {
     "data": {
      "text/html": [
       "<div>\n",
       "<style scoped>\n",
       "    .dataframe tbody tr th:only-of-type {\n",
       "        vertical-align: middle;\n",
       "    }\n",
       "\n",
       "    .dataframe tbody tr th {\n",
       "        vertical-align: top;\n",
       "    }\n",
       "\n",
       "    .dataframe thead th {\n",
       "        text-align: right;\n",
       "    }\n",
       "</style>\n",
       "<table border=\"1\" class=\"dataframe\">\n",
       "  <thead>\n",
       "    <tr style=\"text-align: right;\">\n",
       "      <th></th>\n",
       "      <th>EIN</th>\n",
       "      <th>_id</th>\n",
       "    </tr>\n",
       "  </thead>\n",
       "  <tbody>\n",
       "    <tr>\n",
       "      <th>0</th>\n",
       "      <td>042662873</td>\n",
       "      <td>042662873_201603</td>\n",
       "    </tr>\n",
       "    <tr>\n",
       "      <th>1</th>\n",
       "      <td>042964630</td>\n",
       "      <td>042964630_201512</td>\n",
       "    </tr>\n",
       "    <tr>\n",
       "      <th>2</th>\n",
       "      <td>382912028</td>\n",
       "      <td>382912028_201512</td>\n",
       "    </tr>\n",
       "    <tr>\n",
       "      <th>3</th>\n",
       "      <td>200509226</td>\n",
       "      <td>200509226_201605</td>\n",
       "    </tr>\n",
       "    <tr>\n",
       "      <th>4</th>\n",
       "      <td>202699020</td>\n",
       "      <td>202699020_201512</td>\n",
       "    </tr>\n",
       "  </tbody>\n",
       "</table>\n",
       "</div>"
      ],
      "text/plain": [
       "         EIN               _id\n",
       "0  042662873  042662873_201603\n",
       "1  042964630  042964630_201512\n",
       "2  382912028  382912028_201512\n",
       "3  200509226  200509226_201605\n",
       "4  202699020  202699020_201512"
      ]
     },
     "execution_count": 10,
     "metadata": {},
     "output_type": "execute_result"
    }
   ],
   "source": [
    "cursor = db.collection.find( {},{ 'EIN':1 } )\n",
    "mongo_data =  pd.DataFrame(list(cursor))\n",
    "mongo_data.head()"
   ]
  },
  {
   "cell_type": "code",
   "execution_count": 11,
   "metadata": {},
   "outputs": [
    {
     "data": {
      "text/html": [
       "<div>\n",
       "<style scoped>\n",
       "    .dataframe tbody tr th:only-of-type {\n",
       "        vertical-align: middle;\n",
       "    }\n",
       "\n",
       "    .dataframe tbody tr th {\n",
       "        vertical-align: top;\n",
       "    }\n",
       "\n",
       "    .dataframe thead th {\n",
       "        text-align: right;\n",
       "    }\n",
       "</style>\n",
       "<table border=\"1\" class=\"dataframe\">\n",
       "  <thead>\n",
       "    <tr style=\"text-align: right;\">\n",
       "      <th></th>\n",
       "      <th>EIN</th>\n",
       "      <th>code</th>\n",
       "      <th>description</th>\n",
       "      <th>category</th>\n",
       "      <th>_id</th>\n",
       "    </tr>\n",
       "  </thead>\n",
       "  <tbody>\n",
       "    <tr>\n",
       "      <th>0</th>\n",
       "      <td>320136834</td>\n",
       "      <td>X21</td>\n",
       "      <td>Protestant</td>\n",
       "      <td>religious</td>\n",
       "      <td>320136834_201512</td>\n",
       "    </tr>\n",
       "    <tr>\n",
       "      <th>1</th>\n",
       "      <td>311787775</td>\n",
       "      <td>X21</td>\n",
       "      <td>Protestant</td>\n",
       "      <td>religious</td>\n",
       "      <td>311787775_201512</td>\n",
       "    </tr>\n",
       "    <tr>\n",
       "      <th>2</th>\n",
       "      <td>364070694</td>\n",
       "      <td>X21</td>\n",
       "      <td>Protestant</td>\n",
       "      <td>religious</td>\n",
       "      <td>364070694_201508</td>\n",
       "    </tr>\n",
       "    <tr>\n",
       "      <th>3</th>\n",
       "      <td>202058546</td>\n",
       "      <td>X20</td>\n",
       "      <td>Christianity</td>\n",
       "      <td>religious</td>\n",
       "      <td>202058546_201512</td>\n",
       "    </tr>\n",
       "    <tr>\n",
       "      <th>4</th>\n",
       "      <td>208493868</td>\n",
       "      <td>X20</td>\n",
       "      <td>Christianity</td>\n",
       "      <td>religious</td>\n",
       "      <td>208493868_201512</td>\n",
       "    </tr>\n",
       "  </tbody>\n",
       "</table>\n",
       "</div>"
      ],
      "text/plain": [
       "         EIN code   description   category               _id\n",
       "0  320136834  X21    Protestant  religious  320136834_201512\n",
       "1  311787775  X21    Protestant  religious  311787775_201512\n",
       "2  364070694  X21    Protestant  religious  364070694_201508\n",
       "3  202058546  X20  Christianity  religious  202058546_201512\n",
       "4  208493868  X20  Christianity  religious  208493868_201512"
      ]
     },
     "execution_count": 11,
     "metadata": {},
     "output_type": "execute_result"
    }
   ],
   "source": [
    "allmerge = pd.merge(datamerge, mongo_data, on='EIN',how='inner')\n",
    "allmerge.head()"
   ]
  },
  {
   "cell_type": "code",
   "execution_count": 12,
   "metadata": {},
   "outputs": [
    {
     "name": "stderr",
     "output_type": "stream",
     "text": [
      "/usr/local/lib/python3.5/dist-packages/ipykernel_launcher.py:2: DeprecationWarning: initialize_unordered_bulk_op is deprecated\n",
      "  \n"
     ]
    },
    {
     "data": {
      "text/plain": [
       "{'nInserted': 0,\n",
       " 'nMatched': 584,\n",
       " 'nModified': 584,\n",
       " 'nRemoved': 0,\n",
       " 'nUpserted': 0,\n",
       " 'upserted': [],\n",
       " 'writeConcernErrors': [],\n",
       " 'writeErrors': []}"
      ]
     },
     "execution_count": 12,
     "metadata": {},
     "output_type": "execute_result"
    }
   ],
   "source": [
    "cll = db.collection\n",
    "bulk_update = cll.initialize_unordered_bulk_op()\n",
    "for index, row in allmerge.iterrows():\n",
    "    EIN=str(row['EIN'])\n",
    "    code=row['code']\n",
    "    desc = row['description']\n",
    "    category = row['category']\n",
    "    bulk_update.find({\"EIN\":EIN}).update_one({\"$set\":{'NTEECode':code,'NTEEDesc':desc,'NTEECategory':category}})\n",
    "bulk_update.execute()"
   ]
  },
  {
   "cell_type": "code",
   "execution_count": null,
   "metadata": {},
   "outputs": [],
   "source": []
  },
  {
   "cell_type": "code",
   "execution_count": null,
   "metadata": {},
   "outputs": [],
   "source": []
  }
 ],
 "metadata": {
  "kernelspec": {
   "display_name": "Python 3",
   "language": "python",
   "name": "python3"
  },
  "language_info": {
   "codemirror_mode": {
    "name": "ipython",
    "version": 3
   },
   "file_extension": ".py",
   "mimetype": "text/x-python",
   "name": "python",
   "nbconvert_exporter": "python",
   "pygments_lexer": "ipython3",
   "version": "3.5.2"
  }
 },
 "nbformat": 4,
 "nbformat_minor": 2
}
