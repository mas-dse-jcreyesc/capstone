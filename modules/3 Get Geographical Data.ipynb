{
 "cells": [
  {
   "cell_type": "code",
   "execution_count": 5,
   "metadata": {},
   "outputs": [],
   "source": [
    "import sys,time\n",
    "import import_ipynb\n",
    "from uszipcode import SearchEngine"
   ]
  },
  {
   "cell_type": "code",
   "execution_count": 9,
   "metadata": {},
   "outputs": [
    {
     "name": "stdout",
     "output_type": "stream",
     "text": [
      "Connect to: [mongodb://mongo/irs990]\n",
      "List of databases in MongoDB: ['admin', 'config', 'irs990', 'local']\n",
      "Open db: [irs990]\n",
      "Collection: [2017]\n",
      "1170 documents present\n",
      "Close connection to [irs990] [2017]\n",
      "Success on close for [2017]\n",
      "1170 documents present\n"
     ]
    }
   ],
   "source": [
    "%run ../api/classy990downloads.ipynb\n",
    "\n",
    "\n",
    "year = 2017\n",
    "uri='mongodb://mongo/irs990'\n",
    "\n",
    "db = mongo990( uri=uri, year=year, dump=False)\n",
    "        \n",
    "db.verify()\n",
    "\n"
   ]
  },
  {
   "cell_type": "code",
   "execution_count": 10,
   "metadata": {
    "scrolled": false
   },
   "outputs": [
    {
     "name": "stdout",
     "output_type": "stream",
     "text": [
      "LONG ISLAND REAL ESTATE GROUP INC => False                                                                                                *** MISSING zipcode *** *** MISSING zipcode *** \r"
     ]
    }
   ],
   "source": [
    "search = SearchEngine(simple_zipcode=True) # Load search Engine\n",
    "for x in db.collection.find( {},{ \"_id\": 1, \"/IRS990/USAddress/ZIPCode\": 1, 'OrganizationName':1 } ):\n",
    "    name = x['OrganizationName']\n",
    "    try:\n",
    "        zipcode = x['/IRS990/USAddress/ZIPCode']\n",
    "    except:\n",
    "        zipcode = False\n",
    "    \n",
    "    \n",
    "    padding = '                                              '\n",
    "    sys.stdout.write( '%s%s%s\\r' % (padding,padding,padding) )\n",
    "    sys.stdout.flush() \n",
    "    \n",
    "    \n",
    "    sys.stdout.write( '%s => %s ' % ( name, zipcode ) )\n",
    "\n",
    "    if not zipcode or 'N/A' in zipcode or 'n/a' in zipcode:\n",
    "        sys.stdout.write( '*** MISSING zipcode *** ')\n",
    "        \n",
    "    else:\n",
    "        county = search.by_zipcode(zipcode).county\n",
    "\n",
    "        if county:\n",
    "            try:\n",
    "                sys.stdout.write(x['_id'])\n",
    "                sys.stdout.write(county)\n",
    "                db.collection.update_one( {\"_id\" : x['_id']}, {\"$set\":{'County':county}}, upsert=True )\n",
    "            except Exception as e:\n",
    "                sys.stdout.write( 'ERROR: Problem during MongoDB insert. %s' % e )\n",
    "\n",
    "        else:\n",
    "            sys.stdout.write( ' *** NO DATA ***' )\n",
    "\n",
    "    sys.stdout.write( '\\r' )\n",
    "    sys.stdout.flush() "
   ]
  },
  {
   "cell_type": "code",
   "execution_count": null,
   "metadata": {},
   "outputs": [],
   "source": []
  }
 ],
 "metadata": {
  "kernelspec": {
   "display_name": "Python 3",
   "language": "python",
   "name": "python3"
  },
  "language_info": {
   "codemirror_mode": {
    "name": "ipython",
    "version": 3
   },
   "file_extension": ".py",
   "mimetype": "text/x-python",
   "name": "python",
   "nbconvert_exporter": "python",
   "pygments_lexer": "ipython3",
   "version": "3.5.2"
  }
 },
 "nbformat": 4,
 "nbformat_minor": 2
}
