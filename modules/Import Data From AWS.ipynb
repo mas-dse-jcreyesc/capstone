{
 "cells": [
  {
   "cell_type": "markdown",
   "metadata": {},
   "source": [
    "## Get the Metadata for the 990 IRS files"
   ]
  },
  {
   "cell_type": "code",
   "execution_count": null,
   "metadata": {
    "ExecuteTime": {
     "end_time": "2019-02-28T02:10:40.054413Z",
     "start_time": "2019-02-28T02:10:39.958504Z"
    }
   },
   "outputs": [],
   "source": [
    "import os, sys\n",
    "from joblib import Parallel, delayed\n",
    "\n",
    "# METHOD 1\n",
    "#import import_ipynb\n",
    "#from api.classy990downloads import *\n",
    "\n",
    "# METHOD 2 - This will reload without restarting notebook (debugging)\n",
    "%run ../api/classy990downloads.ipynb"
   ]
  },
  {
   "cell_type": "code",
   "execution_count": null,
   "metadata": {
    "ExecuteTime": {
     "end_time": "2019-02-28T01:42:04.867123Z",
     "start_time": "2019-02-28T01:42:04.863814Z"
    }
   },
   "outputs": [],
   "source": [
    "#Set the YEAR of IRS 990 data that we want to download\n",
    "\n",
    "year = 2017"
   ]
  },
  {
   "cell_type": "code",
   "execution_count": null,
   "metadata": {
    "ExecuteTime": {
     "end_time": "2019-02-28T01:45:43.761201Z",
     "start_time": "2019-02-28T01:42:04.869765Z"
    },
    "scrolled": false
   },
   "outputs": [],
   "source": [
    "# Load the object that parses the IRS 990 index and will provide\n",
    "# each individual form to us\n",
    "\n",
    "#documents = classy990forms(config='validElements.conf', mongo='mongodb://mongo/irs990', debug=False)\n",
    "documents = classy990forms(mongo='mongodb://mongo/irs990', dumpmongo=False, debug=True)\n",
    "documents.year( year )\n",
    "documents"
   ]
  },
  {
   "cell_type": "code",
   "execution_count": null,
   "metadata": {},
   "outputs": [],
   "source": [
    "def readDoc(x):\n",
    "    try:\n",
    "        sys.stdout.write('Dowload EIN:%s\\r' % x.index)\n",
    "        sys.stdout.flush() \n",
    "        x.to_mongo()\n",
    "    except Exception as e:\n",
    "        print('oops: %s' % e)"
   ]
  },
  {
   "cell_type": "code",
   "execution_count": null,
   "metadata": {
    "ExecuteTime": {
     "end_time": "2019-02-28T02:10:30.644813Z",
     "start_time": "2019-02-28T01:52:00.102147Z"
    },
    "scrolled": false
   },
   "outputs": [],
   "source": [
    "#\n",
    "# THIS WILL ALWAYS RUN SINGLETHREAD SINCE OUR OBJECT NEVER RELEASES THE GIL.\n",
    "#\n",
    "\n",
    "# Loop over all forms and upload to the database.\n",
    "num_cores=6\n",
    "#Parallel(n_jobs=num_cores,require='sharedmem')(delayed(readDoc)(x) for x in documents)\n",
    "Parallel(n_jobs=num_cores,backend='threading')(delayed(readDoc)(x) for x in documents)"
   ]
  },
  {
   "cell_type": "code",
   "execution_count": null,
   "metadata": {},
   "outputs": [],
   "source": []
  }
 ],
 "metadata": {
  "kernelspec": {
   "display_name": "Python 3",
   "language": "python",
   "name": "python3"
  },
  "language_info": {
   "codemirror_mode": {
    "name": "ipython",
    "version": 3
   },
   "file_extension": ".py",
   "mimetype": "text/x-python",
   "name": "python",
   "nbconvert_exporter": "python",
   "pygments_lexer": "ipython3",
   "version": "3.6.7"
  }
 },
 "nbformat": 4,
 "nbformat_minor": 2
}
