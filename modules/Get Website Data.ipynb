{
 "cells": [
  {
   "cell_type": "code",
   "execution_count": null,
   "metadata": {},
   "outputs": [],
   "source": [
    "import sys,time\n",
    "import import_ipynb\n",
    "#from api.ParseWeb import ParseWeb\n",
    "\n",
    "%run ../api/ParseWeb.ipynb\n",
    "\n",
    "parser = ParseWeb( verbose=False, debug=False, printSites=False )"
   ]
  },
  {
   "cell_type": "code",
   "execution_count": null,
   "metadata": {},
   "outputs": [],
   "source": [
    "%run ../api/classy990downloads.ipynb\n",
    "\n",
    "\n",
    "year = 2017\n",
    "uri='mongodb://mongo/irs990'\n",
    "\n",
    "db = mongo990( uri=uri, year=year, dump=False)\n",
    "        \n",
    "db.verify()\n",
    "\n"
   ]
  },
  {
   "cell_type": "code",
   "execution_count": null,
   "metadata": {
    "scrolled": false
   },
   "outputs": [],
   "source": [
    "#for x in db.collection.find( \n",
    "#    { '$and': [{'/IRS990/WebsiteAddressTxt': { '$exists': True }}, \n",
    "#      {'/IRS990/WebsiteAddressTxt': { '$ne': 'n/a' }} ,\n",
    "#      {'/IRS990/WebsiteAddressTxt': { '$ne': 'N/A' }} ]\n",
    "#    },\n",
    "#    { \"_id\": 1, \"/IRS990/WebsiteAddressTxt\": 1, 'OrganizationName':1 } ):\n",
    "\n",
    "for x in db.collection.find( {},{ \"_id\": 1, \"/IRS990/WebsiteAddressTxt\": 1, 'OrganizationName':1 } ):\n",
    "    name = x['OrganizationName']\n",
    "    try:\n",
    "        url = x['/IRS990/WebsiteAddressTxt']\n",
    "    except:\n",
    "        url = False\n",
    "    \n",
    "    \n",
    "    padding = '                                              '\n",
    "    sys.stdout.write( '%s%s%s\\r' % (padding,padding,padding) )\n",
    "    sys.stdout.flush() \n",
    "    \n",
    "    \n",
    "    sys.stdout.write( '%s => %s ' % ( name, url ) )\n",
    "\n",
    "    if not url or 'N/A' in url or 'n/a' in url:\n",
    "        sys.stdout.write( '*** MISSING URL *** ')\n",
    "        \n",
    "    else:\n",
    "        websites, text = parser.text( url )\n",
    "        sys.stdout.write( text )\n",
    "\n",
    "        if text:\n",
    "            try:\n",
    "                db.collection.update_one( {\"_id\" : x['_id']}, {\"$set\":{'/IRS990/WebsiteAddressTxt':websites, 'WebTxt':text}}, upsert=True )\n",
    "            except Exception as e:\n",
    "                sys.stdout.write( 'ERROR: Problem during MongoDB insert. %s' % e )\n",
    "\n",
    "        else:\n",
    "            sys.stdout.write( ' *** NO DATA ***' )\n",
    "\n",
    "    sys.stdout.write( '\\r' )\n",
    "    sys.stdout.flush() "
   ]
  }
 ],
 "metadata": {
  "kernelspec": {
   "display_name": "Python 3",
   "language": "python",
   "name": "python3"
  },
  "language_info": {
   "codemirror_mode": {
    "name": "ipython",
    "version": 3
   },
   "file_extension": ".py",
   "mimetype": "text/x-python",
   "name": "python",
   "nbconvert_exporter": "python",
   "pygments_lexer": "ipython3",
   "version": "3.6.7"
  }
 },
 "nbformat": 4,
 "nbformat_minor": 2
}
