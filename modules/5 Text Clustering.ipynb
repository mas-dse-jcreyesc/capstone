{
 "cells": [
  {
   "cell_type": "markdown",
   "metadata": {},
   "source": [
    "# Text Clustering Model"
   ]
  },
  {
   "cell_type": "markdown",
   "metadata": {},
   "source": [
    "Please be aware that this notebook inherits functions located in scripts contained in the `api` directory. You may have to change paths to reflect your local directory structure. Also be wary of passing in the correct path to the data CSV file."
   ]
  },
  {
   "cell_type": "code",
   "execution_count": 1,
   "metadata": {},
   "outputs": [
    {
     "name": "stderr",
     "output_type": "stream",
     "text": [
      "WARNING: Logging before flag parsing goes to stderr.\n",
      "W0607 01:38:35.145275 140253367768896 __init__.py:56] Some hub symbols are not available because TensorFlow version is less than 1.14\n",
      "[nltk_data] Downloading package stopwords to /home/nltk_data...\n",
      "[nltk_data]   Package stopwords is already up-to-date!\n"
     ]
    },
    {
     "name": "stdout",
     "output_type": "stream",
     "text": [
      "importing Jupyter notebook from /home/notebooks/api/mongodb_access.ipynb\n",
      "importing Jupyter notebook from /home/notebooks/api/classy990downloads.ipynb\n",
      "importing Jupyter notebook from /home/notebooks/api/filter_text.ipynb\n",
      "importing Jupyter notebook from /home/notebooks/api/ParseWeb.ipynb\n"
     ]
    },
    {
     "name": "stderr",
     "output_type": "stream",
     "text": [
      "[nltk_data] Downloading package wordnet to /home/nltk_data...\n",
      "[nltk_data]   Package wordnet is already up-to-date!\n",
      "[nltk_data] Downloading package punkt to /home/nltk_data...\n",
      "[nltk_data]   Package punkt is already up-to-date!\n",
      "[nltk_data] Downloading package stopwords to /home/nltk_data...\n",
      "[nltk_data]   Package stopwords is already up-to-date!\n"
     ]
    }
   ],
   "source": [
    "import warnings\n",
    "warnings.filterwarnings('ignore')\n",
    "\n",
    "import os\n",
    "import pdb\n",
    "\n",
    "import numpy as np\n",
    "import pandas as pd\n",
    "import matplotlib.pyplot as plt\n",
    "\n",
    "from api.text_operations import (\n",
    "    clean_data,\n",
    "    encode_text\n",
    ")\n",
    "from api.clustering import create_clusters\n",
    "\n",
    "from pymongo import MongoClient\n",
    "\n",
    "import import_ipynb\n",
    "from api.mongodb_access import *\n",
    "\n",
    "from scipy.spatial.distance import euclidean\n",
    "from sklearn.feature_extraction.text import CountVectorizer\n",
    "from sklearn.decomposition import PCA, LatentDirichletAllocation"
   ]
  },
  {
   "cell_type": "code",
   "execution_count": 2,
   "metadata": {},
   "outputs": [],
   "source": [
    "fname = 'text_clusters.csv'\n",
    "tname = 'text_samples.csv'"
   ]
  },
  {
   "cell_type": "code",
   "execution_count": 3,
   "metadata": {},
   "outputs": [],
   "source": [
    "year = 2017\n",
    "uri = \"mongodb://mongo/tweets\"\n",
    "client = MongoClient(uri)\n",
    "\n",
    "# database\n",
    "db = client['irs990']\n",
    "\n",
    "# collection\n",
    "dbYear = db['%s' % year]"
   ]
  },
  {
   "cell_type": "markdown",
   "metadata": {},
   "source": [
    "## Clustering Code"
   ]
  },
  {
   "cell_type": "code",
   "execution_count": 8,
   "metadata": {
    "scrolled": false
   },
   "outputs": [
    {
     "name": "stdout",
     "output_type": "stream",
     "text": [
      "\n",
      "INFO:tensorflow:Saver not created because there are no variables in the graph to restore\n"
     ]
    },
    {
     "name": "stderr",
     "output_type": "stream",
     "text": [
      "I0607 01:44:00.472745 140253367768896 saver.py:1483] Saver not created because there are no variables in the graph to restore\n"
     ]
    },
    {
     "name": "stdout",
     "output_type": "stream",
     "text": [
      "INFO:tensorflow:Graph was finalized.\n"
     ]
    },
    {
     "name": "stderr",
     "output_type": "stream",
     "text": [
      "I0607 01:44:00.748446 140253367768896 monitored_session.py:222] Graph was finalized.\n"
     ]
    },
    {
     "name": "stdout",
     "output_type": "stream",
     "text": [
      "INFO:tensorflow:Running local_init_op.\n"
     ]
    },
    {
     "name": "stderr",
     "output_type": "stream",
     "text": [
      "I0607 01:44:01.895481 140253367768896 session_manager.py:491] Running local_init_op.\n"
     ]
    },
    {
     "name": "stdout",
     "output_type": "stream",
     "text": [
      "INFO:tensorflow:Done running local_init_op.\n"
     ]
    },
    {
     "name": "stderr",
     "output_type": "stream",
     "text": [
      "I0607 01:44:07.895951 140253367768896 session_manager.py:493] Done running local_init_op.\n"
     ]
    },
    {
     "name": "stdout",
     "output_type": "stream",
     "text": [
      "\n",
      "(76, 512)\n",
      "\n",
      "Explained variance (clustering): 0.2232\n",
      "Scanning: 10\n",
      "Scanning: 20\n",
      "Scanning: 30\n",
      "Scanning: 40\n",
      "Scanning: 50\n",
      "Scanning: 60\n",
      "Scanning: 70\n",
      "Scanning: 80\n",
      "Scanning: 90\n",
      "Scanning: 100\n",
      "Scanning: 110\n",
      "Scanning: 120\n",
      "Scanning: 130\n",
      "Scanning: 140\n",
      "Scanning: 150\n",
      "Scanning: 160\n",
      "Scanning: 170\n",
      "Scanning: 180\n",
      "Scanning: 190\n",
      "Scanning: 200\n",
      "Scanning: 210\n",
      "Scanning: 220\n",
      "Scanning: 230\n",
      "Scanning: 240\n",
      "Scanning: 250\n",
      "Scanning: 260\n",
      "Scanning: 270\n",
      "Scanning: 280\n",
      "Scanning: 290\n",
      "Scanning: 300\n",
      "Scanning: 310\n",
      "Scanning: 320\n",
      "Scanning: 330\n",
      "Scanning: 340\n",
      "Scanning: 350\n",
      "Scanning: 360\n",
      "Scanning: 370\n",
      "Scanning: 380\n",
      "Scanning: 390\n",
      "Scanning: 400\n",
      "Scanning: 410\n",
      "Scanning: 420\n",
      "Scanning: 430\n",
      "Scanning: 440\n",
      "Scanning: 450\n",
      "Scanning: 460\n",
      "Scanning: 470\n",
      "Scanning: 480\n",
      "Scanning: 490\n",
      "Scanning: 500\n",
      "\n",
      "Cluster sizes: [  9  11  13  14  17  18  19  20  21  23  24  26  27  29  30  31  32  34\n",
      "  35  36  37  38  39  40  41  42  43  45  46  48  49  50  52  53  54  55\n",
      "  56  57  58  59  60  61  63  64  65  66  67  68  69  70  71  72  73  74\n",
      "  75  76  77  78  79  80  81  82  83  84  85  86  87  88  89  90  91  92\n",
      "  93  94  95  96  97  98  99 100 101 102 103 104 105 106 107 108 109 110\n",
      " 111 112 113 114 115 116 117 118 119 121 122 123 124 125 126 127 128 129\n",
      " 130 131 132 133 134 135 136 137 138 140 141 142 143 145 146 147 148 149\n",
      " 150 151 152 153 154 155 156 158 159 160 161 162 163 164 165 166 167 168\n",
      " 169 170 171 172 173 175 176 177 178 179 180 181 182 183 185 186 187 188\n",
      " 189 190 191 192 193 194 195 196 198 199 200 201 202 203 204 205 206 207\n",
      " 209 210 211 212 213 214 215 216 217 218 219 220 221 223 224 225 226 227\n",
      " 228 229 231 232 233 234 235 236 237 238 239 240 241 242 243 244 245 246\n",
      " 247 248 249 251 252 253 254 255 256 257 258 259 260 261 262 263 264 265\n",
      " 267 268 269 270 271 272 273 274 275 276 277 278 279 280 281 282 283 284\n",
      " 285 286 287 288 289 290 291 292 293 294 295 296 297 298 299 300 301 302\n",
      " 303 304 305 306 308 309 310 311 312 313 314 315 316 317 318 319 320 321\n",
      " 322 323 324 325 326 327 328 329 330 331 332 333 334 335 336 337 338 339\n",
      " 340 341 342 343 344 345 346 347 348 349 350 351 352 353 354 355 357 358\n",
      " 359 360 361 362 363 364 365 366 367 368 369 370 371 372 373 374 375 376\n",
      " 377 378 379 380 381 382 383 384 385 386 387 388 389 390 391 392 393 394\n",
      " 396 397 398 399 400 401 402 403 404 405 406 407 408 409 410 411 412 413\n",
      " 414 415 416 417 418 419 420 421 422 424 425 426 427 428 429 430 431 432\n",
      " 433 434 436 437 438 439 440 441 442 443 444 445 446 447 448 449 451 452\n",
      " 454 455 456 457 458 459 460 461 462 463 464 465 466 467 468 469 470 471\n",
      " 472 473 474 475 476 477 479 480 481 482 483 484 485 486 487 488 489 490\n",
      " 491 492 493 494 495 496 497 498 499]\n",
      "(76, 13)\n"
     ]
    }
   ],
   "source": [
    "if not os.path.exists(fname) or not os.path.exists(tname):\n",
    "    #--------------------------------------------------------------------------#\n",
    "    # Load data\n",
    "    #--------------------------------------------------------------------------#\n",
    "    #data = pd.read_csv('./SampleData.csv')\n",
    "    #print(data.shape)\n",
    "    \n",
    "    # Clean NaNs\n",
    "    txt_cols = [\n",
    "        'EIN',\n",
    "        'OrganizationName',\n",
    "        '/IRS990/Desc',\n",
    "        '/IRS990/ActivityOrMissionDesc',\n",
    "        '/IRS990/MissionDesc'\n",
    "    ]\n",
    "    \n",
    "    \n",
    "    txt_dict = {}\n",
    "    for name in txt_cols:\n",
    "        txt_dict[name] = 1\n",
    "        \n",
    "    data = get_df( dbYear, txt_dict )\n",
    "    \n",
    "    data.dropna(subset=txt_cols, inplace=True)\n",
    "    #print(data.shape)\n",
    "    #print( data.head() )\n",
    "    \n",
    "    \n",
    "    #--------------------------------------------------------------------------#\n",
    "    # Clean text data\n",
    "    #--------------------------------------------------------------------------#\n",
    "    clean_df = clean_data(data)\n",
    "\n",
    "    \n",
    "    #--------------------------------------------------------------------------#\n",
    "    # Get text encodings\n",
    "    #--------------------------------------------------------------------------#\n",
    "    print()\n",
    "    encoding_dict = encode_text(clean_df)\n",
    "    print()\n",
    "    \n",
    "    \n",
    "    #--------------------------------------------------------------------------#\n",
    "    # Assemble text encodings\n",
    "    #--------------------------------------------------------------------------#\n",
    "    X = np.array([encoding_dict[r['EIN']] for _, r in clean_df.iterrows()])\n",
    "    print(X.shape)\n",
    "    \n",
    "    \n",
    "    #--------------------------------------------------------------------------#\n",
    "    # Dimensionality reduction (clustering)\n",
    "    #--------------------------------------------------------------------------#\n",
    "    pca_dimr = PCA(n_components= min(clean_df.shape))\n",
    "    X_dimr = pca_dimr.fit_transform(X)\n",
    "    expvar_1 = sum(pca_dimr.explained_variance_ratio_)\n",
    "    print('\\nExplained variance (clustering): %.4f'%expvar_1)\n",
    "    \n",
    "    \n",
    "    #--------------------------------------------------------------------------#\n",
    "    # Get cluster results\n",
    "    #--------------------------------------------------------------------------#\n",
    "    Z, gap_metrics, bc, clusters = create_clusters(X_dimr, C=500)\n",
    "    clean_df['cluster'] = clusters\n",
    "    \n",
    "    \n",
    "    #--------------------------------------------------------------------------#\n",
    "    # Get cluster centroids\n",
    "    #--------------------------------------------------------------------------#\n",
    "    centroids = np.zeros((bc[0], X_dimr.shape[1]))\n",
    "    grouped_dfs = clean_df.groupby(by='cluster')\n",
    "    for label, indexes in grouped_dfs.groups.items():\n",
    "        centroids[label-1] = X_dimr[indexes].mean(axis=0)\n",
    "    \n",
    "    \n",
    "    #--------------------------------------------------------------------------#\n",
    "    # Get cluster distances for each sample\n",
    "    #--------------------------------------------------------------------------#\n",
    "    dist_dict = {'cluster_%d'%(i+1):[] for i in range(centroids.shape[0])}\n",
    "\n",
    "    for embed in X_dimr:\n",
    "        for i, centroid in enumerate(centroids):\n",
    "            dist_dict['cluster_%d'%(i+1)].append(euclidean(embed, centroid))\n",
    "    \n",
    "    \n",
    "    #--------------------------------------------------------------------------#\n",
    "    # Integrate distances with cluster dataframe\n",
    "    #--------------------------------------------------------------------------#\n",
    "    dist_df = pd.DataFrame.from_dict(dist_dict, orient='columns')\n",
    "    dist_df = dist_df[sorted(dist_df.columns, key=lambda x: int(x.split('_')[-1]))]\n",
    "\n",
    "    cluster_df = pd.concat([clean_df, dist_df], axis=1)\n",
    "    print(cluster_df.shape)\n",
    "    \n",
    "    \n",
    "    #--------------------------------------------------------------------------#\n",
    "    # Drop unnecessary columns and export\n",
    "    #--------------------------------------------------------------------------#\n",
    "    drop_cols = ['Name', 'Text']\n",
    "    cluster_df.drop(labels=drop_cols, axis=1, inplace=True)\n",
    "    cluster_df.to_csv(fname, index=False)\n",
    "    clean_df.to_csv(tname, index=False)\n",
    "else:\n",
    "    cluster_df = pd.read_csv(fname)\n",
    "    clean_df = pd.read_csv(tname)\n",
    "#------------------------------------------------------------------------------#"
   ]
  },
  {
   "cell_type": "code",
   "execution_count": 9,
   "metadata": {},
   "outputs": [
    {
     "data": {
      "text/html": [
       "<div>\n",
       "<style scoped>\n",
       "    .dataframe tbody tr th:only-of-type {\n",
       "        vertical-align: middle;\n",
       "    }\n",
       "\n",
       "    .dataframe tbody tr th {\n",
       "        vertical-align: top;\n",
       "    }\n",
       "\n",
       "    .dataframe thead th {\n",
       "        text-align: right;\n",
       "    }\n",
       "</style>\n",
       "<table border=\"1\" class=\"dataframe\">\n",
       "  <thead>\n",
       "    <tr style=\"text-align: right;\">\n",
       "      <th></th>\n",
       "      <th>EIN</th>\n",
       "      <th>cluster</th>\n",
       "      <th>cluster_1</th>\n",
       "      <th>cluster_2</th>\n",
       "      <th>cluster_3</th>\n",
       "      <th>cluster_4</th>\n",
       "      <th>cluster_5</th>\n",
       "      <th>cluster_6</th>\n",
       "      <th>cluster_7</th>\n",
       "      <th>cluster_8</th>\n",
       "      <th>cluster_9</th>\n",
       "    </tr>\n",
       "  </thead>\n",
       "  <tbody>\n",
       "    <tr>\n",
       "      <th>0</th>\n",
       "      <td>200509226</td>\n",
       "      <td>1</td>\n",
       "      <td>0.149693</td>\n",
       "      <td>0.416019</td>\n",
       "      <td>0.315549</td>\n",
       "      <td>0.465982</td>\n",
       "      <td>0.873888</td>\n",
       "      <td>0.679275</td>\n",
       "      <td>0.743242</td>\n",
       "      <td>0.553313</td>\n",
       "      <td>0.684305</td>\n",
       "    </tr>\n",
       "    <tr>\n",
       "      <th>1</th>\n",
       "      <td>954820311</td>\n",
       "      <td>8</td>\n",
       "      <td>0.465807</td>\n",
       "      <td>0.484072</td>\n",
       "      <td>0.232574</td>\n",
       "      <td>0.446269</td>\n",
       "      <td>0.604791</td>\n",
       "      <td>0.511461</td>\n",
       "      <td>0.593884</td>\n",
       "      <td>0.178793</td>\n",
       "      <td>0.191230</td>\n",
       "    </tr>\n",
       "    <tr>\n",
       "      <th>2</th>\n",
       "      <td>436050205</td>\n",
       "      <td>3</td>\n",
       "      <td>0.350073</td>\n",
       "      <td>0.477738</td>\n",
       "      <td>0.092696</td>\n",
       "      <td>0.382763</td>\n",
       "      <td>0.720569</td>\n",
       "      <td>0.595714</td>\n",
       "      <td>0.692833</td>\n",
       "      <td>0.313850</td>\n",
       "      <td>0.378068</td>\n",
       "    </tr>\n",
       "    <tr>\n",
       "      <th>3</th>\n",
       "      <td>630797410</td>\n",
       "      <td>5</td>\n",
       "      <td>0.670639</td>\n",
       "      <td>0.481698</td>\n",
       "      <td>0.621218</td>\n",
       "      <td>0.471375</td>\n",
       "      <td>0.089582</td>\n",
       "      <td>0.207935</td>\n",
       "      <td>0.689299</td>\n",
       "      <td>0.612481</td>\n",
       "      <td>0.464187</td>\n",
       "    </tr>\n",
       "    <tr>\n",
       "      <th>4</th>\n",
       "      <td>42662873</td>\n",
       "      <td>9</td>\n",
       "      <td>0.598900</td>\n",
       "      <td>0.525387</td>\n",
       "      <td>0.401770</td>\n",
       "      <td>0.483329</td>\n",
       "      <td>0.440930</td>\n",
       "      <td>0.421563</td>\n",
       "      <td>0.594788</td>\n",
       "      <td>0.280723</td>\n",
       "      <td>0.028110</td>\n",
       "    </tr>\n",
       "  </tbody>\n",
       "</table>\n",
       "</div>"
      ],
      "text/plain": [
       "         EIN  cluster  cluster_1  cluster_2  cluster_3  cluster_4  cluster_5  \\\n",
       "0  200509226        1   0.149693   0.416019   0.315549   0.465982   0.873888   \n",
       "1  954820311        8   0.465807   0.484072   0.232574   0.446269   0.604791   \n",
       "2  436050205        3   0.350073   0.477738   0.092696   0.382763   0.720569   \n",
       "3  630797410        5   0.670639   0.481698   0.621218   0.471375   0.089582   \n",
       "4   42662873        9   0.598900   0.525387   0.401770   0.483329   0.440930   \n",
       "\n",
       "   cluster_6  cluster_7  cluster_8  cluster_9  \n",
       "0   0.679275   0.743242   0.553313   0.684305  \n",
       "1   0.511461   0.593884   0.178793   0.191230  \n",
       "2   0.595714   0.692833   0.313850   0.378068  \n",
       "3   0.207935   0.689299   0.612481   0.464187  \n",
       "4   0.421563   0.594788   0.280723   0.028110  "
      ]
     },
     "execution_count": 9,
     "metadata": {},
     "output_type": "execute_result"
    }
   ],
   "source": [
    "# Final cluster dataframe\n",
    "cluster_df.head()"
   ]
  },
  {
   "cell_type": "code",
   "execution_count": 2,
   "metadata": {},
   "outputs": [
    {
     "ename": "NameError",
     "evalue": "name 'clean_df' is not defined",
     "output_type": "error",
     "traceback": [
      "\u001b[0;31m---------------------------------------------------------------------------\u001b[0m",
      "\u001b[0;31mNameError\u001b[0m                                 Traceback (most recent call last)",
      "\u001b[0;32m<ipython-input-2-e96a6bcee908>\u001b[0m in \u001b[0;36m<module>\u001b[0;34m\u001b[0m\n\u001b[1;32m      1\u001b[0m \u001b[0;31m# Cleaned text dataframe\u001b[0m\u001b[0;34m\u001b[0m\u001b[0;34m\u001b[0m\u001b[0;34m\u001b[0m\u001b[0m\n\u001b[0;32m----> 2\u001b[0;31m \u001b[0mclean_df\u001b[0m\u001b[0;34m.\u001b[0m\u001b[0mhead\u001b[0m\u001b[0;34m(\u001b[0m\u001b[0;34m)\u001b[0m\u001b[0;34m\u001b[0m\u001b[0;34m\u001b[0m\u001b[0m\n\u001b[0m",
      "\u001b[0;31mNameError\u001b[0m: name 'clean_df' is not defined"
     ]
    }
   ],
   "source": [
    "# Cleaned text dataframe\n",
    "clean_df.head()"
   ]
  },
  {
   "cell_type": "code",
   "execution_count": 11,
   "metadata": {},
   "outputs": [
    {
     "name": "stdout",
     "output_type": "stream",
     "text": [
      "Save values for 650880021.0 \r"
     ]
    },
    {
     "data": {
      "text/plain": [
       "True"
      ]
     },
     "execution_count": 11,
     "metadata": {},
     "output_type": "execute_result"
    }
   ],
   "source": [
    "# new collection\n",
    "dbResults = db['%s_text_clusters' % year]\n",
    "\n",
    "# save results\n",
    "put_df( dbResults, cluster_df )"
   ]
  },
  {
   "cell_type": "markdown",
   "metadata": {},
   "source": [
    "## LDA Topic Modeling"
   ]
  },
  {
   "cell_type": "code",
   "execution_count": 12,
   "metadata": {},
   "outputs": [],
   "source": [
    "#------------------------------------------------------------------------------#\n",
    "def return_topics(model, feature_names, no_top_words):\n",
    "    \"\"\"\n",
    "    Function for returning the top words of a model's topics\n",
    "    \"\"\"\n",
    "    topic_dict = {}\n",
    "    for topic_idx, topic in enumerate(model.components_):\n",
    "        w = [feature_names[i] for i in topic.argsort()[:-no_top_words-1:-1]]\n",
    "        topic_dict[topic_idx] = w\n",
    "    \n",
    "    return topic_dict\n",
    "\n",
    "\n",
    "def get_lda_topics(clean_df):\n",
    "    \"\"\"\n",
    "    Function for converting a cleaned text dataframe (with a cluster ID column) \n",
    "    into a dataframe specifying the LDA topic words corresponding to each \n",
    "    cluster ID\n",
    "    \"\"\"\n",
    "    assert 'cluster' in clean_df.columns\n",
    "    \n",
    "    tf_params = {\n",
    "        'max_df': 0.95,\n",
    "        'min_df': 2,\n",
    "        'max_features': 1000,\n",
    "        'stop_words': 'english'\n",
    "    }\n",
    "    lda_params = {\n",
    "        'n_topics': 1, \n",
    "        'max_iter': 5, \n",
    "        'learning_method': 'online', \n",
    "        'learning_offset': 50,\n",
    "        'random_state': 0\n",
    "    }\n",
    "    \n",
    "    topic_dict = {}\n",
    "    \n",
    "    min_id = np.min(clean_df['cluster'])\n",
    "    max_id = np.max(clean_df['cluster'])\n",
    "    \n",
    "    for i in np.arange(min_id, max_id+1):\n",
    "        subset = clean_df[clean_df['cluster']==i]\n",
    "        \n",
    "        # Fit count vectorizer\n",
    "        tf_vectorizer = CountVectorizer(**tf_params)\n",
    "        tf = tf_vectorizer.fit_transform(subset['Text'])\n",
    "        tf_feature_names = tf_vectorizer.get_feature_names()\n",
    "        \n",
    "        # Run LDA\n",
    "        lda = LatentDirichletAllocation(**lda_params).fit(tf)\n",
    "        \n",
    "        # Get top words for topic\n",
    "        wd = return_topics(lda, tf_feature_names, 10)\n",
    "        topic_dict[i] = wd[0]\n",
    "    \n",
    "    # Convert topic dict to dataframe\n",
    "    topic_df = pd.DataFrame.from_dict(topic_dict, orient='columns')\n",
    "    topic_df.columns = ['topic_%s'%c for c in topic_df.columns]\n",
    "    \n",
    "    return topic_df\n",
    "#------------------------------------------------------------------------------#"
   ]
  },
  {
   "cell_type": "code",
   "execution_count": 13,
   "metadata": {},
   "outputs": [
    {
     "ename": "TypeError",
     "evalue": "__init__() got an unexpected keyword argument 'n_topics'",
     "output_type": "error",
     "traceback": [
      "\u001b[0;31m---------------------------------------------------------------------------\u001b[0m",
      "\u001b[0;31mTypeError\u001b[0m                                 Traceback (most recent call last)",
      "\u001b[0;32m<ipython-input-13-bd3e6dbbbae7>\u001b[0m in \u001b[0;36m<module>\u001b[0;34m\u001b[0m\n\u001b[1;32m      1\u001b[0m \u001b[0;31m# Get topic dataframe\u001b[0m\u001b[0;34m\u001b[0m\u001b[0;34m\u001b[0m\u001b[0;34m\u001b[0m\u001b[0m\n\u001b[0;32m----> 2\u001b[0;31m \u001b[0mtd\u001b[0m \u001b[0;34m=\u001b[0m \u001b[0mget_lda_topics\u001b[0m\u001b[0;34m(\u001b[0m\u001b[0mclean_df\u001b[0m\u001b[0;34m)\u001b[0m\u001b[0;34m\u001b[0m\u001b[0;34m\u001b[0m\u001b[0m\n\u001b[0m",
      "\u001b[0;32m<ipython-input-12-b6345f310604>\u001b[0m in \u001b[0;36mget_lda_topics\u001b[0;34m(clean_df)\u001b[0m\n\u001b[1;32m     48\u001b[0m \u001b[0;34m\u001b[0m\u001b[0m\n\u001b[1;32m     49\u001b[0m         \u001b[0;31m# Run LDA\u001b[0m\u001b[0;34m\u001b[0m\u001b[0;34m\u001b[0m\u001b[0;34m\u001b[0m\u001b[0m\n\u001b[0;32m---> 50\u001b[0;31m         \u001b[0mlda\u001b[0m \u001b[0;34m=\u001b[0m \u001b[0mLatentDirichletAllocation\u001b[0m\u001b[0;34m(\u001b[0m\u001b[0;34m**\u001b[0m\u001b[0mlda_params\u001b[0m\u001b[0;34m)\u001b[0m\u001b[0;34m.\u001b[0m\u001b[0mfit\u001b[0m\u001b[0;34m(\u001b[0m\u001b[0mtf\u001b[0m\u001b[0;34m)\u001b[0m\u001b[0;34m\u001b[0m\u001b[0;34m\u001b[0m\u001b[0m\n\u001b[0m\u001b[1;32m     51\u001b[0m \u001b[0;34m\u001b[0m\u001b[0m\n\u001b[1;32m     52\u001b[0m         \u001b[0;31m# Get top words for topic\u001b[0m\u001b[0;34m\u001b[0m\u001b[0;34m\u001b[0m\u001b[0;34m\u001b[0m\u001b[0m\n",
      "\u001b[0;31mTypeError\u001b[0m: __init__() got an unexpected keyword argument 'n_topics'"
     ]
    }
   ],
   "source": [
    "# Get topic dataframe\n",
    "td = get_lda_topics(clean_df)"
   ]
  },
  {
   "cell_type": "code",
   "execution_count": null,
   "metadata": {},
   "outputs": [],
   "source": [
    "# Export topic dataframe\n",
    "td.to_csv('lda_topics.csv', index=False)"
   ]
  },
  {
   "cell_type": "code",
   "execution_count": null,
   "metadata": {},
   "outputs": [],
   "source": [
    "# Visual validation\n",
    "for i, row in clean_df[clean_df['cluster']==1].iterrows():\n",
    "    print('\\n\\n' + row['Text'] + '\\n\\n')"
   ]
  },
  {
   "cell_type": "code",
   "execution_count": null,
   "metadata": {},
   "outputs": [],
   "source": []
  }
 ],
 "metadata": {
  "kernelspec": {
   "display_name": "Python 3",
   "language": "python",
   "name": "python3"
  },
  "language_info": {
   "codemirror_mode": {
    "name": "ipython",
    "version": 3
   },
   "file_extension": ".py",
   "mimetype": "text/x-python",
   "name": "python",
   "nbconvert_exporter": "python",
   "pygments_lexer": "ipython3",
   "version": "3.6.7"
  }
 },
 "nbformat": 4,
 "nbformat_minor": 2
}
